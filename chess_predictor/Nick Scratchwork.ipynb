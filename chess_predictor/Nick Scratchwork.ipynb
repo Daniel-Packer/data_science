{
 "cells": [
  {
   "cell_type": "markdown",
   "metadata": {},
   "source": [
    "# Imports"
   ]
  },
  {
   "cell_type": "code",
   "execution_count": 1,
   "metadata": {},
   "outputs": [],
   "source": [
    "from importlib import reload\n",
    "import functions as f\n",
    "\n",
    "# for data handling\n",
    "import pandas as pd\n",
    "import numpy as np\n",
    "\n",
    "# for plotting\n",
    "import matplotlib.pyplot as plt\n",
    "import seaborn as sns\n",
    "\n",
    "sns.set_style(\"white\")"
   ]
  },
  {
   "cell_type": "code",
   "execution_count": 2,
   "metadata": {},
   "outputs": [],
   "source": [
    "# General\n",
    "\n",
    "from sklearn.model_selection import train_test_split\n",
    "# X_train, X_test, y_train, y_test = train_test_split(X,y,test_size = 0.2,stratify=y)\n",
    "from sklearn.model_selection import StratifiedKFold\n",
    "from sklearn.base import clone\n",
    "from sklearn.pipeline import Pipeline\n",
    "from sklearn.preprocessing import StandardScaler\n",
    "from sklearn.preprocessing import PolynomialFeatures"
   ]
  },
  {
   "cell_type": "code",
   "execution_count": 3,
   "metadata": {},
   "outputs": [],
   "source": [
    "# Regression\n",
    "\n",
    "from sklearn.linear_model import LinearRegression\n",
    "from sklearn.linear_model import Ridge\n",
    "# Ridge(alpha=a, normalize=True)\n",
    "from sklearn.linear_model import Lasso\n",
    "# Lasso(alpha = alpha[i], normalize=True, max_iter = 1000000)\n",
    "from sklearn.linear_model import LogisticRegression\n",
    "from sklearn.metrics import roc_curve\n",
    "from sklearn.metrics import roc_auc_score"
   ]
  },
  {
   "cell_type": "code",
   "execution_count": 4,
   "metadata": {},
   "outputs": [],
   "source": [
    "# Classification\n",
    "\n",
    "from sklearn import tree\n",
    "from sklearn.tree import DecisionTreeClassifier\n",
    "# tree_clf = DecisionTreeClassifier(max_depth = 3)\n",
    "# fig = tree_clf.fit(X, y)\n",
    "# tree.plot_tree(fig,filled = True)\n",
    "# plt.show()\n",
    "# tree_clf.predict_proba(X)\n",
    "from sklearn.ensemble import RandomForestClassifier\n",
    "from sklearn.tree import plot_tree\n",
    "\n",
    "from sklearn.svm import LinearSVC # LinearSVC(C=1, loss=\"hinge\")\n",
    "from sklearn.svm import SVC\n",
    "\n",
    "from sklearn.ensemble import VotingClassifier\n",
    "from sklearn.ensemble import BaggingClassifier\n",
    "from sklearn.ensemble import AdaBoostClassifier\n",
    "\n",
    "from sklearn.neighbors import KNeighborsClassifier\n",
    "# neigh = KNeighborsClassifier(n_neighbors=5)\n",
    "# neigh.fit(X,y)"
   ]
  },
  {
   "cell_type": "code",
   "execution_count": 5,
   "metadata": {},
   "outputs": [],
   "source": [
    "# Unsupervised learning\n",
    "\n",
    "from sklearn.cluster import KMeans\n",
    "from sklearn.cluster import DBSCAN\n",
    "from sklearn.cluster import AgglomerativeClustering\n",
    "\n",
    "from sklearn.decomposition import PCA\n",
    "# pca = PCA(n_components=10)\n",
    "# pca.explained_variance_ratio_\n",
    "# plt.matshow(pca_pipe['pca'].components_, cmap = 'plasma')\n",
    "\n",
    "from sklearn.manifold import MDS\n",
    "# mds = MDS(n_components = 2)\n",
    "# X_mds = mds.fit_transform(X)\n",
    "\n",
    "from sklearn.manifold import LocallyLinearEmbedding\n",
    "# lle = LocallyLinearEmbedding(n_neighbors=100, n_components=2, method='modified', eigen_solver='dense')\n",
    "# X_lle = lle.fit_transform(X)\n",
    "\n",
    "from sklearn.manifold import Isomap\n",
    "# iso = Isomap(n_neighbors=160, n_components=2)\n",
    "# X_iso = iso.fit_transform(X)\n",
    "\n",
    "from sklearn.manifold import TSNE\n",
    "# tsne = TSNE(n_components = 2, perplexity=50)\n",
    "# X_tsne = tsne.fit_transform(X)"
   ]
  },
  {
   "cell_type": "code",
   "execution_count": 7,
   "metadata": {},
   "outputs": [],
   "source": [
    "# For reloading our functions library if anything is changed\n",
    "f = reload(f)"
   ]
  },
  {
   "cell_type": "markdown",
   "metadata": {},
   "source": [
    "# Work"
   ]
  },
  {
   "cell_type": "markdown",
   "metadata": {},
   "source": [
    "## Importing Data"
   ]
  },
  {
   "cell_type": "code",
   "execution_count": 29,
   "metadata": {},
   "outputs": [
    {
     "data": {
      "text/html": [
       "<div>\n",
       "<style scoped>\n",
       "    .dataframe tbody tr th:only-of-type {\n",
       "        vertical-align: middle;\n",
       "    }\n",
       "\n",
       "    .dataframe tbody tr th {\n",
       "        vertical-align: top;\n",
       "    }\n",
       "\n",
       "    .dataframe thead th {\n",
       "        text-align: right;\n",
       "    }\n",
       "</style>\n",
       "<table border=\"1\" class=\"dataframe\">\n",
       "  <thead>\n",
       "    <tr style=\"text-align: right;\">\n",
       "      <th></th>\n",
       "      <th>wn_pair</th>\n",
       "      <th>wn_outpost</th>\n",
       "      <th>wn_repositioning</th>\n",
       "      <th>wn_mobility</th>\n",
       "      <th>wb_pair</th>\n",
       "      <th>wk_side_fianchetto</th>\n",
       "      <th>wq_side_fianchetto</th>\n",
       "      <th>wb_mobility</th>\n",
       "      <th>wlong_diagonal_control</th>\n",
       "      <th>wopposite_color_b</th>\n",
       "      <th>...</th>\n",
       "      <th>num_direct_trades</th>\n",
       "      <th>num_indirect_trades</th>\n",
       "      <th>num_direct_trades_white</th>\n",
       "      <th>num_indirect_trades_white</th>\n",
       "      <th>avg_time_between_direct_trade</th>\n",
       "      <th>exchanges_possible</th>\n",
       "      <th>king_squares_attacked</th>\n",
       "      <th>king_moves</th>\n",
       "      <th>king_moves_weighted</th>\n",
       "      <th>distance_from_king</th>\n",
       "    </tr>\n",
       "  </thead>\n",
       "  <tbody>\n",
       "    <tr>\n",
       "      <th>961</th>\n",
       "      <td>0</td>\n",
       "      <td>0.0</td>\n",
       "      <td>0.098367</td>\n",
       "      <td>1.960000</td>\n",
       "      <td>0</td>\n",
       "      <td>1</td>\n",
       "      <td>1</td>\n",
       "      <td>2.080000</td>\n",
       "      <td>0.960000</td>\n",
       "      <td>-1</td>\n",
       "      <td>...</td>\n",
       "      <td>4</td>\n",
       "      <td>1</td>\n",
       "      <td>2</td>\n",
       "      <td>1</td>\n",
       "      <td>1.00</td>\n",
       "      <td>0.357143</td>\n",
       "      <td>1.360000</td>\n",
       "      <td>1</td>\n",
       "      <td>22</td>\n",
       "      <td>3.318551</td>\n",
       "    </tr>\n",
       "    <tr>\n",
       "      <th>259</th>\n",
       "      <td>0</td>\n",
       "      <td>0.0</td>\n",
       "      <td>0.008154</td>\n",
       "      <td>2.527778</td>\n",
       "      <td>0</td>\n",
       "      <td>0</td>\n",
       "      <td>0</td>\n",
       "      <td>2.277778</td>\n",
       "      <td>0.666667</td>\n",
       "      <td>-1</td>\n",
       "      <td>...</td>\n",
       "      <td>5</td>\n",
       "      <td>0</td>\n",
       "      <td>2</td>\n",
       "      <td>0</td>\n",
       "      <td>1.00</td>\n",
       "      <td>0.896552</td>\n",
       "      <td>0.277778</td>\n",
       "      <td>1</td>\n",
       "      <td>27</td>\n",
       "      <td>3.302751</td>\n",
       "    </tr>\n",
       "    <tr>\n",
       "      <th>358</th>\n",
       "      <td>0</td>\n",
       "      <td>0.0</td>\n",
       "      <td>0.069735</td>\n",
       "      <td>2.541667</td>\n",
       "      <td>0</td>\n",
       "      <td>0</td>\n",
       "      <td>1</td>\n",
       "      <td>1.416667</td>\n",
       "      <td>0.666667</td>\n",
       "      <td>0</td>\n",
       "      <td>...</td>\n",
       "      <td>5</td>\n",
       "      <td>1</td>\n",
       "      <td>1</td>\n",
       "      <td>0</td>\n",
       "      <td>1.25</td>\n",
       "      <td>0.294118</td>\n",
       "      <td>0.416667</td>\n",
       "      <td>1</td>\n",
       "      <td>32</td>\n",
       "      <td>3.515495</td>\n",
       "    </tr>\n",
       "    <tr>\n",
       "      <th>150</th>\n",
       "      <td>0</td>\n",
       "      <td>0.0</td>\n",
       "      <td>0.030756</td>\n",
       "      <td>0.222222</td>\n",
       "      <td>1</td>\n",
       "      <td>0</td>\n",
       "      <td>0</td>\n",
       "      <td>2.962963</td>\n",
       "      <td>0.074074</td>\n",
       "      <td>-1</td>\n",
       "      <td>...</td>\n",
       "      <td>5</td>\n",
       "      <td>1</td>\n",
       "      <td>3</td>\n",
       "      <td>0</td>\n",
       "      <td>1.00</td>\n",
       "      <td>0.593750</td>\n",
       "      <td>0.592593</td>\n",
       "      <td>0</td>\n",
       "      <td>0</td>\n",
       "      <td>3.407355</td>\n",
       "    </tr>\n",
       "    <tr>\n",
       "      <th>190</th>\n",
       "      <td>0</td>\n",
       "      <td>0.0</td>\n",
       "      <td>0.173594</td>\n",
       "      <td>1.976744</td>\n",
       "      <td>0</td>\n",
       "      <td>0</td>\n",
       "      <td>0</td>\n",
       "      <td>3.651163</td>\n",
       "      <td>0.000000</td>\n",
       "      <td>-1</td>\n",
       "      <td>...</td>\n",
       "      <td>3</td>\n",
       "      <td>1</td>\n",
       "      <td>1</td>\n",
       "      <td>1</td>\n",
       "      <td>1.50</td>\n",
       "      <td>0.378378</td>\n",
       "      <td>0.627907</td>\n",
       "      <td>2</td>\n",
       "      <td>60</td>\n",
       "      <td>3.090504</td>\n",
       "    </tr>\n",
       "  </tbody>\n",
       "</table>\n",
       "<p>5 rows × 92 columns</p>\n",
       "</div>"
      ],
      "text/plain": [
       "     wn_pair  wn_outpost  wn_repositioning  wn_mobility  wb_pair  \\\n",
       "961        0         0.0          0.098367     1.960000        0   \n",
       "259        0         0.0          0.008154     2.527778        0   \n",
       "358        0         0.0          0.069735     2.541667        0   \n",
       "150        0         0.0          0.030756     0.222222        1   \n",
       "190        0         0.0          0.173594     1.976744        0   \n",
       "\n",
       "     wk_side_fianchetto  wq_side_fianchetto  wb_mobility  \\\n",
       "961                   1                   1     2.080000   \n",
       "259                   0                   0     2.277778   \n",
       "358                   0                   1     1.416667   \n",
       "150                   0                   0     2.962963   \n",
       "190                   0                   0     3.651163   \n",
       "\n",
       "     wlong_diagonal_control  wopposite_color_b  ...  num_direct_trades  \\\n",
       "961                0.960000                 -1  ...                  4   \n",
       "259                0.666667                 -1  ...                  5   \n",
       "358                0.666667                  0  ...                  5   \n",
       "150                0.074074                 -1  ...                  5   \n",
       "190                0.000000                 -1  ...                  3   \n",
       "\n",
       "     num_indirect_trades  num_direct_trades_white  num_indirect_trades_white  \\\n",
       "961                    1                        2                          1   \n",
       "259                    0                        2                          0   \n",
       "358                    1                        1                          0   \n",
       "150                    1                        3                          0   \n",
       "190                    1                        1                          1   \n",
       "\n",
       "     avg_time_between_direct_trade  exchanges_possible  king_squares_attacked  \\\n",
       "961                           1.00            0.357143               1.360000   \n",
       "259                           1.00            0.896552               0.277778   \n",
       "358                           1.25            0.294118               0.416667   \n",
       "150                           1.00            0.593750               0.592593   \n",
       "190                           1.50            0.378378               0.627907   \n",
       "\n",
       "     king_moves  king_moves_weighted  distance_from_king  \n",
       "961           1                   22            3.318551  \n",
       "259           1                   27            3.302751  \n",
       "358           1                   32            3.515495  \n",
       "150           0                    0            3.407355  \n",
       "190           2                   60            3.090504  \n",
       "\n",
       "[5 rows x 92 columns]"
      ]
     },
     "execution_count": 29,
     "metadata": {},
     "output_type": "execute_result"
    }
   ],
   "source": [
    "df = pd.read_csv('Nicks_magnus_nihal.csv')\n",
    "df_copy = df.copy()\n",
    "X = df_copy.drop(columns = ['game_id','white_player'])\n",
    "y = df_copy['white_player']\n",
    "X_train, X_test, y_train, y_test = train_test_split(X,y,test_size = 0.2,stratify=y)\n",
    "X_train.head()"
   ]
  },
  {
   "cell_type": "code",
   "execution_count": 32,
   "metadata": {},
   "outputs": [
    {
     "data": {
      "text/plain": [
       "961     Nihal\n",
       "259    Magnus\n",
       "358    Magnus\n",
       "150    Magnus\n",
       "190    Magnus\n",
       "Name: white_player, dtype: object"
      ]
     },
     "execution_count": 32,
     "metadata": {},
     "output_type": "execute_result"
    }
   ],
   "source": [
    "y_train.head()"
   ]
  },
  {
   "cell_type": "markdown",
   "metadata": {},
   "source": [
    "## Dimensionality reduction"
   ]
  },
  {
   "cell_type": "markdown",
   "metadata": {},
   "source": [
    "### PCA"
   ]
  },
  {
   "cell_type": "code",
   "execution_count": 118,
   "metadata": {},
   "outputs": [],
   "source": [
    "n = 50\n",
    "pca_pipe = Pipeline([('scale',StandardScaler()), ('pca',PCA(n_components = n))])\n",
    "X_train_pipe = pca_pipe.fit_transform(X_train,y_train)"
   ]
  },
  {
   "cell_type": "code",
   "execution_count": 119,
   "metadata": {},
   "outputs": [
    {
     "data": {
      "text/plain": [
       "[<matplotlib.lines.Line2D at 0x18bd98f2c70>]"
      ]
     },
     "execution_count": 119,
     "metadata": {},
     "output_type": "execute_result"
    },
    {
     "data": {
      "image/png": "[encoded data removed]",
      "text/plain": [
       "<Figure size 432x288 with 1 Axes>"
      ]
     },
     "metadata": {},
     "output_type": "display_data"
    }
   ],
   "source": [
    "plt.plot(np.arange(1,n+1),np.cumsum(pca_pipe['pca'].explained_variance_ratio_))"
   ]
  },
  {
   "cell_type": "code",
   "execution_count": 120,
   "metadata": {},
   "outputs": [
    {
     "data": {
      "image/png": "[encoded data removed]",
      "text/plain": [
       "<Figure size 535.68x288 with 1 Axes>"
      ]
     },
     "metadata": {},
     "output_type": "display_data"
    }
   ],
   "source": [
    "plt.matshow(pca_pipe['pca'].components_, cmap = 'plasma')\n",
    "plt.show()"
   ]
  },
  {
   "cell_type": "markdown",
   "metadata": {},
   "source": [
    "## Classification"
   ]
  },
  {
   "cell_type": "markdown",
   "metadata": {},
   "source": [
    "### Nearest Neighbors"
   ]
  },
  {
   "cell_type": "code",
   "execution_count": 137,
   "metadata": {},
   "outputs": [
    {
     "data": {
      "text/plain": [
       "Pipeline(memory=None,\n",
       "         steps=[('scaler',\n",
       "                 StandardScaler(copy=True, with_mean=True, with_std=True)),\n",
       "                ('neigh',\n",
       "                 KNeighborsClassifier(algorithm='auto', leaf_size=30,\n",
       "                                      metric='minkowski', metric_params=None,\n",
       "                                      n_jobs=None, n_neighbors=9, p=2,\n",
       "                                      weights='uniform'))],\n",
       "         verbose=False)"
      ]
     },
     "execution_count": 137,
     "metadata": {},
     "output_type": "execute_result"
    }
   ],
   "source": [
    "neigh_pipe = Pipeline([('scaler',StandardScaler()),('neigh',KNeighborsClassifier(n_neighbors = 9))])\n",
    "neigh_pipe.fit(X_train,y_train)"
   ]
  },
  {
   "cell_type": "code",
   "execution_count": 138,
   "metadata": {},
   "outputs": [],
   "source": [
    "pred = neigh_pipe.predict(X_test)"
   ]
  },
  {
   "cell_type": "code",
   "execution_count": 139,
   "metadata": {},
   "outputs": [
    {
     "data": {
      "text/plain": [
       "0.6700507614213198"
      ]
     },
     "execution_count": 139,
     "metadata": {},
     "output_type": "execute_result"
    }
   ],
   "source": [
    "sum(pred==y_test)/len(y_test)"
   ]
  },
  {
   "cell_type": "markdown",
   "metadata": {},
   "source": [
    "### Decision Tree"
   ]
  },
  {
   "cell_type": "code",
   "execution_count": 157,
   "metadata": {},
   "outputs": [
    {
     "data": {
      "image/png": "[encoded data removed]",
      "text/plain": [
       "<Figure size 720x720 with 1 Axes>"
      ]
     },
     "metadata": {},
     "output_type": "display_data"
    }
   ],
   "source": [
    "tree_clf = DecisionTreeClassifier(max_depth = 3)\n",
    "fig, ax = plt.subplots(figsize=(10, 10))\n",
    "fig = tree_clf.fit(X_train, y_train)\n",
    "tree.plot_tree(fig,filled = True,ax=ax)\n",
    "plt.show()"
   ]
  },
  {
   "cell_type": "code",
   "execution_count": 158,
   "metadata": {},
   "outputs": [
    {
     "data": {
      "text/plain": [
       "0.7055837563451777"
      ]
     },
     "execution_count": 158,
     "metadata": {},
     "output_type": "execute_result"
    }
   ],
   "source": [
    "pred = tree_clf.predict(X_test)\n",
    "sum(pred==y_test)/len(y_test)"
   ]
  },
  {
   "cell_type": "code",
   "execution_count": 160,
   "metadata": {},
   "outputs": [],
   "source": [
    "X_colns = X.columns"
   ]
  },
  {
   "cell_type": "code",
   "execution_count": 162,
   "metadata": {},
   "outputs": [
    {
     "name": "stdout",
     "output_type": "stream",
     "text": [
      "23 A\n",
      "29 C#\n",
      "27 A#\n",
      "52 wb_rank\n",
      "10 b_p_coherency\n",
      "27 A#\n",
      "27 A#\n"
     ]
    }
   ],
   "source": [
    "i=23\n",
    "print(i,X_colns[i])\n",
    "i=29\n",
    "print(i,X_colns[i])\n",
    "i=27\n",
    "print(i,X_colns[i])\n",
    "i=52\n",
    "print(i,X_colns[i])\n",
    "i=10\n",
    "print(i,X_colns[i])\n",
    "i=27\n",
    "print(i,X_colns[i])\n",
    "i=27\n",
    "print(i,X_colns[i])"
   ]
  },
  {
   "cell_type": "markdown",
   "metadata": {},
   "source": [
    "So the decision tree is finding that the opening is pretty important for prediction"
   ]
  },
  {
   "cell_type": "markdown",
   "metadata": {},
   "source": [
    "### Custom: by opening"
   ]
  },
  {
   "cell_type": "markdown",
   "metadata": {},
   "source": [
    "For each opening type (A,B,C,D,E) I'll classify it as Magnus or Nihal (based on who did that opening the most often). Then check how predictive that is."
   ]
  },
  {
   "cell_type": "code",
   "execution_count": 184,
   "metadata": {},
   "outputs": [
    {
     "data": {
      "text/plain": [
       "[0.27525252525252525,\n",
       " 0.20202020202020202,\n",
       " 0.23232323232323232,\n",
       " 0.18686868686868688,\n",
       " 0.10353535353535359]"
      ]
     },
     "execution_count": 184,
     "metadata": {},
     "output_type": "execute_result"
    }
   ],
   "source": [
    "magnus_openings = [0,0,0,0,0]\n",
    "magnus_train = X_train.loc[y_train == 'Magnus']\n",
    "magnus_openings[0] = sum(magnus_train['A'] == 1) / len(magnus_train)\n",
    "magnus_openings[1] = sum(magnus_train['B'] == 1) / len(magnus_train)\n",
    "magnus_openings[2] = sum(magnus_train['C'] == 1) / len(magnus_train)\n",
    "magnus_openings[3] = sum(magnus_train['D'] == 1) / len(magnus_train)\n",
    "magnus_openings[4] = 1 - sum(magnus_openings)\n",
    "magnus_openings"
   ]
  },
  {
   "cell_type": "code",
   "execution_count": 185,
   "metadata": {},
   "outputs": [
    {
     "data": {
      "text/plain": [
       "[0.6041131105398457,\n",
       " 0.07455012853470437,\n",
       " 0.038560411311053984,\n",
       " 0.1953727506426735,\n",
       " 0.08740359897172234]"
      ]
     },
     "execution_count": 185,
     "metadata": {},
     "output_type": "execute_result"
    }
   ],
   "source": [
    "nihal_openings = [0,0,0,0,0]\n",
    "nihal_train = X_train.loc[y_train == 'Nihal']\n",
    "nihal_openings[0] = sum(nihal_train['A'] == 1) / len(nihal_train)\n",
    "nihal_openings[1] = sum(nihal_train['B'] == 1) / len(nihal_train)\n",
    "nihal_openings[2] = sum(nihal_train['C'] == 1) / len(nihal_train)\n",
    "nihal_openings[3] = sum(nihal_train['D'] == 1) / len(nihal_train)\n",
    "nihal_openings[4] = 1 - sum(nihal_openings)\n",
    "nihal_openings"
   ]
  },
  {
   "cell_type": "code",
   "execution_count": 186,
   "metadata": {},
   "outputs": [
    {
     "data": {
      "text/plain": [
       "['Nihal', 'Magnus', 'Magnus', 'Nihal', 'Magnus']"
      ]
     },
     "execution_count": 186,
     "metadata": {},
     "output_type": "execute_result"
    }
   ],
   "source": [
    "opening_pred = ['','','','','']\n",
    "for i in range(5):\n",
    "    if magnus_openings[i] > nihal_openings[i]:\n",
    "        opening_pred[i] = 'Magnus'\n",
    "    else:\n",
    "        opening_pred[i] = 'Nihal'\n",
    "opening_pred"
   ]
  },
  {
   "cell_type": "code",
   "execution_count": 210,
   "metadata": {},
   "outputs": [],
   "source": [
    "pred = y_test.copy()\n",
    "for i in range(len(X_test)):\n",
    "    openings = list(X_test[['A','B','C','D']].iloc[i])\n",
    "    openings.append(1-sum(openings))\n",
    "    opening_index = np.argmax(openings)\n",
    "    pred.iloc[i] = opening_pred[opening_index]"
   ]
  },
  {
   "cell_type": "code",
   "execution_count": 211,
   "metadata": {},
   "outputs": [
    {
     "data": {
      "text/plain": [
       "1277    Magnus\n",
       "8        Nihal\n",
       "1840     Nihal\n",
       "1565     Nihal\n",
       "743     Magnus\n",
       "         ...  \n",
       "1285     Nihal\n",
       "1297     Nihal\n",
       "1969    Magnus\n",
       "1766     Nihal\n",
       "24      Magnus\n",
       "Name: white_player, Length: 197, dtype: object"
      ]
     },
     "execution_count": 211,
     "metadata": {},
     "output_type": "execute_result"
    }
   ],
   "source": [
    "pred"
   ]
  },
  {
   "cell_type": "code",
   "execution_count": 213,
   "metadata": {},
   "outputs": [
    {
     "data": {
      "text/plain": [
       "0.700507614213198"
      ]
     },
     "execution_count": 213,
     "metadata": {},
     "output_type": "execute_result"
    }
   ],
   "source": [
    "sum(pred==y_test)/len(y_test)"
   ]
  },
  {
   "cell_type": "code",
   "execution_count": 219,
   "metadata": {},
   "outputs": [],
   "source": [
    "import sklearn\n",
    "\n",
    "guesses = pred\n",
    "actual = y_test\n",
    "\n",
    "labels = ['Magnus','Nihal']\n",
    "\n",
    "c_matrix = np.round(sklearn.metrics.confusion_matrix(actual,guesses,labels = labels) / len(y_test),2)"
   ]
  },
  {
   "cell_type": "code",
   "execution_count": 220,
   "metadata": {},
   "outputs": [
    {
     "data": {
      "image/png": "[encoded data removed]",
      "text/plain": [
       "<Figure size 432x288 with 2 Axes>"
      ]
     },
     "metadata": {},
     "output_type": "display_data"
    }
   ],
   "source": [
    "fig, ax = plt.subplots()\n",
    "im = ax.imshow(c_matrix)\n",
    "\n",
    "# We want to show all ticks...\n",
    "ax.set_xticks(np.arange(len(labels)))\n",
    "ax.set_yticks(np.arange(len(labels)))\n",
    "# ... and label them with the respective list entries\n",
    "ax.set_xticklabels(labels)\n",
    "ax.set_yticklabels(labels)\n",
    "\n",
    "# Axes labels\n",
    "plt.ylabel('Actual')\n",
    "plt.xlabel('Predicted')\n",
    "\n",
    "# Loop over data dimensions and create text annotations.\n",
    "for i in range(len(labels)):\n",
    "    for j in range(len(labels)):\n",
    "        text = ax.text(j, i, c_matrix[i, j],\n",
    "                       ha=\"center\", va=\"center\", color=\"w\")\n",
    "\n",
    "fig.colorbar(im)\n",
    "        \n",
    "ax.set_title(\"Confusion matrix\")\n",
    "fig.tight_layout()\n",
    "plt.show()"
   ]
  },
  {
   "cell_type": "code",
   "execution_count": null,
   "metadata": {},
   "outputs": [],
   "source": []
  }
 ],
 "metadata": {
  "kernelspec": {
   "display_name": "Python 3",
   "language": "python",
   "name": "python3"
  },
  "language_info": {
   "codemirror_mode": {
    "name": "ipython",
    "version": 3
   },
   "file_extension": ".py",
   "mimetype": "text/x-python",
   "name": "python",
   "nbconvert_exporter": "python",
   "pygments_lexer": "ipython3",
   "version": "3.8.2"
  }
 },
 "nbformat": 4,
 "nbformat_minor": 4
}
