{
 "cells": [
  {
   "cell_type": "markdown",
   "metadata": {},
   "source": [
    "- Squares they attack - M, no duplicates?\n",
    "- Available moves - M, average frac of (hypothetical moves over actual moves) over all pieces\n",
    "- Average rank - M, easy\n",
    "- Piece density - M, average # adjacent pieces over all pieces\n",
    "- Side (K/Q) of piece majority - M, center of mass\n",
    "\n",
    "- All the previous, but relative to opponent?\n",
    "- Material? Integrating the fractional material difference? Probably wouldn't give much info at all.\n",
    "\n",
    "Track various clusters of squares:\n",
    "- Middle 4\n",
    "- Corner 6s\n",
    "- Etc"
   ]
  },
  {
   "cell_type": "code",
   "execution_count": 25,
   "metadata": {},
   "outputs": [],
   "source": [
    "from importlib import reload\n",
    "import functions as f\n",
    "import numpy as np\n",
    "f = reload(f)"
   ]
  },
  {
   "cell_type": "code",
   "execution_count": 207,
   "metadata": {},
   "outputs": [],
   "source": [
    "# Make test data\n",
    "f.make_test_data('Feature_Test_Data.json', 'nickthetalldude', 10, 'blitz')"
   ]
  },
  {
   "cell_type": "code",
   "execution_count": 44,
   "metadata": {},
   "outputs": [],
   "source": [
    "# Import test data\n",
    "import json\n",
    "game_dict = json.load(open('Feature_Test_Data.json'))[1]"
   ]
  },
  {
   "cell_type": "code",
   "execution_count": 146,
   "metadata": {
    "scrolled": false
   },
   "outputs": [],
   "source": [
    "for knight in game_dict['black_pieces'][4]['N']:\n",
    "    if (knight[1] < 4):\n",
    "        print(knight)"
   ]
  },
  {
   "cell_type": "code",
   "execution_count": 77,
   "metadata": {},
   "outputs": [
    {
     "ename": "IndentationError",
     "evalue": "expected an indented block (<ipython-input-150-aba69bf376d6>, line 12)",
     "output_type": "error",
     "traceback": [
      "\u001b[1;36m  File \u001b[1;32m\"<ipython-input-150-aba69bf376d6>\"\u001b[1;36m, line \u001b[1;32m12\u001b[0m\n\u001b[1;33m    print(attack_counter)\u001b[0m\n\u001b[1;37m        ^\u001b[0m\n\u001b[1;31mIndentationError\u001b[0m\u001b[1;31m:\u001b[0m expected an indented block\n"
     ]
    }
   ],
   "source": [
    "turn = 2\n",
    "turn = turn*2\n",
    "print(turn)\n",
    "board = chess.Board(game_dict['board_states_FEN'][turn])\n",
    "attack_counter = 0\n",
    "for move in board.legal_moves:\n",
    "    #print(move)\n",
    "    #print(board.piece_at(move.from_square))\n",
    "    #if (str(board.piece_at(move.from_square)) == 'N'):\n",
    "     #   attack_counter += 1\n",
    "        \n",
    "print(attack_counter)"
   ]
  },
  {
   "cell_type": "code",
   "execution_count": 151,
   "metadata": {
    "scrolled": false
   },
   "outputs": [
    {
     "name": "stdout",
     "output_type": "stream",
     "text": [
      "White Player: nickthetalldude\n",
      "Black Player: chet_prod\n",
      "Midgame: 19\n",
      "Endgame: 33\n"
     ]
    },
    {
     "data": {
      "application/vnd.jupyter.widget-view+json": {
       "model_id": "ddcc4eb300cc467a8472191e60cc15ed",
       "version_major": 2,
       "version_minor": 0
      },
      "text/plain": [
       "interactive(children=(IntSlider(value=0, description='i', max=81), Output()), _dom_classes=('widget-interact',…"
      ]
     },
     "metadata": {},
     "output_type": "display_data"
    },
    {
     "name": "stdout",
     "output_type": "stream",
     "text": [
      "Features:\n",
      "white_development -> [ 0.          0.          1.          0.          0.          0.\n",
      " 50.          0.          0.          0.14285714]\n",
      "white_castling -> [0.029411764705882353, 1, 0, 0, 0.6666666666666667]\n",
      "white_pawns -> [2.8, 2.1020721103679763, 1.0714285714285714, 0.0, 0.0, 0.1428571428571428, 1.4170918367346939, 0.07142857142857142, 0.0, 0.1705197919704277, 0.5, 2.5]\n"
     ]
    }
   ],
   "source": [
    "f = reload(f)\n",
    "\n",
    "# Check a feature\n",
    "f.feature_test(game_dict,[f.white_development,f.white_castling,f.white_pawns])"
   ]
  },
  {
   "cell_type": "code",
   "execution_count": null,
   "metadata": {},
   "outputs": [],
   "source": []
  }
 ],
 "metadata": {
  "kernelspec": {
   "display_name": "Python 3",
   "language": "python",
   "name": "python3"
  },
  "language_info": {
   "codemirror_mode": {
    "name": "ipython",
    "version": 3
   },
   "file_extension": ".py",
   "mimetype": "text/x-python",
   "name": "python",
   "nbconvert_exporter": "python",
   "pygments_lexer": "ipython3",
   "version": "3.7.6"
  }
 },
 "nbformat": 4,
 "nbformat_minor": 4
}
