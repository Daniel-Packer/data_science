{
 "cells": [
  {
   "cell_type": "markdown",
   "metadata": {},
   "source": [
    "Given a game_dict, finds indices for the turns where white/black first had 2 minor pieces, or -1 if this never happens\n",
    "Returns `white_board_index, black_board_index, white_turn_index, black_turn_index`\n",
    "\n",
    "Board indices index 'board_states' and 'board_states_FEN', turn indices index the list of 'white_moves' or 'black_moves'"
   ]
  },
  {
   "cell_type": "code",
   "execution_count": null,
   "metadata": {},
   "outputs": [],
   "source": [
    "def two_minor_pieces_turns(game_dict):\n",
    "    # Get the indices for board states\n",
    "    white_board_index = -1\n",
    "    black_board_index = -1\n",
    "    \n",
    "    # Iterate over board positions\n",
    "    for i in len(game_dict['board']):\n",
    "        board = game_dict['board'][i]\n",
    "        \n",
    "        # Check where the pieces are\n",
    "        white_pieces, black_pieces = get_piece_locations(board)\n",
    "        \n",
    "        # If a board index is still zero, see if we have 2 minor pieces\n",
    "        if (white_board_index == 0) & (len(white_pieces['N']) + len(white_pieces['B']) == 2):\n",
    "            white_board_index = i\n",
    "        if (black_board_index == 0) & (len(black_pieces['N']) + len(black_pieces['B']) == 2):\n",
    "            black_board_index = i\n",
    "            \n",
    "        # If both board indices are nonzero we can stop iterating\n",
    "        if white_board_index & black_board_index:\n",
    "            break\n",
    "    \n",
    "    # Now convert the board indices to turn indices for black and white\n",
    "    if white_board_index == -1:\n",
    "        white_turn_index = -1\n",
    "    else:\n",
    "        white_turn_index = white_board_index / 2\n",
    "        \n",
    "    if black_board_index == -1:\n",
    "        black_turn_index = -1\n",
    "    else:\n",
    "        black_turn_index = (black_board_index - 1) / 2\n",
    "    \n",
    "    return white_board_index, black_board_index, white_turn_index, black_turn_index"
   ]
  }
 ],
 "metadata": {
  "kernelspec": {
   "display_name": "Python 3",
   "language": "python",
   "name": "python3"
  },
  "language_info": {
   "codemirror_mode": {
    "name": "ipython",
    "version": 3
   },
   "file_extension": ".py",
   "mimetype": "text/x-python",
   "name": "python",
   "nbconvert_exporter": "python",
   "pygments_lexer": "ipython3",
   "version": "3.8.2"
  }
 },
 "nbformat": 4,
 "nbformat_minor": 4
}
