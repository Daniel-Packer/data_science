{
 "cells": [
  {
   "cell_type": "markdown",
   "metadata": {},
   "source": [
    "# Imports"
   ]
  },
  {
   "cell_type": "code",
   "execution_count": 1,
   "metadata": {},
   "outputs": [],
   "source": [
    "from importlib import reload\n",
    "import functions as f\n",
    "\n",
    "# for data handling \n",
    "import pandas as pd\n",
    "import numpy as np\n",
    "\n",
    "# for plotting\n",
    "import matplotlib.pyplot as plt\n",
    "import seaborn as sns\n",
    "\n",
    "sns.set_style(\"white\")"
   ]
  },
  {
   "cell_type": "code",
   "execution_count": 2,
   "metadata": {},
   "outputs": [],
   "source": [
    "# General\n",
    "\n",
    "from sklearn.model_selection import train_test_split\n",
    "# X_train, X_test, y_train, y_test = train_test_split(X,y,test_size = 0.2,stratify=y)\n",
    "from sklearn.model_selection import StratifiedKFold\n",
    "from sklearn.base import clone\n",
    "from sklearn.pipeline import Pipeline\n",
    "from sklearn.preprocessing import StandardScaler\n",
    "from sklearn.preprocessing import PolynomialFeatures"
   ]
  },
  {
   "cell_type": "code",
   "execution_count": 3,
   "metadata": {},
   "outputs": [],
   "source": [
    "# Regression\n",
    "\n",
    "from sklearn.linear_model import LinearRegression\n",
    "from sklearn.linear_model import Ridge\n",
    "# Ridge(alpha=a, normalize=True)\n",
    "from sklearn.linear_model import Lasso\n",
    "# Lasso(alpha = alpha[i], normalize=True, max_iter = 1000000)\n",
    "from sklearn.linear_model import LogisticRegression\n",
    "from sklearn.metrics import roc_curve\n",
    "from sklearn.metrics import roc_auc_score"
   ]
  },
  {
   "cell_type": "code",
   "execution_count": 87,
   "metadata": {},
   "outputs": [],
   "source": [
    "# Classification\n",
    "\n",
    "from sklearn import tree\n",
    "from sklearn.tree import DecisionTreeClassifier\n",
    "from sklearn.ensemble import RandomForestClassifier\n",
    "from sklearn.tree import plot_tree\n",
    "\n",
    "from sklearn.svm import LinearSVC # LinearSVC(C=1, loss=\"hinge\")\n",
    "from sklearn.svm import SVC\n",
    "\n",
    "from sklearn.ensemble import VotingClassifier\n",
    "from sklearn.ensemble import BaggingClassifier\n",
    "from sklearn.ensemble import AdaBoostClassifier\n",
    "\n",
    "from sklearn.neighbors import KNeighborsClassifier\n",
    "# neigh = KNeighborsClassifier(n_neighbors=5)\n",
    "# neigh.fit(X,y)"
   ]
  },
  {
   "cell_type": "code",
   "execution_count": 5,
   "metadata": {},
   "outputs": [],
   "source": [
    "# Unsupervised learning\n",
    "\n",
    "from sklearn.cluster import KMeans\n",
    "from sklearn.cluster import DBSCAN\n",
    "from sklearn.cluster import AgglomerativeClustering\n",
    "\n",
    "from sklearn.decomposition import PCA\n",
    "# pca = PCA(n_components=10)\n",
    "# pca.explained_variance_ratio_\n",
    "# plt.matshow(pca_pipe['pca'].components_, cmap = 'plasma')\n",
    "\n",
    "from sklearn.manifold import MDS\n",
    "# mds = MDS(n_components = 2)\n",
    "# X_mds = mds.fit_transform(X)\n",
    "\n",
    "from sklearn.manifold import LocallyLinearEmbedding\n",
    "# lle = LocallyLinearEmbedding(n_neighbors=100, n_components=2, method='modified', eigen_solver='dense')\n",
    "# X_lle = lle.fit_transform(X)\n",
    "\n",
    "from sklearn.manifold import Isomap\n",
    "# iso = Isomap(n_neighbors=160, n_components=2)\n",
    "# X_iso = iso.fit_transform(X)\n",
    "\n",
    "from sklearn.manifold import TSNE\n",
    "# tsne = TSNE(n_components = 2, perplexity=50)\n",
    "# X_tsne = tsne.fit_transform(X)"
   ]
  },
  {
   "cell_type": "code",
   "execution_count": 7,
   "metadata": {},
   "outputs": [],
   "source": [
    "# For reloading our functions library if anything is changed\n",
    "f = reload(f)"
   ]
  },
  {
   "cell_type": "markdown",
   "metadata": {},
   "source": [
    "# Work"
   ]
  },
  {
   "cell_type": "markdown",
   "metadata": {},
   "source": [
    "## Importing Data"
   ]
  },
  {
   "cell_type": "code",
   "execution_count": 6,
   "metadata": {},
   "outputs": [
    {
     "data": {
      "text/html": [
       "<div>\n",
       "<style scoped>\n",
       "    .dataframe tbody tr th:only-of-type {\n",
       "        vertical-align: middle;\n",
       "    }\n",
       "\n",
       "    .dataframe tbody tr th {\n",
       "        vertical-align: top;\n",
       "    }\n",
       "\n",
       "    .dataframe thead th {\n",
       "        text-align: right;\n",
       "    }\n",
       "</style>\n",
       "<table border=\"1\" class=\"dataframe\">\n",
       "  <thead>\n",
       "    <tr style=\"text-align: right;\">\n",
       "      <th></th>\n",
       "      <th>game_id</th>\n",
       "      <th>white_player</th>\n",
       "      <th>wn_pair</th>\n",
       "      <th>wn_outpost</th>\n",
       "      <th>wn_repositioning</th>\n",
       "      <th>wn_mobility</th>\n",
       "      <th>wb_pair</th>\n",
       "      <th>wk_side_fianchetto</th>\n",
       "      <th>wq_side_fianchetto</th>\n",
       "      <th>wb_mobility</th>\n",
       "      <th>...</th>\n",
       "      <th>num_direct_trades</th>\n",
       "      <th>num_indirect_trades</th>\n",
       "      <th>num_direct_trades_white</th>\n",
       "      <th>num_indirect_trades_white</th>\n",
       "      <th>avg_time_between_direct_trade</th>\n",
       "      <th>exchanges_possible</th>\n",
       "      <th>king_squares_attacked</th>\n",
       "      <th>king_moves</th>\n",
       "      <th>king_moves_weighted</th>\n",
       "      <th>distance_from_king</th>\n",
       "    </tr>\n",
       "  </thead>\n",
       "  <tbody>\n",
       "    <tr>\n",
       "      <th>0</th>\n",
       "      <td>https://lichess.org/mj97pdo9</td>\n",
       "      <td>mutdpro</td>\n",
       "      <td>0</td>\n",
       "      <td>0.00</td>\n",
       "      <td>0.227137</td>\n",
       "      <td>2.276316</td>\n",
       "      <td>0</td>\n",
       "      <td>0</td>\n",
       "      <td>0</td>\n",
       "      <td>3.802632</td>\n",
       "      <td>...</td>\n",
       "      <td>5</td>\n",
       "      <td>1</td>\n",
       "      <td>4</td>\n",
       "      <td>0</td>\n",
       "      <td>1.0</td>\n",
       "      <td>0.840000</td>\n",
       "      <td>0.105263</td>\n",
       "      <td>0</td>\n",
       "      <td>0</td>\n",
       "      <td>3.338161</td>\n",
       "    </tr>\n",
       "    <tr>\n",
       "      <th>1</th>\n",
       "      <td>https://lichess.org/1zhL4g8Y</td>\n",
       "      <td>DrNykterstein</td>\n",
       "      <td>0</td>\n",
       "      <td>0.12</td>\n",
       "      <td>0.949448</td>\n",
       "      <td>2.580000</td>\n",
       "      <td>0</td>\n",
       "      <td>0</td>\n",
       "      <td>0</td>\n",
       "      <td>4.120000</td>\n",
       "      <td>...</td>\n",
       "      <td>5</td>\n",
       "      <td>0</td>\n",
       "      <td>2</td>\n",
       "      <td>0</td>\n",
       "      <td>1.0</td>\n",
       "      <td>0.769231</td>\n",
       "      <td>0.000000</td>\n",
       "      <td>0</td>\n",
       "      <td>0</td>\n",
       "      <td>3.316993</td>\n",
       "    </tr>\n",
       "    <tr>\n",
       "      <th>2</th>\n",
       "      <td>https://lichess.org/1SfUD66e</td>\n",
       "      <td>DrNykterstein</td>\n",
       "      <td>0</td>\n",
       "      <td>0.00</td>\n",
       "      <td>0.071607</td>\n",
       "      <td>2.217391</td>\n",
       "      <td>0</td>\n",
       "      <td>0</td>\n",
       "      <td>0</td>\n",
       "      <td>3.956522</td>\n",
       "      <td>...</td>\n",
       "      <td>5</td>\n",
       "      <td>1</td>\n",
       "      <td>2</td>\n",
       "      <td>1</td>\n",
       "      <td>1.0</td>\n",
       "      <td>0.272727</td>\n",
       "      <td>0.304348</td>\n",
       "      <td>0</td>\n",
       "      <td>0</td>\n",
       "      <td>3.457792</td>\n",
       "    </tr>\n",
       "    <tr>\n",
       "      <th>3</th>\n",
       "      <td>https://lichess.org/WLkYFzcN</td>\n",
       "      <td>ARM-777777</td>\n",
       "      <td>0</td>\n",
       "      <td>0.00</td>\n",
       "      <td>0.000000</td>\n",
       "      <td>1.818182</td>\n",
       "      <td>0</td>\n",
       "      <td>0</td>\n",
       "      <td>0</td>\n",
       "      <td>1.272727</td>\n",
       "      <td>...</td>\n",
       "      <td>3</td>\n",
       "      <td>0</td>\n",
       "      <td>1</td>\n",
       "      <td>0</td>\n",
       "      <td>1.0</td>\n",
       "      <td>0.235294</td>\n",
       "      <td>0.727273</td>\n",
       "      <td>1</td>\n",
       "      <td>30</td>\n",
       "      <td>3.432459</td>\n",
       "    </tr>\n",
       "    <tr>\n",
       "      <th>4</th>\n",
       "      <td>https://lichess.org/Nd2A1c5E</td>\n",
       "      <td>DrNykterstein</td>\n",
       "      <td>0</td>\n",
       "      <td>0.00</td>\n",
       "      <td>0.000000</td>\n",
       "      <td>3.777778</td>\n",
       "      <td>0</td>\n",
       "      <td>0</td>\n",
       "      <td>0</td>\n",
       "      <td>2.722222</td>\n",
       "      <td>...</td>\n",
       "      <td>6</td>\n",
       "      <td>0</td>\n",
       "      <td>3</td>\n",
       "      <td>0</td>\n",
       "      <td>1.0</td>\n",
       "      <td>0.840000</td>\n",
       "      <td>0.444444</td>\n",
       "      <td>1</td>\n",
       "      <td>26</td>\n",
       "      <td>3.368854</td>\n",
       "    </tr>\n",
       "  </tbody>\n",
       "</table>\n",
       "<p>5 rows × 94 columns</p>\n",
       "</div>"
      ],
      "text/plain": [
       "                        game_id   white_player  wn_pair  wn_outpost  \\\n",
       "0  https://lichess.org/mj97pdo9        mutdpro        0        0.00   \n",
       "1  https://lichess.org/1zhL4g8Y  DrNykterstein        0        0.12   \n",
       "2  https://lichess.org/1SfUD66e  DrNykterstein        0        0.00   \n",
       "3  https://lichess.org/WLkYFzcN     ARM-777777        0        0.00   \n",
       "4  https://lichess.org/Nd2A1c5E  DrNykterstein        0        0.00   \n",
       "\n",
       "   wn_repositioning  wn_mobility  wb_pair  wk_side_fianchetto  \\\n",
       "0          0.227137     2.276316        0                   0   \n",
       "1          0.949448     2.580000        0                   0   \n",
       "2          0.071607     2.217391        0                   0   \n",
       "3          0.000000     1.818182        0                   0   \n",
       "4          0.000000     3.777778        0                   0   \n",
       "\n",
       "   wq_side_fianchetto  wb_mobility  ...  num_direct_trades  \\\n",
       "0                   0     3.802632  ...                  5   \n",
       "1                   0     4.120000  ...                  5   \n",
       "2                   0     3.956522  ...                  5   \n",
       "3                   0     1.272727  ...                  3   \n",
       "4                   0     2.722222  ...                  6   \n",
       "\n",
       "   num_indirect_trades  num_direct_trades_white  num_indirect_trades_white  \\\n",
       "0                    1                        4                          0   \n",
       "1                    0                        2                          0   \n",
       "2                    1                        2                          1   \n",
       "3                    0                        1                          0   \n",
       "4                    0                        3                          0   \n",
       "\n",
       "   avg_time_between_direct_trade  exchanges_possible  king_squares_attacked  \\\n",
       "0                            1.0            0.840000               0.105263   \n",
       "1                            1.0            0.769231               0.000000   \n",
       "2                            1.0            0.272727               0.304348   \n",
       "3                            1.0            0.235294               0.727273   \n",
       "4                            1.0            0.840000               0.444444   \n",
       "\n",
       "   king_moves  king_moves_weighted  distance_from_king  \n",
       "0           0                    0            3.338161  \n",
       "1           0                    0            3.316993  \n",
       "2           0                    0            3.457792  \n",
       "3           1                   30            3.432459  \n",
       "4           1                   26            3.368854  \n",
       "\n",
       "[5 rows x 94 columns]"
      ]
     },
     "execution_count": 6,
     "metadata": {},
     "output_type": "execute_result"
    }
   ],
   "source": [
    "df = pd.read_csv('magnus_nihal.csv')\n",
    "df.head()"
   ]
  },
  {
   "cell_type": "code",
   "execution_count": 7,
   "metadata": {},
   "outputs": [
    {
     "data": {
      "text/plain": [
       "Index(['game_id', 'white_player', 'wn_pair', 'wn_outpost', 'wn_repositioning',\n",
       "       'wn_mobility', 'wb_pair', 'wk_side_fianchetto', 'wq_side_fianchetto',\n",
       "       'wb_mobility', 'wlong_diagonal_control', 'wopposite_color_b',\n",
       "       'b_p_coherency', 'wn_b_trade_pref', 'wn_b_develop_pref', 'wopen_files',\n",
       "       'wsemi_open_files', 'wback_rank_r', 'wdoubled_r', 'wdoubled_with_q',\n",
       "       'wr_mobility', 'wq_aggression', 'wq_fianchetto', 'wq_invasion',\n",
       "       'wq_mobility', 'A', 'B', 'C', 'D', 'A#', 'B#', 'C#', 'D#', 'E#',\n",
       "       'w_development_side', 'wc_earliness', 'wc_side', 'wc_relative',\n",
       "       'wc_artificial', 'wc_development', 'wp_king_protection',\n",
       "       'wp_center_strength', 'wp_doubled', 'wp_isolated', 'wp_backward',\n",
       "       'wp_tension', 'wp_color', 'wp_forwardness', 'wp_guarded_forwardness',\n",
       "       'wp_en_passant', 'wp_storming', 'wp_chain_count', 'wp_longest_chain',\n",
       "       'wp_non_queen', 'wb_rank', 'wb_file', 'wb_density', 'wb_attack',\n",
       "       'wb_pawn_pref', 'wb_minor_pref', 'wb_rook_pref', 'wb_queen_pref',\n",
       "       'wcl_MLL', 'wcl_ML', 'wcl_MM', 'wcl_MR', 'wcl_MRR', 'wcl_BL', 'wcl_BM',\n",
       "       'wcl_BR', 'discovered_checks_set_up', 'discovered_checks_given',\n",
       "       'discovered_checks_chances', 'P_moves', 'N_moves', 'B_moves', 'R_moves',\n",
       "       'Q_moves', 'K_moves', 'pins_given', 'time_pinned', 'fork_counter',\n",
       "       'pieces_guarded', 'num_trades', 'num_direct_trades',\n",
       "       'num_indirect_trades', 'num_direct_trades_white',\n",
       "       'num_indirect_trades_white', 'avg_time_between_direct_trade',\n",
       "       'exchanges_possible', 'king_squares_attacked', 'king_moves',\n",
       "       'king_moves_weighted', 'distance_from_king'],\n",
       "      dtype='object')"
      ]
     },
     "execution_count": 7,
     "metadata": {},
     "output_type": "execute_result"
    }
   ],
   "source": [
    "df.columns"
   ]
  },
  {
   "cell_type": "code",
   "execution_count": 67,
   "metadata": {},
   "outputs": [],
   "source": [
    "df_copy = df.copy()"
   ]
  },
  {
   "cell_type": "code",
   "execution_count": null,
   "metadata": {},
   "outputs": [],
   "source": [
    "for i in range(len(df_copy)):\n",
    "    name = df_copy['white_player'][i]\n",
    "    if name == 'DrNykterstein':\n",
    "        df_copy['white_player'][i] = 'Magnus'\n",
    "    elif name == 'nihalsarin2004':\n",
    "        df_copy['white_player'][i] = 'Nihal'\n",
    "    else:\n",
    "        df_copy['white_player'][i] = None"
   ]
  },
  {
   "cell_type": "code",
   "execution_count": 71,
   "metadata": {},
   "outputs": [
    {
     "data": {
      "text/html": [
       "<div>\n",
       "<style scoped>\n",
       "    .dataframe tbody tr th:only-of-type {\n",
       "        vertical-align: middle;\n",
       "    }\n",
       "\n",
       "    .dataframe tbody tr th {\n",
       "        vertical-align: top;\n",
       "    }\n",
       "\n",
       "    .dataframe thead th {\n",
       "        text-align: right;\n",
       "    }\n",
       "</style>\n",
       "<table border=\"1\" class=\"dataframe\">\n",
       "  <thead>\n",
       "    <tr style=\"text-align: right;\">\n",
       "      <th></th>\n",
       "      <th>game_id</th>\n",
       "      <th>white_player</th>\n",
       "      <th>wn_pair</th>\n",
       "      <th>wn_outpost</th>\n",
       "      <th>wn_repositioning</th>\n",
       "      <th>wn_mobility</th>\n",
       "      <th>wb_pair</th>\n",
       "      <th>wk_side_fianchetto</th>\n",
       "      <th>wq_side_fianchetto</th>\n",
       "      <th>wb_mobility</th>\n",
       "      <th>...</th>\n",
       "      <th>num_direct_trades</th>\n",
       "      <th>num_indirect_trades</th>\n",
       "      <th>num_direct_trades_white</th>\n",
       "      <th>num_indirect_trades_white</th>\n",
       "      <th>avg_time_between_direct_trade</th>\n",
       "      <th>exchanges_possible</th>\n",
       "      <th>king_squares_attacked</th>\n",
       "      <th>king_moves</th>\n",
       "      <th>king_moves_weighted</th>\n",
       "      <th>distance_from_king</th>\n",
       "    </tr>\n",
       "  </thead>\n",
       "  <tbody>\n",
       "    <tr>\n",
       "      <th>0</th>\n",
       "      <td>https://lichess.org/mj97pdo9</td>\n",
       "      <td>None</td>\n",
       "      <td>0</td>\n",
       "      <td>0.00</td>\n",
       "      <td>0.227137</td>\n",
       "      <td>2.276316</td>\n",
       "      <td>0</td>\n",
       "      <td>0</td>\n",
       "      <td>0</td>\n",
       "      <td>3.802632</td>\n",
       "      <td>...</td>\n",
       "      <td>5</td>\n",
       "      <td>1</td>\n",
       "      <td>4</td>\n",
       "      <td>0</td>\n",
       "      <td>1.0</td>\n",
       "      <td>0.840000</td>\n",
       "      <td>0.105263</td>\n",
       "      <td>0</td>\n",
       "      <td>0</td>\n",
       "      <td>3.338161</td>\n",
       "    </tr>\n",
       "    <tr>\n",
       "      <th>1</th>\n",
       "      <td>https://lichess.org/1zhL4g8Y</td>\n",
       "      <td>Magnus</td>\n",
       "      <td>0</td>\n",
       "      <td>0.12</td>\n",
       "      <td>0.949448</td>\n",
       "      <td>2.580000</td>\n",
       "      <td>0</td>\n",
       "      <td>0</td>\n",
       "      <td>0</td>\n",
       "      <td>4.120000</td>\n",
       "      <td>...</td>\n",
       "      <td>5</td>\n",
       "      <td>0</td>\n",
       "      <td>2</td>\n",
       "      <td>0</td>\n",
       "      <td>1.0</td>\n",
       "      <td>0.769231</td>\n",
       "      <td>0.000000</td>\n",
       "      <td>0</td>\n",
       "      <td>0</td>\n",
       "      <td>3.316993</td>\n",
       "    </tr>\n",
       "    <tr>\n",
       "      <th>2</th>\n",
       "      <td>https://lichess.org/1SfUD66e</td>\n",
       "      <td>Magnus</td>\n",
       "      <td>0</td>\n",
       "      <td>0.00</td>\n",
       "      <td>0.071607</td>\n",
       "      <td>2.217391</td>\n",
       "      <td>0</td>\n",
       "      <td>0</td>\n",
       "      <td>0</td>\n",
       "      <td>3.956522</td>\n",
       "      <td>...</td>\n",
       "      <td>5</td>\n",
       "      <td>1</td>\n",
       "      <td>2</td>\n",
       "      <td>1</td>\n",
       "      <td>1.0</td>\n",
       "      <td>0.272727</td>\n",
       "      <td>0.304348</td>\n",
       "      <td>0</td>\n",
       "      <td>0</td>\n",
       "      <td>3.457792</td>\n",
       "    </tr>\n",
       "    <tr>\n",
       "      <th>3</th>\n",
       "      <td>https://lichess.org/WLkYFzcN</td>\n",
       "      <td>None</td>\n",
       "      <td>0</td>\n",
       "      <td>0.00</td>\n",
       "      <td>0.000000</td>\n",
       "      <td>1.818182</td>\n",
       "      <td>0</td>\n",
       "      <td>0</td>\n",
       "      <td>0</td>\n",
       "      <td>1.272727</td>\n",
       "      <td>...</td>\n",
       "      <td>3</td>\n",
       "      <td>0</td>\n",
       "      <td>1</td>\n",
       "      <td>0</td>\n",
       "      <td>1.0</td>\n",
       "      <td>0.235294</td>\n",
       "      <td>0.727273</td>\n",
       "      <td>1</td>\n",
       "      <td>30</td>\n",
       "      <td>3.432459</td>\n",
       "    </tr>\n",
       "    <tr>\n",
       "      <th>4</th>\n",
       "      <td>https://lichess.org/Nd2A1c5E</td>\n",
       "      <td>Magnus</td>\n",
       "      <td>0</td>\n",
       "      <td>0.00</td>\n",
       "      <td>0.000000</td>\n",
       "      <td>3.777778</td>\n",
       "      <td>0</td>\n",
       "      <td>0</td>\n",
       "      <td>0</td>\n",
       "      <td>2.722222</td>\n",
       "      <td>...</td>\n",
       "      <td>6</td>\n",
       "      <td>0</td>\n",
       "      <td>3</td>\n",
       "      <td>0</td>\n",
       "      <td>1.0</td>\n",
       "      <td>0.840000</td>\n",
       "      <td>0.444444</td>\n",
       "      <td>1</td>\n",
       "      <td>26</td>\n",
       "      <td>3.368854</td>\n",
       "    </tr>\n",
       "  </tbody>\n",
       "</table>\n",
       "<p>5 rows × 94 columns</p>\n",
       "</div>"
      ],
      "text/plain": [
       "                        game_id white_player  wn_pair  wn_outpost  \\\n",
       "0  https://lichess.org/mj97pdo9         None        0        0.00   \n",
       "1  https://lichess.org/1zhL4g8Y       Magnus        0        0.12   \n",
       "2  https://lichess.org/1SfUD66e       Magnus        0        0.00   \n",
       "3  https://lichess.org/WLkYFzcN         None        0        0.00   \n",
       "4  https://lichess.org/Nd2A1c5E       Magnus        0        0.00   \n",
       "\n",
       "   wn_repositioning  wn_mobility  wb_pair  wk_side_fianchetto  \\\n",
       "0          0.227137     2.276316        0                   0   \n",
       "1          0.949448     2.580000        0                   0   \n",
       "2          0.071607     2.217391        0                   0   \n",
       "3          0.000000     1.818182        0                   0   \n",
       "4          0.000000     3.777778        0                   0   \n",
       "\n",
       "   wq_side_fianchetto  wb_mobility  ...  num_direct_trades  \\\n",
       "0                   0     3.802632  ...                  5   \n",
       "1                   0     4.120000  ...                  5   \n",
       "2                   0     3.956522  ...                  5   \n",
       "3                   0     1.272727  ...                  3   \n",
       "4                   0     2.722222  ...                  6   \n",
       "\n",
       "   num_indirect_trades  num_direct_trades_white  num_indirect_trades_white  \\\n",
       "0                    1                        4                          0   \n",
       "1                    0                        2                          0   \n",
       "2                    1                        2                          1   \n",
       "3                    0                        1                          0   \n",
       "4                    0                        3                          0   \n",
       "\n",
       "   avg_time_between_direct_trade  exchanges_possible  king_squares_attacked  \\\n",
       "0                            1.0            0.840000               0.105263   \n",
       "1                            1.0            0.769231               0.000000   \n",
       "2                            1.0            0.272727               0.304348   \n",
       "3                            1.0            0.235294               0.727273   \n",
       "4                            1.0            0.840000               0.444444   \n",
       "\n",
       "   king_moves  king_moves_weighted  distance_from_king  \n",
       "0           0                    0            3.338161  \n",
       "1           0                    0            3.316993  \n",
       "2           0                    0            3.457792  \n",
       "3           1                   30            3.432459  \n",
       "4           1                   26            3.368854  \n",
       "\n",
       "[5 rows x 94 columns]"
      ]
     },
     "execution_count": 71,
     "metadata": {},
     "output_type": "execute_result"
    }
   ],
   "source": [
    "df_copy.head()"
   ]
  },
  {
   "cell_type": "code",
   "execution_count": 77,
   "metadata": {},
   "outputs": [],
   "source": [
    "df_copy = df_copy.dropna()"
   ]
  },
  {
   "cell_type": "code",
   "execution_count": 78,
   "metadata": {},
   "outputs": [],
   "source": [
    "X = df_copy.drop(columns = ['game_id','white_player'])\n",
    "y = df_copy['white_player']"
   ]
  },
  {
   "cell_type": "code",
   "execution_count": 80,
   "metadata": {},
   "outputs": [],
   "source": [
    "X_train, X_test, y_train, y_test = train_test_split(X,y,test_size = 0.2,stratify=y)"
   ]
  },
  {
   "cell_type": "code",
   "execution_count": 81,
   "metadata": {},
   "outputs": [
    {
     "data": {
      "text/plain": [
       "816     Magnus\n",
       "1222     Nihal\n",
       "901     Magnus\n",
       "867     Magnus\n",
       "1531     Nihal\n",
       "459     Magnus\n",
       "1413     Nihal\n",
       "56      Magnus\n",
       "1238     Nihal\n",
       "401     Magnus\n",
       "Name: white_player, dtype: object"
      ]
     },
     "execution_count": 81,
     "metadata": {},
     "output_type": "execute_result"
    }
   ],
   "source": [
    "y_train.iloc[10:20]"
   ]
  },
  {
   "cell_type": "code",
   "execution_count": 82,
   "metadata": {},
   "outputs": [
    {
     "name": "stdout",
     "output_type": "stream",
     "text": [
      "785\n",
      "396\n",
      "389\n"
     ]
    }
   ],
   "source": [
    "print(len(y_train))\n",
    "print(sum(y_train == 'Magnus'))\n",
    "print(sum(y_train == 'Nihal'))"
   ]
  },
  {
   "cell_type": "code",
   "execution_count": 83,
   "metadata": {},
   "outputs": [
    {
     "name": "stdout",
     "output_type": "stream",
     "text": [
      "197\n",
      "100\n",
      "97\n"
     ]
    }
   ],
   "source": [
    "print(len(y_test))\n",
    "print(sum(y_test == 'Magnus'))\n",
    "print(sum(y_test == 'Nihal'))"
   ]
  },
  {
   "cell_type": "markdown",
   "metadata": {},
   "source": [
    "## Dimensionality reduction"
   ]
  },
  {
   "cell_type": "markdown",
   "metadata": {},
   "source": [
    "### PCA"
   ]
  },
  {
   "cell_type": "code",
   "execution_count": 84,
   "metadata": {},
   "outputs": [],
   "source": [
    "n = 50\n",
    "pca_pipe = Pipeline([('scale',StandardScaler()), ('pca',PCA(n_components = n))])\n",
    "X_train_pipe = pca_pipe.fit_transform(X_train,y_train)"
   ]
  },
  {
   "cell_type": "code",
   "execution_count": 85,
   "metadata": {},
   "outputs": [
    {
     "data": {
      "text/plain": [
       "[<matplotlib.lines.Line2D at 0x18bdbdcba90>]"
      ]
     },
     "execution_count": 85,
     "metadata": {},
     "output_type": "execute_result"
    },
    {
     "data": {
      "image/png": "[encoded data removed]",
      "text/plain": [
       "<Figure size 432x288 with 1 Axes>"
      ]
     },
     "metadata": {},
     "output_type": "display_data"
    }
   ],
   "source": [
    "plt.plot(np.arange(1,n+1),np.cumsum(pca_pipe['pca'].explained_variance_ratio_))"
   ]
  },
  {
   "cell_type": "code",
   "execution_count": 86,
   "metadata": {},
   "outputs": [
    {
     "data": {
      "image/png": "[encoded data removed]",
      "text/plain": [
       "<Figure size 529.92x288 with 1 Axes>"
      ]
     },
     "metadata": {},
     "output_type": "display_data"
    }
   ],
   "source": [
    "plt.matshow(pca_pipe['pca'].components_, cmap = 'plasma')\n",
    "plt.show()"
   ]
  },
  {
   "cell_type": "markdown",
   "metadata": {},
   "source": [
    "## Classification"
   ]
  },
  {
   "cell_type": "code",
   "execution_count": 88,
   "metadata": {},
   "outputs": [
    {
     "data": {
      "text/plain": [
       "KNeighborsClassifier(algorithm='auto', leaf_size=30, metric='minkowski',\n",
       "                     metric_params=None, n_jobs=None, n_neighbors=9, p=2,\n",
       "                     weights='uniform')"
      ]
     },
     "execution_count": 88,
     "metadata": {},
     "output_type": "execute_result"
    }
   ],
   "source": [
    "neigh = KNeighborsClassifier(n_neighbors = 9)\n",
    "neigh.fit(X_train,y_train)"
   ]
  },
  {
   "cell_type": "code",
   "execution_count": 89,
   "metadata": {},
   "outputs": [],
   "source": [
    "pred = neigh.predict(X_test)"
   ]
  },
  {
   "cell_type": "code",
   "execution_count": 90,
   "metadata": {},
   "outputs": [
    {
     "data": {
      "text/plain": [
       "0.6446700507614214"
      ]
     },
     "execution_count": 90,
     "metadata": {},
     "output_type": "execute_result"
    }
   ],
   "source": [
    "sum(pred==y_test)/len(y_test)"
   ]
  },
  {
   "cell_type": "code",
   "execution_count": null,
   "metadata": {},
   "outputs": [],
   "source": []
  }
 ],
 "metadata": {
  "kernelspec": {
   "display_name": "Python 3",
   "language": "python",
   "name": "python3"
  },
  "language_info": {
   "codemirror_mode": {
    "name": "ipython",
    "version": 3
   },
   "file_extension": ".py",
   "mimetype": "text/x-python",
   "name": "python",
   "nbconvert_exporter": "python",
   "pygments_lexer": "ipython3",
   "version": "3.8.2"
  }
 },
 "nbformat": 4,
 "nbformat_minor": 4
}
