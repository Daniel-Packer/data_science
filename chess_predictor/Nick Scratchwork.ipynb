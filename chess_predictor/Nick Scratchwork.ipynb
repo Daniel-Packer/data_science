{
 "cells": [
  {
   "cell_type": "code",
   "execution_count": 34,
   "metadata": {},
   "outputs": [
    {
     "ename": "SyntaxError",
     "evalue": "invalid syntax (functions.py, line 612)",
     "output_type": "error",
     "traceback": [
      "Traceback \u001b[1;36m(most recent call last)\u001b[0m:\n",
      "  File \u001b[0;32m\"C:\\Users\\danie\\anaconda3\\lib\\site-packages\\IPython\\core\\interactiveshell.py\"\u001b[0m, line \u001b[0;32m3331\u001b[0m, in \u001b[0;35mrun_code\u001b[0m\n    exec(code_obj, self.user_global_ns, self.user_ns)\n",
      "\u001b[1;36m  File \u001b[1;32m\"<ipython-input-1-77efa823053d>\"\u001b[1;36m, line \u001b[1;32m2\u001b[1;36m, in \u001b[1;35m<module>\u001b[1;36m\u001b[0m\n\u001b[1;33m    import functions as f\u001b[0m\n",
      "\u001b[1;36m  File \u001b[1;32m\"C:\\Users\\danie\\OneDrive\\Documents\\GitHub\\data_science\\chess_predictor\\functions.py\"\u001b[1;36m, line \u001b[1;32m612\u001b[0m\n\u001b[1;33m    for turn in range(0, int(game_dict['middle_game_index']/2:\u001b[0m\n\u001b[1;37m                                                             ^\u001b[0m\n\u001b[1;31mSyntaxError\u001b[0m\u001b[1;31m:\u001b[0m invalid syntax\n"
     ]
    }
   ],
   "source": [
    "from importlib import reload\n",
    "import functions as f\n",
    "import numpy as np\n",
    "f = reload(f)"
   ]
  },
  {
   "cell_type": "code",
   "execution_count": 46,
   "metadata": {},
   "outputs": [],
   "source": [
    "# Make test data\n",
    "f.make_test_data('Feature_Test_Data.json', 'nickthetalldude', 10, 'blitz')"
   ]
  },
  {
   "cell_type": "code",
   "execution_count": 2,
   "metadata": {},
   "outputs": [],
   "source": [
    "# Import test data\n",
    "import json\n",
    "game_dict = json.load(open('Feature_Test_Data.json'))[0]"
   ]
  },
  {
   "cell_type": "code",
   "execution_count": 122,
   "metadata": {
    "scrolled": false
   },
   "outputs": [
    {
     "name": "stdout",
     "output_type": "stream",
     "text": [
      "White Player: nickthetalldude\n",
      "Black Player: kamranabbszade200\n",
      "Midgame: 22\n",
      "Endgame: 52\n"
     ]
    },
    {
     "data": {
      "application/vnd.jupyter.widget-view+json": {
       "model_id": "66ef535c8a874e3a8f393ae3fa398828",
       "version_major": 2,
       "version_minor": 0
      },
      "text/plain": [
       "interactive(children=(IntSlider(value=0, description='i', max=96), Output()), _dom_classes=('widget-interact',…"
      ]
     },
     "metadata": {},
     "output_type": "display_data"
    },
    {
     "name": "stdout",
     "output_type": "stream",
     "text": [
      "Features:\n",
      "white_pawns -> [3.2, 4.190956943584759, 1.0, 0.5333333333333333, 3.8666666666666667, 0.13333333333333333, 0.7142857142857142, 2.3982142857142867, 1.0, 0.0, 0.21665662123682092, 1.0, 3.0, 0.0]\n"
     ]
    }
   ],
   "source": [
    "f = reload(f)\n",
    "\n",
    "# Check a feature\n",
    "f.feature_test(game_dict,[f.white_pawns])"
   ]
  },
  {
   "cell_type": "code",
   "execution_count": null,
   "metadata": {},
   "outputs": [],
   "source": []
  }
 ],
 "metadata": {
  "kernelspec": {
   "display_name": "Python 3",
   "language": "python",
   "name": "python3"
  },
  "language_info": {
   "codemirror_mode": {
    "name": "ipython",
    "version": 3
   },
   "file_extension": ".py",
   "mimetype": "text/x-python",
   "name": "python",
   "nbconvert_exporter": "python",
   "pygments_lexer": "ipython3",
   "version": "3.8.2"
  }
 },
 "nbformat": 4,
 "nbformat_minor": 4
}
