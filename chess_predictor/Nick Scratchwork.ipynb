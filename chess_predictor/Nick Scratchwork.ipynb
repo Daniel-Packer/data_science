{
 "cells": [
  {
   "cell_type": "code",
   "execution_count": 1,
   "metadata": {},
   "outputs": [],
   "source": [
    "from importlib import reload\n",
    "import functions as f\n",
    "import numpy as np\n",
    "f = reload(f)"
   ]
  },
  {
   "cell_type": "code",
   "execution_count": 46,
   "metadata": {},
   "outputs": [],
   "source": [
    "# Make test data\n",
    "f.make_test_data('Feature_Test_Data.json', 'nickthetalldude', 10, 'blitz')"
   ]
  },
  {
   "cell_type": "code",
   "execution_count": 2,
   "metadata": {},
   "outputs": [],
   "source": [
    "# Import test data\n",
    "import json\n",
    "game_dict = json.load(open('Feature_Test_Data.json'))[0]"
   ]
  },
  {
   "cell_type": "code",
   "execution_count": 5,
   "metadata": {
    "scrolled": false
   },
   "outputs": [
    {
     "name": "stdout",
     "output_type": "stream",
     "text": [
      "White Player: nickthetalldude\n",
      "Black Player: Captain_Brunch\n",
      "Midgame: 19\n",
      "Endgame: None\n"
     ]
    },
    {
     "data": {
      "application/vnd.jupyter.widget-view+json": {
       "model_id": "bea41d671dc647afb7b631e0f7e48f5d",
       "version_major": 2,
       "version_minor": 0
      },
      "text/plain": [
       "interactive(children=(IntSlider(value=0, description='i', max=56), Output()), _dom_classes=('widget-interact',…"
      ]
     },
     "metadata": {},
     "output_type": "display_data"
    },
    {
     "name": "stdout",
     "output_type": "stream",
     "text": [
      "Features:\n",
      "white_development -> {'A': 0.0, 'B': 1.0, 'C': 0.0, 'D': 0.0, 'A#': 0.0, 'B#': 0.0, 'C#': 0.0, 'D#': 0.0, 'E#': 0.0, 'w_development_side': 0.08571428571428563}\n",
      "white_castling -> {'wc_earliness': 0.08333333333333333, 'wc_side': 1, 'wc_relative': -1, 'wc_artificial': 0, 'wc_development': 0.6666666666666667}\n",
      "white_pawns -> {'wp_king_protection': 3, 'wp_center_strength': 1.0423802851116184, 'wp_doubled': 0.02702702702702703, 'wp_isolated': 0.0, 'wp_backward': 0.0, 'wp_tension': 0.16216216216216217, 'wp_color': -0.19999999999999996, 'wp_forwardness': 1.113899613899614, 'wp_guarded_forwardness': 0.13513513513513514, 'wp_en_passant': 0.0, 'wp_storming': 0.156157930566859, 'wp_chain_count': 0.0, 'wp_longest_chain': 1.054054054054054, 'wp_non_queen': 0}\n",
      "white_board -> {'wb_rank': 1.7107563607563603, 'wb_file': 0.33211068211068223, 'wb_density': 0.3849912378839056, 'wb_attack': 42.16216216216216, 'wb_pawn_pref': 0.5804715554715554, 'wb_minor_pref': 0.5424710424710427, 'wb_rook_pref': 0.5, 'wb_queen_pref': 0.5}\n",
      "white_clusters -> {'wcl_MLL': 0.0, 'wcl_ML': 0.25, 'wcl_MM': 0.10135135135135136, 'wcl_MR': 0.060810810810810814, 'wcl_MRR': 0.0, 'wcl_BL': 0.3333333333333334, 'wcl_BM': 0.05405405405405406, 'wcl_BR': 0.3333333333333334}\n"
     ]
    }
   ],
   "source": [
    "f = reload(f)\n",
    "\n",
    "# Check a feature\n",
    "f.feature_test(game_dict,[f.white_development,f.white_castling,f.white_pawns,f.white_board,f.white_clusters])"
   ]
  },
  {
   "cell_type": "code",
   "execution_count": null,
   "metadata": {},
   "outputs": [],
   "source": []
  }
 ],
 "metadata": {
  "kernelspec": {
   "display_name": "Python 3",
   "language": "python",
   "name": "python3"
  },
  "language_info": {
   "codemirror_mode": {
    "name": "ipython",
    "version": 3
   },
   "file_extension": ".py",
   "mimetype": "text/x-python",
   "name": "python",
   "nbconvert_exporter": "python",
   "pygments_lexer": "ipython3",
   "version": "3.8.2"
  }
 },
 "nbformat": 4,
 "nbformat_minor": 4
}
