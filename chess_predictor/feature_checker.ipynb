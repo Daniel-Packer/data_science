{
 "cells": [
  {
   "cell_type": "markdown",
   "metadata": {},
   "source": [
    "   The `feature_checker(game_dict, feature_list)` function receives a game dictionary and list of feature functions as input and output a board image, a slider to select the turn index, and a list of features applied to the inputted game."
   ]
  },
  {
   "cell_type": "code",
   "execution_count": 1,
   "metadata": {},
   "outputs": [
    {
     "name": "stdout",
     "output_type": "stream",
     "text": [
      "White Player: Joe Mama\n",
      "Black Player: Joe Biden\n"
     ]
    },
    {
     "data": {
      "application/vnd.jupyter.widget-view+json": {
       "model_id": "2830eeb4d1fb48b2848ffcb963cd79db",
       "version_major": 2,
       "version_minor": 0
      },
      "text/plain": [
       "interactive(children=(IntSlider(value=0, description='i', max=2), Output()), _dom_classes=('widget-interact',)…"
      ]
     },
     "metadata": {},
     "output_type": "display_data"
    },
    {
     "name": "stdout",
     "output_type": "stream",
     "text": [
      "Features:\n",
      "test_feature_1 -> {'white': 1, 'black': 2}\n",
      "test_feature_2 -> 2\n"
     ]
    }
   ],
   "source": [
    "## Slider Imports\n",
    "from __future__ import print_function\n",
    "from ipywidgets import interact, interactive, fixed, interact_manual\n",
    "import ipywidgets as widgets\n",
    "\n",
    "## A Chess Imports\n",
    "import chess.pgn\n",
    "import lichess.api\n",
    "\n",
    "\n",
    "## Some Test Features and Test Game\n",
    "\n",
    "def test_feature_1(game_dict):\n",
    "    return {'white': 1, 'black': 2}\n",
    "def test_feature_2(game_dict):\n",
    "    return 2\n",
    "\n",
    "test_game_dict = {'white_player': 'Joe Mama', 'black_player' : 'Joe Biden', 'board_states_FEN' : ['rnbqkbnr/pppppppp/8/8/8/8/PPPPPPPP/RNBQKBNR w KQkq - 0 1', 'rnbqkbnr/pppppppp/8/8/4P3/8/PPPP1PPP/RNBQKBNR b KQkq e3 0 1', 'rnbqkbnr/pp1ppppp/8/2p5/4P3/8/PPPP1PPP/RNBQKBNR w KQkq c6 0 2']}\n",
    "\n",
    "## Feature Tester Here:\n",
    "\n",
    "## Define the function that gives the widget output\n",
    "def board_move(FENs, i):\n",
    "    return chess.Board(FENs[i])\n",
    "    \n",
    "def feature_test(game_dict, feature_list):\n",
    "    print('White Player:', game_dict['white_player'])\n",
    "    print('Black Player:', game_dict['black_player'])\n",
    "    ## Read out the FENs so we don't need to call the dictionary:\n",
    "    FENs = game_dict['board_states_FEN']\n",
    "    ## Produce the interactive widget...lambda stuff deals with the fact that board_move takes 2 inputs, not 1\n",
    "    interact((lambda i : board_move(FENs,i)), i=widgets.IntSlider(min=0, max=len(FENs)-1, step=1, value=0))\n",
    "    \n",
    "    print('Features:')\n",
    "    for feature in feature_list:\n",
    "        print(feature.__name__,'->', feature(game_dict))\n",
    "    \n",
    "    \n",
    "    \n",
    "feature_test(test_game_dict, [test_feature_1, test_feature_2])"
   ]
  },
  {
   "cell_type": "code",
   "execution_count": null,
   "metadata": {},
   "outputs": [],
   "source": []
  }
 ],
 "metadata": {
  "kernelspec": {
   "display_name": "Python 3",
   "language": "python",
   "name": "python3"
  },
  "language_info": {
   "codemirror_mode": {
    "name": "ipython",
    "version": 3
   },
   "file_extension": ".py",
   "mimetype": "text/x-python",
   "name": "python",
   "nbconvert_exporter": "python",
   "pygments_lexer": "ipython3",
   "version": "3.8.2"
  }
 },
 "nbformat": 4,
 "nbformat_minor": 4
}
