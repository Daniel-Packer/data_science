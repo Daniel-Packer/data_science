{
 "cells": [
  {
   "cell_type": "markdown",
   "metadata": {},
   "source": [
    "This is for\n",
    "- Pulling data from LiChess, making it into game_dicts, and saving it as a JSON\n",
    "- Loading data, extracting features into a dataframe, and saving it as a csv"
   ]
  },
  {
   "cell_type": "code",
   "execution_count": 25,
   "metadata": {},
   "outputs": [],
   "source": [
    "# Imports\n",
    "import functions as f\n",
    "import numpy as np\n",
    "import lichess.api\n",
    "import pandas as pd\n",
    "from importlib import reload\n",
    "import json"
   ]
  },
  {
   "cell_type": "code",
   "execution_count": 20,
   "metadata": {},
   "outputs": [],
   "source": [
    "# If you need to reload the functions\n",
    "f = reload(f)"
   ]
  },
  {
   "cell_type": "markdown",
   "metadata": {},
   "source": [
    "# Downloading"
   ]
  },
  {
   "cell_type": "code",
   "execution_count": 15,
   "metadata": {},
   "outputs": [
    {
     "data": {
      "text/plain": [
       "{'white_moves': [],\n",
       " 'black_moves': [],\n",
       " 'board_states': [],\n",
       " 'board_states_FEN': [],\n",
       " 'white_pieces': [],\n",
       " 'black_pieces': [],\n",
       " 'middle_game_index': None,\n",
       " 'end_game_index': None,\n",
       " 'game_id': '',\n",
       " 'white_player': '',\n",
       " 'black_player': '',\n",
       " 'opening': '',\n",
       " 'time_control': ''}"
      ]
     },
     "execution_count": 15,
     "metadata": {},
     "output_type": "execute_result"
    }
   ],
   "source": [
    "magnus_data[10]"
   ]
  },
  {
   "cell_type": "code",
   "execution_count": 36,
   "metadata": {
    "scrolled": true
   },
   "outputs": [],
   "source": [
    "# Type of games\n",
    "game_type = 'bullet'\n",
    "\n",
    "# How many games to read for each of them\n",
    "num_games = 10\n",
    "\n",
    "# File name\n",
    "file_name = 'magnus_nihal.json'\n",
    "\n",
    "# Magnus\n",
    "#magnus_generator = lichess.api.user_games('DrNykterstein', max=num_games, perfType=game_type)\n",
    "#magnus_data = [f.get_gameDict(next(magnus_generator)) for i in range(num_games)]\n",
    "magnus_data = f.get_dicts('DrNykterstein', num_games, game_type, f.SINGLE_PGN)\n",
    "\n",
    "# Nihal\n",
    "nihal_data = f.get_dicts('nihalsarin2004', num_games, game_type, f.SINGLE_PGN)\n",
    "\n",
    "# All data, filter out those that don't reach midgame\n",
    "all_data = [game_dict for game_dict in (magnus_data + nihal_data) if game_dict['middle_game_index'] != None]\n",
    "\n",
    "# Save as JSON\n",
    "with open(file_name, 'w') as g:\n",
    "        json.dump(all_data, g)"
   ]
  },
  {
   "cell_type": "markdown",
   "metadata": {},
   "source": [
    "# Importing and getting features"
   ]
  },
  {
   "cell_type": "code",
   "execution_count": 39,
   "metadata": {},
   "outputs": [],
   "source": [
    "game_dicts = json.load(open('magnus_nihal.json'))"
   ]
  },
  {
   "cell_type": "code",
   "execution_count": null,
   "metadata": {},
   "outputs": [],
   "source": []
  }
 ],
 "metadata": {
  "kernelspec": {
   "display_name": "Python 3",
   "language": "python",
   "name": "python3"
  },
  "language_info": {
   "codemirror_mode": {
    "name": "ipython",
    "version": 3
   },
   "file_extension": ".py",
   "mimetype": "text/x-python",
   "name": "python",
   "nbconvert_exporter": "python",
   "pygments_lexer": "ipython3",
   "version": "3.8.2"
  }
 },
 "nbformat": 4,
 "nbformat_minor": 4
}
