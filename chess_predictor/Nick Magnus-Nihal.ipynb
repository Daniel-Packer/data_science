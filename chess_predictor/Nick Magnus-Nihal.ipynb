{
 "cells": [
  {
   "cell_type": "markdown",
   "metadata": {},
   "source": [
    "# Imports"
   ]
  },
  {
   "cell_type": "code",
   "execution_count": 1,
   "metadata": {},
   "outputs": [],
   "source": [
    "from importlib import reload\n",
    "import functions as f\n",
    "\n",
    "# for data handling\n",
    "import pandas as pd\n",
    "import numpy as np\n",
    "\n",
    "# for plotting\n",
    "import matplotlib.pyplot as plt\n",
    "import seaborn as sns\n",
    "\n",
    "sns.set_style(\"white\")"
   ]
  },
  {
   "cell_type": "code",
   "execution_count": 2,
   "metadata": {},
   "outputs": [],
   "source": [
    "# General\n",
    "\n",
    "from sklearn.model_selection import train_test_split\n",
    "# X_train, X_test, y_train, y_test = train_test_split(X,y,test_size = 0.2,stratify=y)\n",
    "from sklearn.model_selection import StratifiedKFold\n",
    "from sklearn.base import clone\n",
    "from sklearn.pipeline import Pipeline\n",
    "from sklearn.preprocessing import StandardScaler\n",
    "from sklearn.preprocessing import PolynomialFeatures"
   ]
  },
  {
   "cell_type": "code",
   "execution_count": 3,
   "metadata": {},
   "outputs": [],
   "source": [
    "# Regression\n",
    "\n",
    "from sklearn.linear_model import LinearRegression\n",
    "from sklearn.linear_model import Ridge\n",
    "# Ridge(alpha=a, normalize=True)\n",
    "from sklearn.linear_model import Lasso\n",
    "# Lasso(alpha = alpha[i], normalize=True, max_iter = 1000000)\n",
    "from sklearn.linear_model import LogisticRegression\n",
    "from sklearn.metrics import roc_curve\n",
    "from sklearn.metrics import roc_auc_score"
   ]
  },
  {
   "cell_type": "code",
   "execution_count": 4,
   "metadata": {},
   "outputs": [],
   "source": [
    "# Classification\n",
    "\n",
    "from sklearn import tree\n",
    "from sklearn.tree import DecisionTreeClassifier\n",
    "# tree_clf = DecisionTreeClassifier(max_depth = 3)\n",
    "# fig = tree_clf.fit(X, y)\n",
    "# tree.plot_tree(fig,filled = True)\n",
    "# plt.show()\n",
    "# tree_clf.predict_proba(X)\n",
    "from sklearn.ensemble import RandomForestClassifier\n",
    "from sklearn.tree import plot_tree\n",
    "\n",
    "from sklearn.svm import LinearSVC # LinearSVC(C=1, loss=\"hinge\")\n",
    "from sklearn.svm import SVC\n",
    "\n",
    "from sklearn.ensemble import VotingClassifier\n",
    "from sklearn.ensemble import BaggingClassifier\n",
    "from sklearn.ensemble import AdaBoostClassifier\n",
    "\n",
    "from sklearn.neighbors import KNeighborsClassifier\n",
    "# neigh = KNeighborsClassifier(n_neighbors=5)\n",
    "# neigh.fit(X,y)"
   ]
  },
  {
   "cell_type": "code",
   "execution_count": 5,
   "metadata": {},
   "outputs": [],
   "source": [
    "# Unsupervised learning\n",
    "\n",
    "from sklearn.cluster import KMeans\n",
    "from sklearn.cluster import DBSCAN\n",
    "from sklearn.cluster import AgglomerativeClustering\n",
    "\n",
    "from sklearn.decomposition import PCA\n",
    "# pca = PCA(n_components=10)\n",
    "# pca.explained_variance_ratio_\n",
    "# plt.matshow(pca_pipe['pca'].components_, cmap = 'plasma')\n",
    "\n",
    "from sklearn.manifold import MDS\n",
    "# mds = MDS(n_components = 2)\n",
    "# X_mds = mds.fit_transform(X)\n",
    "\n",
    "from sklearn.manifold import LocallyLinearEmbedding\n",
    "# lle = LocallyLinearEmbedding(n_neighbors=100, n_components=2, method='modified', eigen_solver='dense')\n",
    "# X_lle = lle.fit_transform(X)\n",
    "\n",
    "from sklearn.manifold import Isomap\n",
    "# iso = Isomap(n_neighbors=160, n_components=2)\n",
    "# X_iso = iso.fit_transform(X)\n",
    "\n",
    "from sklearn.manifold import TSNE\n",
    "# tsne = TSNE(n_components = 2, perplexity=50)\n",
    "# X_tsne = tsne.fit_transform(X)"
   ]
  },
  {
   "cell_type": "code",
   "execution_count": 7,
   "metadata": {},
   "outputs": [],
   "source": [
    "# For reloading our functions library if anything is changed\n",
    "f = reload(f)"
   ]
  },
  {
   "cell_type": "markdown",
   "metadata": {},
   "source": [
    "# Work"
   ]
  },
  {
   "cell_type": "markdown",
   "metadata": {},
   "source": [
    "## Importing Data"
   ]
  },
  {
   "cell_type": "code",
   "execution_count": 45,
   "metadata": {},
   "outputs": [
    {
     "data": {
      "text/html": [
       "<div>\n",
       "<style scoped>\n",
       "    .dataframe tbody tr th:only-of-type {\n",
       "        vertical-align: middle;\n",
       "    }\n",
       "\n",
       "    .dataframe tbody tr th {\n",
       "        vertical-align: top;\n",
       "    }\n",
       "\n",
       "    .dataframe thead th {\n",
       "        text-align: right;\n",
       "    }\n",
       "</style>\n",
       "<table border=\"1\" class=\"dataframe\">\n",
       "  <thead>\n",
       "    <tr style=\"text-align: right;\">\n",
       "      <th></th>\n",
       "      <th>wn_pair</th>\n",
       "      <th>wn_outpost</th>\n",
       "      <th>wn_repositioning</th>\n",
       "      <th>wn_mobility</th>\n",
       "      <th>wb_pair</th>\n",
       "      <th>wk_side_fianchetto</th>\n",
       "      <th>wq_side_fianchetto</th>\n",
       "      <th>wb_mobility</th>\n",
       "      <th>wlong_diagonal_control</th>\n",
       "      <th>wopposite_color_b</th>\n",
       "      <th>...</th>\n",
       "      <th>num_direct_trades</th>\n",
       "      <th>num_indirect_trades</th>\n",
       "      <th>num_direct_trades_white</th>\n",
       "      <th>num_indirect_trades_white</th>\n",
       "      <th>avg_time_between_direct_trade</th>\n",
       "      <th>exchanges_possible</th>\n",
       "      <th>king_squares_attacked</th>\n",
       "      <th>king_moves</th>\n",
       "      <th>king_moves_weighted</th>\n",
       "      <th>distance_from_king</th>\n",
       "    </tr>\n",
       "  </thead>\n",
       "  <tbody>\n",
       "    <tr>\n",
       "      <th>217</th>\n",
       "      <td>0</td>\n",
       "      <td>0.084746</td>\n",
       "      <td>0.222485</td>\n",
       "      <td>2.423729</td>\n",
       "      <td>0</td>\n",
       "      <td>0</td>\n",
       "      <td>0</td>\n",
       "      <td>0.932203</td>\n",
       "      <td>0.000000</td>\n",
       "      <td>-1</td>\n",
       "      <td>...</td>\n",
       "      <td>4</td>\n",
       "      <td>0</td>\n",
       "      <td>1</td>\n",
       "      <td>0</td>\n",
       "      <td>1.0</td>\n",
       "      <td>0.255814</td>\n",
       "      <td>0.881356</td>\n",
       "      <td>5</td>\n",
       "      <td>147</td>\n",
       "      <td>3.095796</td>\n",
       "    </tr>\n",
       "    <tr>\n",
       "      <th>530</th>\n",
       "      <td>0</td>\n",
       "      <td>0.000000</td>\n",
       "      <td>0.000000</td>\n",
       "      <td>2.777778</td>\n",
       "      <td>0</td>\n",
       "      <td>0</td>\n",
       "      <td>0</td>\n",
       "      <td>3.370370</td>\n",
       "      <td>0.000000</td>\n",
       "      <td>-1</td>\n",
       "      <td>...</td>\n",
       "      <td>3</td>\n",
       "      <td>0</td>\n",
       "      <td>2</td>\n",
       "      <td>0</td>\n",
       "      <td>1.0</td>\n",
       "      <td>0.318182</td>\n",
       "      <td>1.074074</td>\n",
       "      <td>6</td>\n",
       "      <td>201</td>\n",
       "      <td>3.303809</td>\n",
       "    </tr>\n",
       "    <tr>\n",
       "      <th>159</th>\n",
       "      <td>0</td>\n",
       "      <td>0.000000</td>\n",
       "      <td>0.137719</td>\n",
       "      <td>1.944444</td>\n",
       "      <td>0</td>\n",
       "      <td>1</td>\n",
       "      <td>1</td>\n",
       "      <td>1.388889</td>\n",
       "      <td>0.555556</td>\n",
       "      <td>1</td>\n",
       "      <td>...</td>\n",
       "      <td>6</td>\n",
       "      <td>0</td>\n",
       "      <td>5</td>\n",
       "      <td>0</td>\n",
       "      <td>1.0</td>\n",
       "      <td>0.850000</td>\n",
       "      <td>0.388889</td>\n",
       "      <td>0</td>\n",
       "      <td>0</td>\n",
       "      <td>3.399539</td>\n",
       "    </tr>\n",
       "    <tr>\n",
       "      <th>82</th>\n",
       "      <td>0</td>\n",
       "      <td>0.000000</td>\n",
       "      <td>0.040674</td>\n",
       "      <td>2.750000</td>\n",
       "      <td>0</td>\n",
       "      <td>1</td>\n",
       "      <td>1</td>\n",
       "      <td>1.312500</td>\n",
       "      <td>0.916667</td>\n",
       "      <td>0</td>\n",
       "      <td>...</td>\n",
       "      <td>3</td>\n",
       "      <td>0</td>\n",
       "      <td>1</td>\n",
       "      <td>0</td>\n",
       "      <td>1.0</td>\n",
       "      <td>0.518519</td>\n",
       "      <td>0.375000</td>\n",
       "      <td>0</td>\n",
       "      <td>0</td>\n",
       "      <td>3.325820</td>\n",
       "    </tr>\n",
       "    <tr>\n",
       "      <th>576</th>\n",
       "      <td>0</td>\n",
       "      <td>0.000000</td>\n",
       "      <td>0.067510</td>\n",
       "      <td>2.300000</td>\n",
       "      <td>0</td>\n",
       "      <td>0</td>\n",
       "      <td>0</td>\n",
       "      <td>3.725000</td>\n",
       "      <td>0.000000</td>\n",
       "      <td>-1</td>\n",
       "      <td>...</td>\n",
       "      <td>6</td>\n",
       "      <td>1</td>\n",
       "      <td>2</td>\n",
       "      <td>0</td>\n",
       "      <td>1.0</td>\n",
       "      <td>0.363636</td>\n",
       "      <td>0.500000</td>\n",
       "      <td>0</td>\n",
       "      <td>0</td>\n",
       "      <td>3.453367</td>\n",
       "    </tr>\n",
       "  </tbody>\n",
       "</table>\n",
       "<p>5 rows × 93 columns</p>\n",
       "</div>"
      ],
      "text/plain": [
       "     wn_pair  wn_outpost  wn_repositioning  wn_mobility  wb_pair  \\\n",
       "217        0    0.084746          0.222485     2.423729        0   \n",
       "530        0    0.000000          0.000000     2.777778        0   \n",
       "159        0    0.000000          0.137719     1.944444        0   \n",
       "82         0    0.000000          0.040674     2.750000        0   \n",
       "576        0    0.000000          0.067510     2.300000        0   \n",
       "\n",
       "     wk_side_fianchetto  wq_side_fianchetto  wb_mobility  \\\n",
       "217                   0                   0     0.932203   \n",
       "530                   0                   0     3.370370   \n",
       "159                   1                   1     1.388889   \n",
       "82                    1                   1     1.312500   \n",
       "576                   0                   0     3.725000   \n",
       "\n",
       "     wlong_diagonal_control  wopposite_color_b  ...  num_direct_trades  \\\n",
       "217                0.000000                 -1  ...                  4   \n",
       "530                0.000000                 -1  ...                  3   \n",
       "159                0.555556                  1  ...                  6   \n",
       "82                 0.916667                  0  ...                  3   \n",
       "576                0.000000                 -1  ...                  6   \n",
       "\n",
       "     num_indirect_trades  num_direct_trades_white  num_indirect_trades_white  \\\n",
       "217                    0                        1                          0   \n",
       "530                    0                        2                          0   \n",
       "159                    0                        5                          0   \n",
       "82                     0                        1                          0   \n",
       "576                    1                        2                          0   \n",
       "\n",
       "     avg_time_between_direct_trade  exchanges_possible  king_squares_attacked  \\\n",
       "217                            1.0            0.255814               0.881356   \n",
       "530                            1.0            0.318182               1.074074   \n",
       "159                            1.0            0.850000               0.388889   \n",
       "82                             1.0            0.518519               0.375000   \n",
       "576                            1.0            0.363636               0.500000   \n",
       "\n",
       "     king_moves  king_moves_weighted  distance_from_king  \n",
       "217           5                  147            3.095796  \n",
       "530           6                  201            3.303809  \n",
       "159           0                    0            3.399539  \n",
       "82            0                    0            3.325820  \n",
       "576           0                    0            3.453367  \n",
       "\n",
       "[5 rows x 93 columns]"
      ]
     },
     "execution_count": 45,
     "metadata": {},
     "output_type": "execute_result"
    }
   ],
   "source": [
    "df = pd.read_csv('Nicks_magnus_nihal.csv')\n",
    "df_copy = df.copy()\n",
    "X = df_copy.drop(columns = ['game_id','white_player'])\n",
    "y = df_copy['white_player']\n",
    "X_train, X_test, y_train, y_test = train_test_split(X,y,test_size = 0.2,stratify=y)\n",
    "X_train.head()"
   ]
  },
  {
   "cell_type": "code",
   "execution_count": 32,
   "metadata": {},
   "outputs": [
    {
     "data": {
      "text/plain": [
       "961     Nihal\n",
       "259    Magnus\n",
       "358    Magnus\n",
       "150    Magnus\n",
       "190    Magnus\n",
       "Name: white_player, dtype: object"
      ]
     },
     "execution_count": 32,
     "metadata": {},
     "output_type": "execute_result"
    }
   ],
   "source": [
    "y_train.head()"
   ]
  },
  {
   "cell_type": "markdown",
   "metadata": {},
   "source": [
    "## Dimensionality reduction"
   ]
  },
  {
   "cell_type": "markdown",
   "metadata": {},
   "source": [
    "### PCA"
   ]
  },
  {
   "cell_type": "code",
   "execution_count": 118,
   "metadata": {},
   "outputs": [],
   "source": [
    "n = 50\n",
    "pca_pipe = Pipeline([('scale',StandardScaler()), ('pca',PCA(n_components = n))])\n",
    "X_train_pipe = pca_pipe.fit_transform(X_train,y_train)"
   ]
  },
  {
   "cell_type": "code",
   "execution_count": 119,
   "metadata": {},
   "outputs": [
    {
     "data": {
      "text/plain": [
       "[<matplotlib.lines.Line2D at 0x18bd98f2c70>]"
      ]
     },
     "execution_count": 119,
     "metadata": {},
     "output_type": "execute_result"
    },
    {
     "data": {
      "image/png": "[encoded data removed]",
      "text/plain": [
       "<Figure size 432x288 with 1 Axes>"
      ]
     },
     "metadata": {},
     "output_type": "display_data"
    }
   ],
   "source": [
    "plt.plot(np.arange(1,n+1),np.cumsum(pca_pipe['pca'].explained_variance_ratio_))"
   ]
  },
  {
   "cell_type": "code",
   "execution_count": 120,
   "metadata": {},
   "outputs": [
    {
     "data": {
      "image/png": "[encoded data removed]",
      "text/plain": [
       "<Figure size 535.68x288 with 1 Axes>"
      ]
     },
     "metadata": {},
     "output_type": "display_data"
    }
   ],
   "source": [
    "plt.matshow(pca_pipe['pca'].components_, cmap = 'plasma')\n",
    "plt.show()"
   ]
  },
  {
   "cell_type": "markdown",
   "metadata": {},
   "source": [
    "## Classification"
   ]
  },
  {
   "cell_type": "markdown",
   "metadata": {},
   "source": [
    "### Nearest Neighbors"
   ]
  },
  {
   "cell_type": "code",
   "execution_count": 137,
   "metadata": {},
   "outputs": [
    {
     "data": {
      "text/plain": [
       "Pipeline(memory=None,\n",
       "         steps=[('scaler',\n",
       "                 StandardScaler(copy=True, with_mean=True, with_std=True)),\n",
       "                ('neigh',\n",
       "                 KNeighborsClassifier(algorithm='auto', leaf_size=30,\n",
       "                                      metric='minkowski', metric_params=None,\n",
       "                                      n_jobs=None, n_neighbors=9, p=2,\n",
       "                                      weights='uniform'))],\n",
       "         verbose=False)"
      ]
     },
     "execution_count": 137,
     "metadata": {},
     "output_type": "execute_result"
    }
   ],
   "source": [
    "neigh_pipe = Pipeline([('scaler',StandardScaler()),('neigh',KNeighborsClassifier(n_neighbors = 9))])\n",
    "neigh_pipe.fit(X_train,y_train)"
   ]
  },
  {
   "cell_type": "code",
   "execution_count": 138,
   "metadata": {},
   "outputs": [],
   "source": [
    "pred = neigh_pipe.predict(X_test)"
   ]
  },
  {
   "cell_type": "code",
   "execution_count": 139,
   "metadata": {},
   "outputs": [
    {
     "data": {
      "text/plain": [
       "0.6700507614213198"
      ]
     },
     "execution_count": 139,
     "metadata": {},
     "output_type": "execute_result"
    }
   ],
   "source": [
    "sum(pred==y_test)/len(y_test)"
   ]
  },
  {
   "cell_type": "markdown",
   "metadata": {},
   "source": [
    "### Decision Tree"
   ]
  },
  {
   "cell_type": "code",
   "execution_count": 157,
   "metadata": {},
   "outputs": [
    {
     "data": {
      "image/png": "[encoded data removed]",
      "text/plain": [
       "<Figure size 720x720 with 1 Axes>"
      ]
     },
     "metadata": {},
     "output_type": "display_data"
    }
   ],
   "source": [
    "tree_clf = DecisionTreeClassifier(max_depth = 3)\n",
    "fig, ax = plt.subplots(figsize=(10, 10))\n",
    "fig = tree_clf.fit(X_train, y_train)\n",
    "tree.plot_tree(fig,filled = True,ax=ax)\n",
    "plt.show()"
   ]
  },
  {
   "cell_type": "code",
   "execution_count": 158,
   "metadata": {},
   "outputs": [
    {
     "data": {
      "text/plain": [
       "0.7055837563451777"
      ]
     },
     "execution_count": 158,
     "metadata": {},
     "output_type": "execute_result"
    }
   ],
   "source": [
    "pred = tree_clf.predict(X_test)\n",
    "sum(pred==y_test)/len(y_test)"
   ]
  },
  {
   "cell_type": "code",
   "execution_count": 160,
   "metadata": {},
   "outputs": [],
   "source": [
    "X_colns = X.columns"
   ]
  },
  {
   "cell_type": "code",
   "execution_count": 162,
   "metadata": {},
   "outputs": [
    {
     "name": "stdout",
     "output_type": "stream",
     "text": [
      "23 A\n",
      "29 C#\n",
      "27 A#\n",
      "52 wb_rank\n",
      "10 b_p_coherency\n",
      "27 A#\n",
      "27 A#\n"
     ]
    }
   ],
   "source": [
    "i=23\n",
    "print(i,X_colns[i])\n",
    "i=29\n",
    "print(i,X_colns[i])\n",
    "i=27\n",
    "print(i,X_colns[i])\n",
    "i=52\n",
    "print(i,X_colns[i])\n",
    "i=10\n",
    "print(i,X_colns[i])\n",
    "i=27\n",
    "print(i,X_colns[i])\n",
    "i=27\n",
    "print(i,X_colns[i])"
   ]
  },
  {
   "cell_type": "markdown",
   "metadata": {},
   "source": [
    "So the decision tree is finding that the opening is pretty important for prediction"
   ]
  },
  {
   "cell_type": "markdown",
   "metadata": {},
   "source": [
    "### Custom: by opening"
   ]
  },
  {
   "cell_type": "markdown",
   "metadata": {},
   "source": [
    "For each opening type (A,B,C,D,E) I'll classify it as Magnus or Nihal (based on who did that opening the most often). Then check how predictive that is."
   ]
  },
  {
   "cell_type": "code",
   "execution_count": 184,
   "metadata": {},
   "outputs": [
    {
     "data": {
      "text/plain": [
       "[0.27525252525252525,\n",
       " 0.20202020202020202,\n",
       " 0.23232323232323232,\n",
       " 0.18686868686868688,\n",
       " 0.10353535353535359]"
      ]
     },
     "execution_count": 184,
     "metadata": {},
     "output_type": "execute_result"
    }
   ],
   "source": [
    "magnus_openings = [0,0,0,0,0]\n",
    "magnus_train = X_train.loc[y_train == 'Magnus']\n",
    "magnus_openings[0] = sum(magnus_train['A'] == 1) / len(magnus_train)\n",
    "magnus_openings[1] = sum(magnus_train['B'] == 1) / len(magnus_train)\n",
    "magnus_openings[2] = sum(magnus_train['C'] == 1) / len(magnus_train)\n",
    "magnus_openings[3] = sum(magnus_train['D'] == 1) / len(magnus_train)\n",
    "magnus_openings[4] = 1 - sum(magnus_openings)\n",
    "magnus_openings"
   ]
  },
  {
   "cell_type": "code",
   "execution_count": 185,
   "metadata": {},
   "outputs": [
    {
     "data": {
      "text/plain": [
       "[0.6041131105398457,\n",
       " 0.07455012853470437,\n",
       " 0.038560411311053984,\n",
       " 0.1953727506426735,\n",
       " 0.08740359897172234]"
      ]
     },
     "execution_count": 185,
     "metadata": {},
     "output_type": "execute_result"
    }
   ],
   "source": [
    "nihal_openings = [0,0,0,0,0]\n",
    "nihal_train = X_train.loc[y_train == 'Nihal']\n",
    "nihal_openings[0] = sum(nihal_train['A'] == 1) / len(nihal_train)\n",
    "nihal_openings[1] = sum(nihal_train['B'] == 1) / len(nihal_train)\n",
    "nihal_openings[2] = sum(nihal_train['C'] == 1) / len(nihal_train)\n",
    "nihal_openings[3] = sum(nihal_train['D'] == 1) / len(nihal_train)\n",
    "nihal_openings[4] = 1 - sum(nihal_openings)\n",
    "nihal_openings"
   ]
  },
  {
   "cell_type": "code",
   "execution_count": 186,
   "metadata": {},
   "outputs": [
    {
     "data": {
      "text/plain": [
       "['Nihal', 'Magnus', 'Magnus', 'Nihal', 'Magnus']"
      ]
     },
     "execution_count": 186,
     "metadata": {},
     "output_type": "execute_result"
    }
   ],
   "source": [
    "opening_pred = ['','','','','']\n",
    "for i in range(5):\n",
    "    if magnus_openings[i] > nihal_openings[i]:\n",
    "        opening_pred[i] = 'Magnus'\n",
    "    else:\n",
    "        opening_pred[i] = 'Nihal'\n",
    "opening_pred"
   ]
  },
  {
   "cell_type": "code",
   "execution_count": 210,
   "metadata": {},
   "outputs": [],
   "source": [
    "pred = y_test.copy()\n",
    "for i in range(len(X_test)):\n",
    "    openings = list(X_test[['A','B','C','D']].iloc[i])\n",
    "    openings.append(1-sum(openings))\n",
    "    opening_index = np.argmax(openings)\n",
    "    pred.iloc[i] = opening_pred[opening_index]"
   ]
  },
  {
   "cell_type": "code",
   "execution_count": 211,
   "metadata": {},
   "outputs": [
    {
     "data": {
      "text/plain": [
       "1277    Magnus\n",
       "8        Nihal\n",
       "1840     Nihal\n",
       "1565     Nihal\n",
       "743     Magnus\n",
       "         ...  \n",
       "1285     Nihal\n",
       "1297     Nihal\n",
       "1969    Magnus\n",
       "1766     Nihal\n",
       "24      Magnus\n",
       "Name: white_player, Length: 197, dtype: object"
      ]
     },
     "execution_count": 211,
     "metadata": {},
     "output_type": "execute_result"
    }
   ],
   "source": [
    "pred"
   ]
  },
  {
   "cell_type": "code",
   "execution_count": 213,
   "metadata": {},
   "outputs": [
    {
     "data": {
      "text/plain": [
       "0.700507614213198"
      ]
     },
     "execution_count": 213,
     "metadata": {},
     "output_type": "execute_result"
    }
   ],
   "source": [
    "sum(pred==y_test)/len(y_test)"
   ]
  },
  {
   "cell_type": "code",
   "execution_count": 219,
   "metadata": {},
   "outputs": [],
   "source": [
    "import sklearn\n",
    "\n",
    "guesses = pred\n",
    "actual = y_test\n",
    "\n",
    "labels = ['Magnus','Nihal']\n",
    "\n",
    "c_matrix = np.round(sklearn.metrics.confusion_matrix(actual,guesses,labels = labels) / len(y_test),2)"
   ]
  },
  {
   "cell_type": "code",
   "execution_count": 220,
   "metadata": {},
   "outputs": [
    {
     "data": {
      "image/png": "[encoded data removed]",
      "text/plain": [
       "<Figure size 432x288 with 2 Axes>"
      ]
     },
     "metadata": {},
     "output_type": "display_data"
    }
   ],
   "source": [
    "fig, ax = plt.subplots()\n",
    "im = ax.imshow(c_matrix)\n",
    "\n",
    "# We want to show all ticks...\n",
    "ax.set_xticks(np.arange(len(labels)))\n",
    "ax.set_yticks(np.arange(len(labels)))\n",
    "# ... and label them with the respective list entries\n",
    "ax.set_xticklabels(labels)\n",
    "ax.set_yticklabels(labels)\n",
    "\n",
    "# Axes labels\n",
    "plt.ylabel('Actual')\n",
    "plt.xlabel('Predicted')\n",
    "\n",
    "# Loop over data dimensions and create text annotations.\n",
    "for i in range(len(labels)):\n",
    "    for j in range(len(labels)):\n",
    "        text = ax.text(j, i, c_matrix[i, j],\n",
    "                       ha=\"center\", va=\"center\", color=\"w\")\n",
    "\n",
    "fig.colorbar(im)\n",
    "        \n",
    "ax.set_title(\"Confusion matrix\")\n",
    "fig.tight_layout()\n",
    "plt.show()"
   ]
  },
  {
   "cell_type": "markdown",
   "metadata": {},
   "source": [
    "# Stratifying by opening\n",
    "\n",
    "Given how well the opening predicted the player, let's try improving that by training data of a single classifier on each separate opening.\n",
    "\n",
    "Matt said it's better not to do this I think, bc we wanna limit the number of separate classifiers we train. But fuck it, let's see if it works first.\n",
    "\n",
    "Need to\n",
    "- See how many of each type of opening there are, i.e. do we have enough data to stratify\n",
    "- Try it on one opening first, and compare with the naive prediction from the pure-opening classifier\n",
    "\n",
    "Maybe with train_test_split we can do this stratifying at the start"
   ]
  },
  {
   "cell_type": "code",
   "execution_count": 57,
   "metadata": {},
   "outputs": [],
   "source": [
    "letters = ['A','B','C','D','E']\n",
    "stratified = [df_copy[df_copy[letter] == 1] for letter in letters]"
   ]
  },
  {
   "cell_type": "code",
   "execution_count": 58,
   "metadata": {},
   "outputs": [
    {
     "data": {
      "text/plain": [
       "[427, 139, 135, 183, 98]"
      ]
     },
     "execution_count": 58,
     "metadata": {},
     "output_type": "execute_result"
    }
   ],
   "source": [
    "[len(letter_data) for letter_data in stratified]"
   ]
  },
  {
   "cell_type": "code",
   "execution_count": 59,
   "metadata": {},
   "outputs": [
    {
     "data": {
      "text/plain": [
       "982"
      ]
     },
     "execution_count": 59,
     "metadata": {},
     "output_type": "execute_result"
    }
   ],
   "source": [
    "len(df_copy)"
   ]
  },
  {
   "cell_type": "code",
   "execution_count": 61,
   "metadata": {},
   "outputs": [
    {
     "data": {
      "text/plain": [
       "[[136, 291], [103, 36], [115, 20], [86, 97], [56, 42]]"
      ]
     },
     "execution_count": 61,
     "metadata": {},
     "output_type": "execute_result"
    }
   ],
   "source": [
    "[[len(letter_data[letter_data['white_player'] == 'Magnus']),len(letter_data[letter_data['white_player'] == 'Nihal'])] for letter_data in stratified]"
   ]
  },
  {
   "cell_type": "markdown",
   "metadata": {},
   "source": [
    "Ok so it makes the most sense to train it on the 'A' data as a pilot.\n",
    "\n",
    "Really, we'd need to get waaay more data (ideally say x50, but x10 could be enough)"
   ]
  },
  {
   "cell_type": "code",
   "execution_count": 62,
   "metadata": {},
   "outputs": [
    {
     "data": {
      "text/html": [
       "<div>\n",
       "<style scoped>\n",
       "    .dataframe tbody tr th:only-of-type {\n",
       "        vertical-align: middle;\n",
       "    }\n",
       "\n",
       "    .dataframe tbody tr th {\n",
       "        vertical-align: top;\n",
       "    }\n",
       "\n",
       "    .dataframe thead th {\n",
       "        text-align: right;\n",
       "    }\n",
       "</style>\n",
       "<table border=\"1\" class=\"dataframe\">\n",
       "  <thead>\n",
       "    <tr style=\"text-align: right;\">\n",
       "      <th></th>\n",
       "      <th>game_id</th>\n",
       "      <th>white_player</th>\n",
       "      <th>wn_pair</th>\n",
       "      <th>wn_outpost</th>\n",
       "      <th>wn_repositioning</th>\n",
       "      <th>wn_mobility</th>\n",
       "      <th>wb_pair</th>\n",
       "      <th>wk_side_fianchetto</th>\n",
       "      <th>wq_side_fianchetto</th>\n",
       "      <th>wb_mobility</th>\n",
       "      <th>...</th>\n",
       "      <th>num_direct_trades</th>\n",
       "      <th>num_indirect_trades</th>\n",
       "      <th>num_direct_trades_white</th>\n",
       "      <th>num_indirect_trades_white</th>\n",
       "      <th>avg_time_between_direct_trade</th>\n",
       "      <th>exchanges_possible</th>\n",
       "      <th>king_squares_attacked</th>\n",
       "      <th>king_moves</th>\n",
       "      <th>king_moves_weighted</th>\n",
       "      <th>distance_from_king</th>\n",
       "    </tr>\n",
       "  </thead>\n",
       "  <tbody>\n",
       "    <tr>\n",
       "      <th>3</th>\n",
       "      <td>https://lichess.org/ONXJpzDf</td>\n",
       "      <td>Magnus</td>\n",
       "      <td>0</td>\n",
       "      <td>0.000000</td>\n",
       "      <td>0.005523</td>\n",
       "      <td>0.000000</td>\n",
       "      <td>1</td>\n",
       "      <td>0</td>\n",
       "      <td>0</td>\n",
       "      <td>3.942308</td>\n",
       "      <td>...</td>\n",
       "      <td>7</td>\n",
       "      <td>0</td>\n",
       "      <td>5</td>\n",
       "      <td>0</td>\n",
       "      <td>1.0</td>\n",
       "      <td>0.413793</td>\n",
       "      <td>0.692308</td>\n",
       "      <td>0</td>\n",
       "      <td>0</td>\n",
       "      <td>3.063398</td>\n",
       "    </tr>\n",
       "    <tr>\n",
       "      <th>4</th>\n",
       "      <td>https://lichess.org/RHs2d7J1</td>\n",
       "      <td>Magnus</td>\n",
       "      <td>0</td>\n",
       "      <td>0.381818</td>\n",
       "      <td>0.105536</td>\n",
       "      <td>3.409091</td>\n",
       "      <td>0</td>\n",
       "      <td>0</td>\n",
       "      <td>1</td>\n",
       "      <td>2.709091</td>\n",
       "      <td>...</td>\n",
       "      <td>2</td>\n",
       "      <td>0</td>\n",
       "      <td>0</td>\n",
       "      <td>0</td>\n",
       "      <td>1.0</td>\n",
       "      <td>0.589744</td>\n",
       "      <td>2.527273</td>\n",
       "      <td>3</td>\n",
       "      <td>97</td>\n",
       "      <td>3.032988</td>\n",
       "    </tr>\n",
       "    <tr>\n",
       "      <th>5</th>\n",
       "      <td>https://lichess.org/gM99X9t5</td>\n",
       "      <td>Magnus</td>\n",
       "      <td>0</td>\n",
       "      <td>0.000000</td>\n",
       "      <td>0.000000</td>\n",
       "      <td>0.000000</td>\n",
       "      <td>1</td>\n",
       "      <td>0</td>\n",
       "      <td>1</td>\n",
       "      <td>3.717391</td>\n",
       "      <td>...</td>\n",
       "      <td>7</td>\n",
       "      <td>0</td>\n",
       "      <td>3</td>\n",
       "      <td>0</td>\n",
       "      <td>1.0</td>\n",
       "      <td>0.440000</td>\n",
       "      <td>1.347826</td>\n",
       "      <td>0</td>\n",
       "      <td>0</td>\n",
       "      <td>3.390818</td>\n",
       "    </tr>\n",
       "    <tr>\n",
       "      <th>7</th>\n",
       "      <td>https://lichess.org/J0rTKwGV</td>\n",
       "      <td>Magnus</td>\n",
       "      <td>0</td>\n",
       "      <td>0.017241</td>\n",
       "      <td>0.081220</td>\n",
       "      <td>2.775862</td>\n",
       "      <td>0</td>\n",
       "      <td>0</td>\n",
       "      <td>1</td>\n",
       "      <td>3.905172</td>\n",
       "      <td>...</td>\n",
       "      <td>5</td>\n",
       "      <td>0</td>\n",
       "      <td>2</td>\n",
       "      <td>0</td>\n",
       "      <td>1.0</td>\n",
       "      <td>0.357143</td>\n",
       "      <td>1.189655</td>\n",
       "      <td>1</td>\n",
       "      <td>26</td>\n",
       "      <td>3.134654</td>\n",
       "    </tr>\n",
       "    <tr>\n",
       "      <th>9</th>\n",
       "      <td>https://lichess.org/bgnqYnca</td>\n",
       "      <td>Magnus</td>\n",
       "      <td>0</td>\n",
       "      <td>0.000000</td>\n",
       "      <td>0.108606</td>\n",
       "      <td>2.166667</td>\n",
       "      <td>1</td>\n",
       "      <td>0</td>\n",
       "      <td>1</td>\n",
       "      <td>3.000000</td>\n",
       "      <td>...</td>\n",
       "      <td>5</td>\n",
       "      <td>1</td>\n",
       "      <td>2</td>\n",
       "      <td>1</td>\n",
       "      <td>1.0</td>\n",
       "      <td>0.807692</td>\n",
       "      <td>1.066667</td>\n",
       "      <td>1</td>\n",
       "      <td>34</td>\n",
       "      <td>3.187583</td>\n",
       "    </tr>\n",
       "  </tbody>\n",
       "</table>\n",
       "<p>5 rows × 95 columns</p>\n",
       "</div>"
      ],
      "text/plain": [
       "                        game_id white_player  wn_pair  wn_outpost  \\\n",
       "3  https://lichess.org/ONXJpzDf       Magnus        0    0.000000   \n",
       "4  https://lichess.org/RHs2d7J1       Magnus        0    0.381818   \n",
       "5  https://lichess.org/gM99X9t5       Magnus        0    0.000000   \n",
       "7  https://lichess.org/J0rTKwGV       Magnus        0    0.017241   \n",
       "9  https://lichess.org/bgnqYnca       Magnus        0    0.000000   \n",
       "\n",
       "   wn_repositioning  wn_mobility  wb_pair  wk_side_fianchetto  \\\n",
       "3          0.005523     0.000000        1                   0   \n",
       "4          0.105536     3.409091        0                   0   \n",
       "5          0.000000     0.000000        1                   0   \n",
       "7          0.081220     2.775862        0                   0   \n",
       "9          0.108606     2.166667        1                   0   \n",
       "\n",
       "   wq_side_fianchetto  wb_mobility  ...  num_direct_trades  \\\n",
       "3                   0     3.942308  ...                  7   \n",
       "4                   1     2.709091  ...                  2   \n",
       "5                   1     3.717391  ...                  7   \n",
       "7                   1     3.905172  ...                  5   \n",
       "9                   1     3.000000  ...                  5   \n",
       "\n",
       "   num_indirect_trades  num_direct_trades_white  num_indirect_trades_white  \\\n",
       "3                    0                        5                          0   \n",
       "4                    0                        0                          0   \n",
       "5                    0                        3                          0   \n",
       "7                    0                        2                          0   \n",
       "9                    1                        2                          1   \n",
       "\n",
       "   avg_time_between_direct_trade  exchanges_possible  king_squares_attacked  \\\n",
       "3                            1.0            0.413793               0.692308   \n",
       "4                            1.0            0.589744               2.527273   \n",
       "5                            1.0            0.440000               1.347826   \n",
       "7                            1.0            0.357143               1.189655   \n",
       "9                            1.0            0.807692               1.066667   \n",
       "\n",
       "   king_moves  king_moves_weighted  distance_from_king  \n",
       "3           0                    0            3.063398  \n",
       "4           3                   97            3.032988  \n",
       "5           0                    0            3.390818  \n",
       "7           1                   26            3.134654  \n",
       "9           1                   34            3.187583  \n",
       "\n",
       "[5 rows x 95 columns]"
      ]
     },
     "execution_count": 62,
     "metadata": {},
     "output_type": "execute_result"
    }
   ],
   "source": [
    "A_df = stratified[0]\n",
    "A_df.head()"
   ]
  },
  {
   "cell_type": "code",
   "execution_count": 78,
   "metadata": {},
   "outputs": [],
   "source": [
    "# The opening columns give us no info, remove all but A#\n",
    "X_A = A_df.drop(columns = ['game_id','white_player','A','B','C','D','E','B#','C#','D#','E#'])\n",
    "y_A = A_df['white_player']\n",
    "X_A_train, X_A_test, y_A_train, y_A_test = train_test_split(X_A,y_A,test_size = 0.2,stratify=y_A)"
   ]
  },
  {
   "cell_type": "code",
   "execution_count": 79,
   "metadata": {},
   "outputs": [
    {
     "data": {
      "text/plain": [
       "341"
      ]
     },
     "execution_count": 79,
     "metadata": {},
     "output_type": "execute_result"
    }
   ],
   "source": [
    "len(X_A_train)"
   ]
  },
  {
   "cell_type": "markdown",
   "metadata": {},
   "source": [
    "Ok, this is an okay amount of training data for now\n",
    "\n",
    "Let's try some stufffff....."
   ]
  },
  {
   "cell_type": "markdown",
   "metadata": {},
   "source": [
    "### PCA"
   ]
  },
  {
   "cell_type": "code",
   "execution_count": 81,
   "metadata": {},
   "outputs": [],
   "source": [
    "n = 50\n",
    "pca_pipe = Pipeline([('scale',StandardScaler()), ('pca',PCA(n_components = n))])\n",
    "X_A_train_pipe = pca_pipe.fit_transform(X_A_train,y_A_train)"
   ]
  },
  {
   "cell_type": "code",
   "execution_count": 82,
   "metadata": {},
   "outputs": [
    {
     "data": {
      "text/plain": [
       "[<matplotlib.lines.Line2D at 0x263494fa130>]"
      ]
     },
     "execution_count": 82,
     "metadata": {},
     "output_type": "execute_result"
    },
    {
     "data": {
      "image/png": "[encoded data removed]",
      "text/plain": [
       "<Figure size 432x288 with 1 Axes>"
      ]
     },
     "metadata": {},
     "output_type": "display_data"
    }
   ],
   "source": [
    "plt.plot(np.arange(1,n+1),np.cumsum(pca_pipe['pca'].explained_variance_ratio_))"
   ]
  },
  {
   "cell_type": "code",
   "execution_count": 83,
   "metadata": {},
   "outputs": [
    {
     "data": {
      "image/png": "[encoded data removed]",
      "text/plain": [
       "<Figure size 483.84x288 with 2 Axes>"
      ]
     },
     "metadata": {},
     "output_type": "display_data"
    }
   ],
   "source": [
    "plt.matshow(pca_pipe['pca'].components_, cmap = 'plasma')\n",
    "plt.colorbar()\n",
    "plt.show()"
   ]
  },
  {
   "cell_type": "markdown",
   "metadata": {},
   "source": [
    "Ok it's having a bad time. But the clump of yellow suggests some features:"
   ]
  },
  {
   "cell_type": "code",
   "execution_count": 85,
   "metadata": {},
   "outputs": [
    {
     "data": {
      "text/plain": [
       "Index(['discovered_checks_set_up', 'discovered_checks_given',\n",
       "       'discovered_checks_chances'],\n",
       "      dtype='object')"
      ]
     },
     "execution_count": 85,
     "metadata": {},
     "output_type": "execute_result"
    }
   ],
   "source": [
    "X_A.columns[60:63]"
   ]
  },
  {
   "cell_type": "markdown",
   "metadata": {},
   "source": [
    "### K nearest neighbors"
   ]
  },
  {
   "cell_type": "code",
   "execution_count": 95,
   "metadata": {},
   "outputs": [
    {
     "data": {
      "text/plain": [
       "Pipeline(memory=None,\n",
       "         steps=[('scaler',\n",
       "                 StandardScaler(copy=True, with_mean=True, with_std=True)),\n",
       "                ('neigh',\n",
       "                 KNeighborsClassifier(algorithm='auto', leaf_size=30,\n",
       "                                      metric='minkowski', metric_params=None,\n",
       "                                      n_jobs=None, n_neighbors=5, p=2,\n",
       "                                      weights='uniform'))],\n",
       "         verbose=False)"
      ]
     },
     "execution_count": 95,
     "metadata": {},
     "output_type": "execute_result"
    }
   ],
   "source": [
    "neigh_pipe = Pipeline([('scaler',StandardScaler()),('neigh',KNeighborsClassifier(n_neighbors = 5))])\n",
    "neigh_pipe.fit(X_A_train,y_A_train)"
   ]
  },
  {
   "cell_type": "code",
   "execution_count": 96,
   "metadata": {},
   "outputs": [
    {
     "data": {
      "text/plain": [
       "0.6744186046511628"
      ]
     },
     "execution_count": 96,
     "metadata": {},
     "output_type": "execute_result"
    }
   ],
   "source": [
    "pred = neigh_pipe.predict(X_A_test)\n",
    "sum(pred==y_A_test)/len(y_A_test)"
   ]
  },
  {
   "cell_type": "markdown",
   "metadata": {},
   "source": [
    "Lol this isn't great accuracy, but it is nearest neighbors so it's not like its doing anything smart"
   ]
  },
  {
   "cell_type": "markdown",
   "metadata": {},
   "source": [
    "### Decision tree"
   ]
  },
  {
   "cell_type": "code",
   "execution_count": 97,
   "metadata": {},
   "outputs": [
    {
     "data": {
      "image/png": "[encoded data removed]",
      "text/plain": [
       "<Figure size 720x720 with 1 Axes>"
      ]
     },
     "metadata": {},
     "output_type": "display_data"
    }
   ],
   "source": [
    "tree_clf = DecisionTreeClassifier(max_depth = 3)\n",
    "fig, ax = plt.subplots(figsize=(10, 10))\n",
    "fig = tree_clf.fit(X_A_train, y_A_train)\n",
    "tree.plot_tree(fig,filled = True,ax=ax)\n",
    "plt.show()"
   ]
  },
  {
   "cell_type": "code",
   "execution_count": 99,
   "metadata": {},
   "outputs": [
    {
     "data": {
      "text/plain": [
       "['A#', 'wcl_BL', 'wcl_ML', 'wq_aggression', 'wq_mobility', 'wb_minor_pref']"
      ]
     },
     "execution_count": 99,
     "metadata": {},
     "output_type": "execute_result"
    }
   ],
   "source": [
    "[X_A.columns[i] for i in [23,57,53,19,22,49]]"
   ]
  },
  {
   "cell_type": "code",
   "execution_count": 100,
   "metadata": {},
   "outputs": [
    {
     "data": {
      "text/plain": [
       "0.7093023255813954"
      ]
     },
     "execution_count": 100,
     "metadata": {},
     "output_type": "execute_result"
    }
   ],
   "source": [
    "pred = tree_clf.predict(X_A_test)\n",
    "sum(pred==y_A_test)/len(y_A_test)"
   ]
  },
  {
   "cell_type": "markdown",
   "metadata": {},
   "source": [
    "Still can't get past that 70% accuracy"
   ]
  },
  {
   "cell_type": "code",
   "execution_count": 106,
   "metadata": {},
   "outputs": [],
   "source": [
    "A_num_magnus = X_A[y_A == 'Magnus']['A#']\n",
    "A_num_nihal = X_A[y_A == 'Nihal']['A#']"
   ]
  },
  {
   "cell_type": "code",
   "execution_count": 115,
   "metadata": {},
   "outputs": [
    {
     "data": {
      "image/png": "[encoded data removed]",
      "text/plain": [
       "<Figure size 432x288 with 1 Axes>"
      ]
     },
     "metadata": {},
     "output_type": "display_data"
    }
   ],
   "source": [
    "plt.hist([A_num_magnus,A_num_nihal],bins = 20, density = True)\n",
    "plt.show()"
   ]
  },
  {
   "cell_type": "markdown",
   "metadata": {},
   "source": [
    "There definitely is a difference in the A# values\n",
    "\n",
    "Worth noting that in the A openings, 136 were Magnus and 291 were Nihal"
   ]
  },
  {
   "cell_type": "code",
   "execution_count": 116,
   "metadata": {},
   "outputs": [
    {
     "data": {
      "text/plain": [
       "0.6814988290398126"
      ]
     },
     "execution_count": 116,
     "metadata": {},
     "output_type": "execute_result"
    }
   ],
   "source": [
    "291/(136+291)"
   ]
  },
  {
   "cell_type": "markdown",
   "metadata": {},
   "source": [
    "So just naively predicting Nihal gets us about 70%...so ideally we'd want the classifier to get 80% or higher"
   ]
  },
  {
   "cell_type": "markdown",
   "metadata": {},
   "source": [
    "It would be smart to have a classifier that returns probabilities of Magnus/Nihal, so that when you analyze a handful of games you can make some nice formula that maximizes likelihood over the set of games.\n",
    "\n",
    "i.e. n games, 70% chance each is Magnus, then 0.7^n chance the player is Magnus but 0.3^n chance the player is Nihal, so we'll go with Magnus?... Or maybe something with Bayes' theorem"
   ]
  },
  {
   "cell_type": "markdown",
   "metadata": {},
   "source": [
    "### Random forest"
   ]
  },
  {
   "cell_type": "code",
   "execution_count": 120,
   "metadata": {},
   "outputs": [
    {
     "data": {
      "text/plain": [
       "0.686046511627907"
      ]
     },
     "execution_count": 120,
     "metadata": {},
     "output_type": "execute_result"
    }
   ],
   "source": [
    "forest_clf = RandomForestClassifier(max_depth = 4)\n",
    "forest_clf.fit(X_A_train,y_A_train)\n",
    "pred = forest_clf.predict(X_A_test)\n",
    "sum(pred == y_A_test)/len(y_A_test)"
   ]
  },
  {
   "cell_type": "code",
   "execution_count": 122,
   "metadata": {},
   "outputs": [],
   "source": [
    "names = []\n",
    "scores = []\n",
    "for name, score in zip(X_A_train.columns,forest_clf.feature_importances_):\n",
    "    names.append(name)\n",
    "    scores.append(np.round(score,4))\n",
    "    \n",
    "score_df = pd.DataFrame({'feature':names,'importance_score':scores})\n",
    "\n",
    "score_df = score_df.sort_values('importance_score',ascending=False)"
   ]
  },
  {
   "cell_type": "code",
   "execution_count": 123,
   "metadata": {},
   "outputs": [
    {
     "data": {
      "text/html": [
       "<div>\n",
       "<style scoped>\n",
       "    .dataframe tbody tr th:only-of-type {\n",
       "        vertical-align: middle;\n",
       "    }\n",
       "\n",
       "    .dataframe tbody tr th {\n",
       "        vertical-align: top;\n",
       "    }\n",
       "\n",
       "    .dataframe thead th {\n",
       "        text-align: right;\n",
       "    }\n",
       "</style>\n",
       "<table border=\"1\" class=\"dataframe\">\n",
       "  <thead>\n",
       "    <tr style=\"text-align: right;\">\n",
       "      <th></th>\n",
       "      <th>feature</th>\n",
       "      <th>importance_score</th>\n",
       "    </tr>\n",
       "  </thead>\n",
       "  <tbody>\n",
       "    <tr>\n",
       "      <th>23</th>\n",
       "      <td>A#</td>\n",
       "      <td>0.1246</td>\n",
       "    </tr>\n",
       "    <tr>\n",
       "      <th>5</th>\n",
       "      <td>wk_side_fianchetto</td>\n",
       "      <td>0.0515</td>\n",
       "    </tr>\n",
       "    <tr>\n",
       "      <th>47</th>\n",
       "      <td>wb_attack</td>\n",
       "      <td>0.0367</td>\n",
       "    </tr>\n",
       "    <tr>\n",
       "      <th>22</th>\n",
       "      <td>wq_mobility</td>\n",
       "      <td>0.0358</td>\n",
       "    </tr>\n",
       "    <tr>\n",
       "      <th>55</th>\n",
       "      <td>wcl_MR</td>\n",
       "      <td>0.0337</td>\n",
       "    </tr>\n",
       "    <tr>\n",
       "      <th>12</th>\n",
       "      <td>wn_b_develop_pref</td>\n",
       "      <td>0.0335</td>\n",
       "    </tr>\n",
       "    <tr>\n",
       "      <th>46</th>\n",
       "      <td>wb_density</td>\n",
       "      <td>0.0323</td>\n",
       "    </tr>\n",
       "    <tr>\n",
       "      <th>34</th>\n",
       "      <td>wp_backward</td>\n",
       "      <td>0.0248</td>\n",
       "    </tr>\n",
       "    <tr>\n",
       "      <th>31</th>\n",
       "      <td>wp_center_strength</td>\n",
       "      <td>0.0242</td>\n",
       "    </tr>\n",
       "    <tr>\n",
       "      <th>57</th>\n",
       "      <td>wcl_BL</td>\n",
       "      <td>0.0241</td>\n",
       "    </tr>\n",
       "    <tr>\n",
       "      <th>79</th>\n",
       "      <td>exchanges_possible</td>\n",
       "      <td>0.0233</td>\n",
       "    </tr>\n",
       "    <tr>\n",
       "      <th>25</th>\n",
       "      <td>wc_earliness</td>\n",
       "      <td>0.0230</td>\n",
       "    </tr>\n",
       "    <tr>\n",
       "      <th>63</th>\n",
       "      <td>P_moves</td>\n",
       "      <td>0.0193</td>\n",
       "    </tr>\n",
       "    <tr>\n",
       "      <th>24</th>\n",
       "      <td>w_development_side</td>\n",
       "      <td>0.0183</td>\n",
       "    </tr>\n",
       "    <tr>\n",
       "      <th>19</th>\n",
       "      <td>wq_aggression</td>\n",
       "      <td>0.0166</td>\n",
       "    </tr>\n",
       "    <tr>\n",
       "      <th>69</th>\n",
       "      <td>pins_given</td>\n",
       "      <td>0.0159</td>\n",
       "    </tr>\n",
       "    <tr>\n",
       "      <th>67</th>\n",
       "      <td>Q_moves</td>\n",
       "      <td>0.0159</td>\n",
       "    </tr>\n",
       "    <tr>\n",
       "      <th>44</th>\n",
       "      <td>wb_rank</td>\n",
       "      <td>0.0157</td>\n",
       "    </tr>\n",
       "    <tr>\n",
       "      <th>48</th>\n",
       "      <td>wb_pawn_pref</td>\n",
       "      <td>0.0157</td>\n",
       "    </tr>\n",
       "    <tr>\n",
       "      <th>3</th>\n",
       "      <td>wn_mobility</td>\n",
       "      <td>0.0153</td>\n",
       "    </tr>\n",
       "  </tbody>\n",
       "</table>\n",
       "</div>"
      ],
      "text/plain": [
       "               feature  importance_score\n",
       "23                  A#            0.1246\n",
       "5   wk_side_fianchetto            0.0515\n",
       "47           wb_attack            0.0367\n",
       "22         wq_mobility            0.0358\n",
       "55              wcl_MR            0.0337\n",
       "12   wn_b_develop_pref            0.0335\n",
       "46          wb_density            0.0323\n",
       "34         wp_backward            0.0248\n",
       "31  wp_center_strength            0.0242\n",
       "57              wcl_BL            0.0241\n",
       "79  exchanges_possible            0.0233\n",
       "25        wc_earliness            0.0230\n",
       "63             P_moves            0.0193\n",
       "24  w_development_side            0.0183\n",
       "19       wq_aggression            0.0166\n",
       "69          pins_given            0.0159\n",
       "67             Q_moves            0.0159\n",
       "44             wb_rank            0.0157\n",
       "48        wb_pawn_pref            0.0157\n",
       "3          wn_mobility            0.0153"
      ]
     },
     "execution_count": 123,
     "metadata": {},
     "output_type": "execute_result"
    }
   ],
   "source": [
    "score_df.head(20)"
   ]
  },
  {
   "cell_type": "markdown",
   "metadata": {},
   "source": [
    "So again this notes that A# is pretty important\n",
    "\n",
    "The decision tree liked ['A#', 'wcl_BL', 'wcl_ML', 'wq_aggression', 'wq_mobility', 'wb_minor_pref']\n",
    "\n",
    "Some similarities, namely wq_mobility is up there in both"
   ]
  },
  {
   "cell_type": "code",
   "execution_count": 124,
   "metadata": {},
   "outputs": [
    {
     "data": {
      "image/png": "[encoded data removed]",
      "text/plain": [
       "<Figure size 432x288 with 1 Axes>"
      ]
     },
     "metadata": {},
     "output_type": "display_data"
    }
   ],
   "source": [
    "wq_mobility_num_magnus = X_A[y_A == 'Magnus']['wq_mobility']\n",
    "wq_mobility_num_nihal = X_A[y_A == 'Nihal']['wq_mobility']\n",
    "plt.hist([wq_mobility_num_magnus,wq_mobility_num_nihal], density = True)\n",
    "plt.show()"
   ]
  },
  {
   "cell_type": "markdown",
   "metadata": {},
   "source": [
    "And yep, in fact there is a bit of a difference! Not much, but it is noting that they do have different queen mobility preferences"
   ]
  },
  {
   "cell_type": "markdown",
   "metadata": {},
   "source": [
    "### Let's try SVC"
   ]
  },
  {
   "cell_type": "code",
   "execution_count": 133,
   "metadata": {},
   "outputs": [
    {
     "data": {
      "text/plain": [
       "Pipeline(memory=None,\n",
       "         steps=[('scaler',\n",
       "                 StandardScaler(copy=True, with_mean=True, with_std=True)),\n",
       "                ('svc',\n",
       "                 SVC(C=1, break_ties=False, cache_size=200, class_weight=None,\n",
       "                     coef0=0.0, decision_function_shape='ovr', degree=3,\n",
       "                     gamma='scale', kernel='rbf', max_iter=-1,\n",
       "                     probability=False, random_state=None, shrinking=True,\n",
       "                     tol=0.001, verbose=False))],\n",
       "         verbose=False)"
      ]
     },
     "execution_count": 133,
     "metadata": {},
     "output_type": "execute_result"
    }
   ],
   "source": [
    "svc_pipe = Pipeline([('scaler', StandardScaler()),('svc', SVC(kernel = \"rbf\", C=1))])\n",
    "svc_pipe.fit(X_A_train,y_A_train)"
   ]
  },
  {
   "cell_type": "code",
   "execution_count": 134,
   "metadata": {},
   "outputs": [
    {
     "data": {
      "text/plain": [
       "0.6511627906976745"
      ]
     },
     "execution_count": 134,
     "metadata": {},
     "output_type": "execute_result"
    }
   ],
   "source": [
    "pred = svc_pipe.predict(X_A_test)\n",
    "sum(pred == y_A_test)/len(y_A_test)"
   ]
  },
  {
   "cell_type": "markdown",
   "metadata": {},
   "source": [
    "What the fuuuuuckkkkk"
   ]
  },
  {
   "cell_type": "markdown",
   "metadata": {},
   "source": [
    "## Unsupervised stuff"
   ]
  },
  {
   "cell_type": "code",
   "execution_count": 143,
   "metadata": {
    "scrolled": true
   },
   "outputs": [
    {
     "data": {
      "image/png": "[encoded data removed]",
      "text/plain": [
       "<Figure size 432x288 with 1 Axes>"
      ]
     },
     "metadata": {},
     "output_type": "display_data"
    }
   ],
   "source": [
    "pca_pipe = Pipeline([('scaler',StandardScaler()),('pca',PCA(n_components = 2))])\n",
    "transform = pca_pipe.fit_transform(X_A)\n",
    "\n",
    "indices = y_A == 'Magnus'\n",
    "plt.scatter(transform[indices][:,0],transform[indices][:,1],label='Magnus')\n",
    "indices = y_A == 'Nihal'\n",
    "plt.scatter(transform[indices][:,0],transform[indices][:,1],label='Nihal')\n",
    "plt.legend()\n",
    "plt.show()"
   ]
  },
  {
   "cell_type": "code",
   "execution_count": 144,
   "metadata": {},
   "outputs": [
    {
     "data": {
      "image/png": "[encoded data removed]",
      "text/plain": [
       "<Figure size 432x288 with 1 Axes>"
      ]
     },
     "metadata": {},
     "output_type": "display_data"
    }
   ],
   "source": [
    "pipe = Pipeline([('scaler',StandardScaler()),('mds',MDS(n_components = 2))])\n",
    "transform = pipe.fit_transform(X_A)\n",
    "\n",
    "indices = y_A == 'Magnus'\n",
    "plt.scatter(transform[indices][:,0],transform[indices][:,1],label='Magnus')\n",
    "indices = y_A == 'Nihal'\n",
    "plt.scatter(transform[indices][:,0],transform[indices][:,1],label='Nihal')\n",
    "plt.legend()\n",
    "plt.show()"
   ]
  },
  {
   "cell_type": "code",
   "execution_count": 147,
   "metadata": {},
   "outputs": [
    {
     "data": {
      "image/png": "[encoded data removed]",
      "text/plain": [
       "<Figure size 432x288 with 1 Axes>"
      ]
     },
     "metadata": {},
     "output_type": "display_data"
    }
   ],
   "source": [
    "pipe = Pipeline([('scaler',StandardScaler()),\n",
    "                 ('lle',LocallyLinearEmbedding(n_neighbors=100, n_components=2, method='modified', eigen_solver='dense'))])\n",
    "transform = pipe.fit_transform(X_A)\n",
    "\n",
    "indices = y_A == 'Magnus'\n",
    "plt.scatter(transform[indices][:,0],transform[indices][:,1],label='Magnus')\n",
    "indices = y_A == 'Nihal'\n",
    "plt.scatter(transform[indices][:,0],transform[indices][:,1],label='Nihal')\n",
    "plt.legend()\n",
    "plt.show()"
   ]
  },
  {
   "cell_type": "code",
   "execution_count": 149,
   "metadata": {},
   "outputs": [
    {
     "data": {
      "image/png": "[encoded data removed]",
      "text/plain": [
       "<Figure size 432x288 with 1 Axes>"
      ]
     },
     "metadata": {},
     "output_type": "display_data"
    }
   ],
   "source": [
    "pipe = Pipeline([('scaler',StandardScaler()),\n",
    "                 ('iso',Isomap(n_neighbors=50, n_components=2))])\n",
    "transform = pipe.fit_transform(X_A)\n",
    "\n",
    "indices = y_A == 'Magnus'\n",
    "plt.scatter(transform[indices][:,0],transform[indices][:,1],label='Magnus')\n",
    "indices = y_A == 'Nihal'\n",
    "plt.scatter(transform[indices][:,0],transform[indices][:,1],label='Nihal')\n",
    "plt.legend()\n",
    "plt.show()"
   ]
  },
  {
   "cell_type": "code",
   "execution_count": 152,
   "metadata": {
    "scrolled": true
   },
   "outputs": [
    {
     "data": {
      "image/png": "[encoded data removed]",
      "text/plain": [
       "<Figure size 432x288 with 1 Axes>"
      ]
     },
     "metadata": {},
     "output_type": "display_data"
    }
   ],
   "source": [
    "pipe = Pipeline([('scaler',StandardScaler()),\n",
    "                 ('tsne',TSNE(n_components = 2, perplexity=10))])\n",
    "transform = pipe.fit_transform(X_A)\n",
    "\n",
    "indices = y_A == 'Magnus'\n",
    "plt.scatter(transform[indices][:,0],transform[indices][:,1],label='Magnus')\n",
    "indices = y_A == 'Nihal'\n",
    "plt.scatter(transform[indices][:,0],transform[indices][:,1],label='Nihal')\n",
    "plt.legend()\n",
    "plt.show()"
   ]
  },
  {
   "cell_type": "markdown",
   "metadata": {},
   "source": [
    "No luck really"
   ]
  },
  {
   "cell_type": "markdown",
   "metadata": {},
   "source": [
    "# Different opening\n",
    "\n",
    "Looking at A type openings probably wasn't the best idea\n",
    "\n",
    "Let's try D openings (closed and semi closed)\n",
    "\n",
    "Only 183 data points so this won't be great, but hopefully we can find something\n",
    "\n",
    "For the future, did we do bullet games? Should do blitz maybe, bc that way we'll get more standard openings"
   ]
  },
  {
   "cell_type": "code",
   "execution_count": 161,
   "metadata": {},
   "outputs": [
    {
     "data": {
      "text/html": [
       "<div>\n",
       "<style scoped>\n",
       "    .dataframe tbody tr th:only-of-type {\n",
       "        vertical-align: middle;\n",
       "    }\n",
       "\n",
       "    .dataframe tbody tr th {\n",
       "        vertical-align: top;\n",
       "    }\n",
       "\n",
       "    .dataframe thead th {\n",
       "        text-align: right;\n",
       "    }\n",
       "</style>\n",
       "<table border=\"1\" class=\"dataframe\">\n",
       "  <thead>\n",
       "    <tr style=\"text-align: right;\">\n",
       "      <th></th>\n",
       "      <th>game_id</th>\n",
       "      <th>white_player</th>\n",
       "      <th>wn_pair</th>\n",
       "      <th>wn_outpost</th>\n",
       "      <th>wn_repositioning</th>\n",
       "      <th>wn_mobility</th>\n",
       "      <th>wb_pair</th>\n",
       "      <th>wk_side_fianchetto</th>\n",
       "      <th>wq_side_fianchetto</th>\n",
       "      <th>wb_mobility</th>\n",
       "      <th>...</th>\n",
       "      <th>num_direct_trades</th>\n",
       "      <th>num_indirect_trades</th>\n",
       "      <th>num_direct_trades_white</th>\n",
       "      <th>num_indirect_trades_white</th>\n",
       "      <th>avg_time_between_direct_trade</th>\n",
       "      <th>exchanges_possible</th>\n",
       "      <th>king_squares_attacked</th>\n",
       "      <th>king_moves</th>\n",
       "      <th>king_moves_weighted</th>\n",
       "      <th>distance_from_king</th>\n",
       "    </tr>\n",
       "  </thead>\n",
       "  <tbody>\n",
       "    <tr>\n",
       "      <th>0</th>\n",
       "      <td>https://lichess.org/1zhL4g8Y</td>\n",
       "      <td>Magnus</td>\n",
       "      <td>0</td>\n",
       "      <td>0.12</td>\n",
       "      <td>0.949448</td>\n",
       "      <td>2.580000</td>\n",
       "      <td>0</td>\n",
       "      <td>0</td>\n",
       "      <td>0</td>\n",
       "      <td>4.120000</td>\n",
       "      <td>...</td>\n",
       "      <td>5</td>\n",
       "      <td>0</td>\n",
       "      <td>2</td>\n",
       "      <td>0</td>\n",
       "      <td>1.0</td>\n",
       "      <td>0.769231</td>\n",
       "      <td>0.000000</td>\n",
       "      <td>0</td>\n",
       "      <td>0</td>\n",
       "      <td>3.316993</td>\n",
       "    </tr>\n",
       "    <tr>\n",
       "      <th>2</th>\n",
       "      <td>https://lichess.org/Nd2A1c5E</td>\n",
       "      <td>Magnus</td>\n",
       "      <td>0</td>\n",
       "      <td>0.00</td>\n",
       "      <td>0.000000</td>\n",
       "      <td>3.777778</td>\n",
       "      <td>0</td>\n",
       "      <td>0</td>\n",
       "      <td>0</td>\n",
       "      <td>2.722222</td>\n",
       "      <td>...</td>\n",
       "      <td>6</td>\n",
       "      <td>0</td>\n",
       "      <td>3</td>\n",
       "      <td>0</td>\n",
       "      <td>1.0</td>\n",
       "      <td>0.840000</td>\n",
       "      <td>0.444444</td>\n",
       "      <td>1</td>\n",
       "      <td>26</td>\n",
       "      <td>3.368854</td>\n",
       "    </tr>\n",
       "    <tr>\n",
       "      <th>8</th>\n",
       "      <td>https://lichess.org/ePPJ0Hwv</td>\n",
       "      <td>Magnus</td>\n",
       "      <td>0</td>\n",
       "      <td>0.00</td>\n",
       "      <td>0.000000</td>\n",
       "      <td>1.942857</td>\n",
       "      <td>0</td>\n",
       "      <td>0</td>\n",
       "      <td>0</td>\n",
       "      <td>3.428571</td>\n",
       "      <td>...</td>\n",
       "      <td>6</td>\n",
       "      <td>1</td>\n",
       "      <td>1</td>\n",
       "      <td>0</td>\n",
       "      <td>1.2</td>\n",
       "      <td>0.269231</td>\n",
       "      <td>0.914286</td>\n",
       "      <td>0</td>\n",
       "      <td>0</td>\n",
       "      <td>3.199516</td>\n",
       "    </tr>\n",
       "    <tr>\n",
       "      <th>18</th>\n",
       "      <td>https://lichess.org/Dk6IEaBT</td>\n",
       "      <td>Magnus</td>\n",
       "      <td>0</td>\n",
       "      <td>0.00</td>\n",
       "      <td>0.102324</td>\n",
       "      <td>2.500000</td>\n",
       "      <td>0</td>\n",
       "      <td>1</td>\n",
       "      <td>0</td>\n",
       "      <td>2.827586</td>\n",
       "      <td>...</td>\n",
       "      <td>6</td>\n",
       "      <td>1</td>\n",
       "      <td>3</td>\n",
       "      <td>1</td>\n",
       "      <td>1.0</td>\n",
       "      <td>0.600000</td>\n",
       "      <td>0.655172</td>\n",
       "      <td>0</td>\n",
       "      <td>0</td>\n",
       "      <td>3.182913</td>\n",
       "    </tr>\n",
       "    <tr>\n",
       "      <th>19</th>\n",
       "      <td>https://lichess.org/hHecpIns</td>\n",
       "      <td>Magnus</td>\n",
       "      <td>0</td>\n",
       "      <td>0.00</td>\n",
       "      <td>0.192275</td>\n",
       "      <td>2.041667</td>\n",
       "      <td>1</td>\n",
       "      <td>0</td>\n",
       "      <td>0</td>\n",
       "      <td>3.750000</td>\n",
       "      <td>...</td>\n",
       "      <td>5</td>\n",
       "      <td>0</td>\n",
       "      <td>4</td>\n",
       "      <td>0</td>\n",
       "      <td>1.0</td>\n",
       "      <td>0.407407</td>\n",
       "      <td>0.916667</td>\n",
       "      <td>0</td>\n",
       "      <td>0</td>\n",
       "      <td>3.515146</td>\n",
       "    </tr>\n",
       "  </tbody>\n",
       "</table>\n",
       "<p>5 rows × 95 columns</p>\n",
       "</div>"
      ],
      "text/plain": [
       "                         game_id white_player  wn_pair  wn_outpost  \\\n",
       "0   https://lichess.org/1zhL4g8Y       Magnus        0        0.12   \n",
       "2   https://lichess.org/Nd2A1c5E       Magnus        0        0.00   \n",
       "8   https://lichess.org/ePPJ0Hwv       Magnus        0        0.00   \n",
       "18  https://lichess.org/Dk6IEaBT       Magnus        0        0.00   \n",
       "19  https://lichess.org/hHecpIns       Magnus        0        0.00   \n",
       "\n",
       "    wn_repositioning  wn_mobility  wb_pair  wk_side_fianchetto  \\\n",
       "0           0.949448     2.580000        0                   0   \n",
       "2           0.000000     3.777778        0                   0   \n",
       "8           0.000000     1.942857        0                   0   \n",
       "18          0.102324     2.500000        0                   1   \n",
       "19          0.192275     2.041667        1                   0   \n",
       "\n",
       "    wq_side_fianchetto  wb_mobility  ...  num_direct_trades  \\\n",
       "0                    0     4.120000  ...                  5   \n",
       "2                    0     2.722222  ...                  6   \n",
       "8                    0     3.428571  ...                  6   \n",
       "18                   0     2.827586  ...                  6   \n",
       "19                   0     3.750000  ...                  5   \n",
       "\n",
       "    num_indirect_trades  num_direct_trades_white  num_indirect_trades_white  \\\n",
       "0                     0                        2                          0   \n",
       "2                     0                        3                          0   \n",
       "8                     1                        1                          0   \n",
       "18                    1                        3                          1   \n",
       "19                    0                        4                          0   \n",
       "\n",
       "    avg_time_between_direct_trade  exchanges_possible  king_squares_attacked  \\\n",
       "0                             1.0            0.769231               0.000000   \n",
       "2                             1.0            0.840000               0.444444   \n",
       "8                             1.2            0.269231               0.914286   \n",
       "18                            1.0            0.600000               0.655172   \n",
       "19                            1.0            0.407407               0.916667   \n",
       "\n",
       "    king_moves  king_moves_weighted  distance_from_king  \n",
       "0            0                    0            3.316993  \n",
       "2            1                   26            3.368854  \n",
       "8            0                    0            3.199516  \n",
       "18           0                    0            3.182913  \n",
       "19           0                    0            3.515146  \n",
       "\n",
       "[5 rows x 95 columns]"
      ]
     },
     "execution_count": 161,
     "metadata": {},
     "output_type": "execute_result"
    }
   ],
   "source": [
    "D_df = stratified[3]\n",
    "D_df.head()"
   ]
  },
  {
   "cell_type": "code",
   "execution_count": 166,
   "metadata": {},
   "outputs": [],
   "source": [
    "# The opening columns give us no info, remove all but D#\n",
    "X_D = D_df.drop(columns = ['game_id','white_player','A','B','C','D','E','A#','B#','C#','E#'])\n",
    "y_D = D_df['white_player']\n",
    "X_D_train, X_D_test, y_D_train, y_D_test = train_test_split(X_D,y_D,test_size = 0.2,stratify=y_D)"
   ]
  },
  {
   "cell_type": "code",
   "execution_count": 167,
   "metadata": {},
   "outputs": [
    {
     "data": {
      "text/plain": [
       "146"
      ]
     },
     "execution_count": 167,
     "metadata": {},
     "output_type": "execute_result"
    }
   ],
   "source": [
    "len(X_D_train)"
   ]
  },
  {
   "cell_type": "code",
   "execution_count": 168,
   "metadata": {},
   "outputs": [
    {
     "data": {
      "text/plain": [
       "183"
      ]
     },
     "execution_count": 168,
     "metadata": {},
     "output_type": "execute_result"
    }
   ],
   "source": [
    "len(X_D)"
   ]
  },
  {
   "cell_type": "markdown",
   "metadata": {},
   "source": [
    "From before we have that 86 of the games are Magnus and 97 are Nihal, so we'd have a naive accuracy of"
   ]
  },
  {
   "cell_type": "code",
   "execution_count": 169,
   "metadata": {},
   "outputs": [
    {
     "data": {
      "text/plain": [
       "0.5300546448087432"
      ]
     },
     "execution_count": 169,
     "metadata": {},
     "output_type": "execute_result"
    }
   ],
   "source": [
    "97/183"
   ]
  },
  {
   "cell_type": "markdown",
   "metadata": {},
   "source": [
    "This should hopefully be easier to beat, lol"
   ]
  },
  {
   "cell_type": "markdown",
   "metadata": {},
   "source": [
    "### PCA"
   ]
  },
  {
   "cell_type": "code",
   "execution_count": 170,
   "metadata": {},
   "outputs": [],
   "source": [
    "n = 50\n",
    "pca_pipe = Pipeline([('scale',StandardScaler()), ('pca',PCA(n_components = n))])\n",
    "X_D_train_pipe = pca_pipe.fit_transform(X_D_train,y_D_train)"
   ]
  },
  {
   "cell_type": "code",
   "execution_count": 171,
   "metadata": {},
   "outputs": [
    {
     "data": {
      "text/plain": [
       "[<matplotlib.lines.Line2D at 0x2635389a460>]"
      ]
     },
     "execution_count": 171,
     "metadata": {},
     "output_type": "execute_result"
    },
    {
     "data": {
      "image/png": "[encoded data removed]",
      "text/plain": [
       "<Figure size 432x288 with 1 Axes>"
      ]
     },
     "metadata": {},
     "output_type": "display_data"
    }
   ],
   "source": [
    "plt.plot(np.arange(1,n+1),np.cumsum(pca_pipe['pca'].explained_variance_ratio_))"
   ]
  },
  {
   "cell_type": "code",
   "execution_count": 172,
   "metadata": {},
   "outputs": [
    {
     "data": {
      "image/png": "[encoded data removed]",
      "text/plain": [
       "<Figure size 483.84x288 with 2 Axes>"
      ]
     },
     "metadata": {},
     "output_type": "display_data"
    }
   ],
   "source": [
    "plt.matshow(pca_pipe['pca'].components_, cmap = 'plasma')\n",
    "plt.colorbar()\n",
    "plt.show()"
   ]
  },
  {
   "cell_type": "markdown",
   "metadata": {},
   "source": [
    "### K nearest neighbors"
   ]
  },
  {
   "cell_type": "code",
   "execution_count": 173,
   "metadata": {},
   "outputs": [
    {
     "data": {
      "text/plain": [
       "Pipeline(memory=None,\n",
       "         steps=[('scaler',\n",
       "                 StandardScaler(copy=True, with_mean=True, with_std=True)),\n",
       "                ('neigh',\n",
       "                 KNeighborsClassifier(algorithm='auto', leaf_size=30,\n",
       "                                      metric='minkowski', metric_params=None,\n",
       "                                      n_jobs=None, n_neighbors=5, p=2,\n",
       "                                      weights='uniform'))],\n",
       "         verbose=False)"
      ]
     },
     "execution_count": 173,
     "metadata": {},
     "output_type": "execute_result"
    }
   ],
   "source": [
    "neigh_pipe = Pipeline([('scaler',StandardScaler()),('neigh',KNeighborsClassifier(n_neighbors = 5))])\n",
    "neigh_pipe.fit(X_D_train,y_D_train)"
   ]
  },
  {
   "cell_type": "code",
   "execution_count": 174,
   "metadata": {},
   "outputs": [
    {
     "data": {
      "text/plain": [
       "0.5675675675675675"
      ]
     },
     "execution_count": 174,
     "metadata": {},
     "output_type": "execute_result"
    }
   ],
   "source": [
    "pred = neigh_pipe.predict(X_D_test)\n",
    "sum(pred==y_D_test)/len(y_D_test)"
   ]
  },
  {
   "cell_type": "markdown",
   "metadata": {},
   "source": [
    "### Decision tree"
   ]
  },
  {
   "cell_type": "code",
   "execution_count": 175,
   "metadata": {},
   "outputs": [
    {
     "data": {
      "image/png": "[encoded data removed]",
      "text/plain": [
       "<Figure size 720x720 with 1 Axes>"
      ]
     },
     "metadata": {},
     "output_type": "display_data"
    }
   ],
   "source": [
    "tree_clf = DecisionTreeClassifier(max_depth = 3)\n",
    "fig, ax = plt.subplots(figsize=(10, 10))\n",
    "fig = tree_clf.fit(X_D_train, y_D_train)\n",
    "tree.plot_tree(fig,filled = True,ax=ax)\n",
    "plt.show()"
   ]
  },
  {
   "cell_type": "code",
   "execution_count": 176,
   "metadata": {},
   "outputs": [
    {
     "data": {
      "text/plain": [
       "['wp_forwardness',\n",
       " 'distance_from_king',\n",
       " 'pins_given',\n",
       " 'K_moves',\n",
       " 'wp_forwardness']"
      ]
     },
     "execution_count": 176,
     "metadata": {},
     "output_type": "execute_result"
    }
   ],
   "source": [
    "[X_D.columns[i] for i in [37,83,69,68,37]]"
   ]
  },
  {
   "cell_type": "code",
   "execution_count": 177,
   "metadata": {},
   "outputs": [
    {
     "data": {
      "text/plain": [
       "0.5135135135135135"
      ]
     },
     "execution_count": 177,
     "metadata": {},
     "output_type": "execute_result"
    }
   ],
   "source": [
    "pred = tree_clf.predict(X_D_test)\n",
    "sum(pred==y_D_test)/len(y_D_test)"
   ]
  },
  {
   "cell_type": "code",
   "execution_count": 179,
   "metadata": {},
   "outputs": [],
   "source": [
    "D_num_magnus = X_D[y_D == 'Magnus']['D#']\n",
    "D_num_nihal = X_D[y_D == 'Nihal']['D#']"
   ]
  },
  {
   "cell_type": "code",
   "execution_count": 180,
   "metadata": {},
   "outputs": [
    {
     "data": {
      "image/png": "[encoded data removed]",
      "text/plain": [
       "<Figure size 432x288 with 1 Axes>"
      ]
     },
     "metadata": {},
     "output_type": "display_data"
    }
   ],
   "source": [
    "plt.hist([D_num_magnus,D_num_nihal],bins = 20, density = True)\n",
    "plt.show()"
   ]
  },
  {
   "cell_type": "markdown",
   "metadata": {},
   "source": [
    "Cool, so this time D# isn't as helpful"
   ]
  },
  {
   "cell_type": "markdown",
   "metadata": {},
   "source": [
    "### Random forest"
   ]
  },
  {
   "cell_type": "code",
   "execution_count": 181,
   "metadata": {},
   "outputs": [
    {
     "data": {
      "text/plain": [
       "0.5945945945945946"
      ]
     },
     "execution_count": 181,
     "metadata": {},
     "output_type": "execute_result"
    }
   ],
   "source": [
    "forest_clf = RandomForestClassifier(max_depth = 4)\n",
    "forest_clf.fit(X_D_train,y_D_train)\n",
    "pred = forest_clf.predict(X_D_test)\n",
    "sum(pred==y_D_test)/len(y_D_test)"
   ]
  },
  {
   "cell_type": "code",
   "execution_count": 183,
   "metadata": {},
   "outputs": [],
   "source": [
    "names = []\n",
    "scores = []\n",
    "for name, score in zip(X_D_train.columns,forest_clf.feature_importances_):\n",
    "    names.append(name)\n",
    "    scores.append(np.round(score,4))\n",
    "    \n",
    "score_df = pd.DataFrame({'feature':names,'importance_score':scores})\n",
    "\n",
    "score_df = score_df.sort_values('importance_score',ascending=False)"
   ]
  },
  {
   "cell_type": "code",
   "execution_count": 184,
   "metadata": {},
   "outputs": [
    {
     "data": {
      "text/html": [
       "<div>\n",
       "<style scoped>\n",
       "    .dataframe tbody tr th:only-of-type {\n",
       "        vertical-align: middle;\n",
       "    }\n",
       "\n",
       "    .dataframe tbody tr th {\n",
       "        vertical-align: top;\n",
       "    }\n",
       "\n",
       "    .dataframe thead th {\n",
       "        text-align: right;\n",
       "    }\n",
       "</style>\n",
       "<table border=\"1\" class=\"dataframe\">\n",
       "  <thead>\n",
       "    <tr style=\"text-align: right;\">\n",
       "      <th></th>\n",
       "      <th>feature</th>\n",
       "      <th>importance_score</th>\n",
       "    </tr>\n",
       "  </thead>\n",
       "  <tbody>\n",
       "    <tr>\n",
       "      <th>37</th>\n",
       "      <td>wp_forwardness</td>\n",
       "      <td>0.0509</td>\n",
       "    </tr>\n",
       "    <tr>\n",
       "      <th>44</th>\n",
       "      <td>wb_rank</td>\n",
       "      <td>0.0507</td>\n",
       "    </tr>\n",
       "    <tr>\n",
       "      <th>40</th>\n",
       "      <td>wp_storming</td>\n",
       "      <td>0.0448</td>\n",
       "    </tr>\n",
       "    <tr>\n",
       "      <th>69</th>\n",
       "      <td>pins_given</td>\n",
       "      <td>0.0348</td>\n",
       "    </tr>\n",
       "    <tr>\n",
       "      <th>56</th>\n",
       "      <td>wcl_MRR</td>\n",
       "      <td>0.0339</td>\n",
       "    </tr>\n",
       "    <tr>\n",
       "      <th>49</th>\n",
       "      <td>wb_minor_pref</td>\n",
       "      <td>0.0332</td>\n",
       "    </tr>\n",
       "    <tr>\n",
       "      <th>45</th>\n",
       "      <td>wb_file</td>\n",
       "      <td>0.0288</td>\n",
       "    </tr>\n",
       "    <tr>\n",
       "      <th>83</th>\n",
       "      <td>distance_from_king</td>\n",
       "      <td>0.0287</td>\n",
       "    </tr>\n",
       "    <tr>\n",
       "      <th>55</th>\n",
       "      <td>wcl_MR</td>\n",
       "      <td>0.0279</td>\n",
       "    </tr>\n",
       "    <tr>\n",
       "      <th>12</th>\n",
       "      <td>wn_b_develop_pref</td>\n",
       "      <td>0.0274</td>\n",
       "    </tr>\n",
       "    <tr>\n",
       "      <th>68</th>\n",
       "      <td>K_moves</td>\n",
       "      <td>0.0267</td>\n",
       "    </tr>\n",
       "    <tr>\n",
       "      <th>59</th>\n",
       "      <td>wcl_BR</td>\n",
       "      <td>0.0261</td>\n",
       "    </tr>\n",
       "    <tr>\n",
       "      <th>25</th>\n",
       "      <td>wc_earliness</td>\n",
       "      <td>0.0258</td>\n",
       "    </tr>\n",
       "    <tr>\n",
       "      <th>22</th>\n",
       "      <td>wq_mobility</td>\n",
       "      <td>0.0246</td>\n",
       "    </tr>\n",
       "    <tr>\n",
       "      <th>67</th>\n",
       "      <td>Q_moves</td>\n",
       "      <td>0.0227</td>\n",
       "    </tr>\n",
       "    <tr>\n",
       "      <th>38</th>\n",
       "      <td>wp_guarded_forwardness</td>\n",
       "      <td>0.0215</td>\n",
       "    </tr>\n",
       "    <tr>\n",
       "      <th>64</th>\n",
       "      <td>N_moves</td>\n",
       "      <td>0.0204</td>\n",
       "    </tr>\n",
       "    <tr>\n",
       "      <th>65</th>\n",
       "      <td>B_moves</td>\n",
       "      <td>0.0201</td>\n",
       "    </tr>\n",
       "    <tr>\n",
       "      <th>32</th>\n",
       "      <td>wp_doubled</td>\n",
       "      <td>0.0190</td>\n",
       "    </tr>\n",
       "    <tr>\n",
       "      <th>50</th>\n",
       "      <td>wb_rook_pref</td>\n",
       "      <td>0.0167</td>\n",
       "    </tr>\n",
       "  </tbody>\n",
       "</table>\n",
       "</div>"
      ],
      "text/plain": [
       "                   feature  importance_score\n",
       "37          wp_forwardness            0.0509\n",
       "44                 wb_rank            0.0507\n",
       "40             wp_storming            0.0448\n",
       "69              pins_given            0.0348\n",
       "56                 wcl_MRR            0.0339\n",
       "49           wb_minor_pref            0.0332\n",
       "45                 wb_file            0.0288\n",
       "83      distance_from_king            0.0287\n",
       "55                  wcl_MR            0.0279\n",
       "12       wn_b_develop_pref            0.0274\n",
       "68                 K_moves            0.0267\n",
       "59                  wcl_BR            0.0261\n",
       "25            wc_earliness            0.0258\n",
       "22             wq_mobility            0.0246\n",
       "67                 Q_moves            0.0227\n",
       "38  wp_guarded_forwardness            0.0215\n",
       "64                 N_moves            0.0204\n",
       "65                 B_moves            0.0201\n",
       "32              wp_doubled            0.0190\n",
       "50            wb_rook_pref            0.0167"
      ]
     },
     "execution_count": 184,
     "metadata": {},
     "output_type": "execute_result"
    }
   ],
   "source": [
    "score_df.head(20)"
   ]
  },
  {
   "cell_type": "markdown",
   "metadata": {},
   "source": [
    "So again this notes that A# is pretty important\n",
    "\n",
    "The decision tree liked ['wp_forwardness', 'distance_from_king', 'pins_given', 'K_moves']\n",
    "\n",
    "All of these were top 10 ish, so yeah they're getting similar features!"
   ]
  },
  {
   "cell_type": "code",
   "execution_count": 185,
   "metadata": {},
   "outputs": [
    {
     "data": {
      "image/png": "[encoded data removed]",
      "text/plain": [
       "<Figure size 432x288 with 1 Axes>"
      ]
     },
     "metadata": {},
     "output_type": "display_data"
    }
   ],
   "source": [
    "wq_mobility_num_magnus = X_D[y_D == 'Magnus']['wp_forwardness']\n",
    "wq_mobility_num_nihal = X_D[y_D == 'Nihal']['wp_forwardness']\n",
    "plt.hist([wq_mobility_num_magnus,wq_mobility_num_nihal], density = True)\n",
    "plt.show()"
   ]
  },
  {
   "cell_type": "markdown",
   "metadata": {},
   "source": [
    "And yep, in fact there is a bit of a difference"
   ]
  },
  {
   "cell_type": "markdown",
   "metadata": {},
   "source": [
    "### Let's try SVC"
   ]
  },
  {
   "cell_type": "code",
   "execution_count": 186,
   "metadata": {},
   "outputs": [
    {
     "data": {
      "text/plain": [
       "Pipeline(memory=None,\n",
       "         steps=[('scaler',\n",
       "                 StandardScaler(copy=True, with_mean=True, with_std=True)),\n",
       "                ('svc',\n",
       "                 SVC(C=1, break_ties=False, cache_size=200, class_weight=None,\n",
       "                     coef0=0.0, decision_function_shape='ovr', degree=3,\n",
       "                     gamma='scale', kernel='rbf', max_iter=-1,\n",
       "                     probability=False, random_state=None, shrinking=True,\n",
       "                     tol=0.001, verbose=False))],\n",
       "         verbose=False)"
      ]
     },
     "execution_count": 186,
     "metadata": {},
     "output_type": "execute_result"
    }
   ],
   "source": [
    "svc_pipe = Pipeline([('scaler', StandardScaler()),('svc', SVC(kernel = \"rbf\", C=1))])\n",
    "svc_pipe.fit(X_D_train,y_D_train)"
   ]
  },
  {
   "cell_type": "code",
   "execution_count": 187,
   "metadata": {},
   "outputs": [
    {
     "data": {
      "text/plain": [
       "0.5405405405405406"
      ]
     },
     "execution_count": 187,
     "metadata": {},
     "output_type": "execute_result"
    }
   ],
   "source": [
    "pred = svc_pipe.predict(X_D_test)\n",
    "sum(pred == y_D_test)/len(y_D_test)"
   ]
  },
  {
   "cell_type": "markdown",
   "metadata": {},
   "source": [
    "## Unsupervised stuff"
   ]
  },
  {
   "cell_type": "code",
   "execution_count": 192,
   "metadata": {
    "scrolled": true
   },
   "outputs": [
    {
     "data": {
      "image/png": "[encoded data removed]",
      "text/plain": [
       "<Figure size 432x288 with 1 Axes>"
      ]
     },
     "metadata": {},
     "output_type": "display_data"
    }
   ],
   "source": [
    "pca_pipe = Pipeline([('scaler',StandardScaler()),('pca',PCA(n_components = 2))])\n",
    "transform = pca_pipe.fit_transform(X_D)\n",
    "\n",
    "indices = y_D == 'Magnus'\n",
    "plt.scatter(transform[indices][:,0],transform[indices][:,1],label='Magnus')\n",
    "indices = y_D == 'Nihal'\n",
    "plt.scatter(transform[indices][:,0],transform[indices][:,1],label='Nihal')\n",
    "plt.legend()\n",
    "plt.show()"
   ]
  },
  {
   "cell_type": "code",
   "execution_count": 193,
   "metadata": {},
   "outputs": [
    {
     "data": {
      "image/png": "[encoded data removed]",
      "text/plain": [
       "<Figure size 432x288 with 1 Axes>"
      ]
     },
     "metadata": {},
     "output_type": "display_data"
    }
   ],
   "source": [
    "pipe = Pipeline([('scaler',StandardScaler()),('mds',MDS(n_components = 2))])\n",
    "transform = pipe.fit_transform(X_D)\n",
    "\n",
    "indices = y_D == 'Magnus'\n",
    "plt.scatter(transform[indices][:,0],transform[indices][:,1],label='Magnus')\n",
    "indices = y_D == 'Nihal'\n",
    "plt.scatter(transform[indices][:,0],transform[indices][:,1],label='Nihal')\n",
    "plt.legend()\n",
    "plt.show()"
   ]
  },
  {
   "cell_type": "code",
   "execution_count": 194,
   "metadata": {},
   "outputs": [
    {
     "data": {
      "image/png": "[encoded data removed]",
      "text/plain": [
       "<Figure size 432x288 with 1 Axes>"
      ]
     },
     "metadata": {},
     "output_type": "display_data"
    }
   ],
   "source": [
    "pipe = Pipeline([('scaler',StandardScaler()),\n",
    "                 ('lle',LocallyLinearEmbedding(n_neighbors=100, n_components=2, method='modified', eigen_solver='dense'))])\n",
    "transform = pipe.fit_transform(X_D)\n",
    "\n",
    "indices = y_D == 'Magnus'\n",
    "plt.scatter(transform[indices][:,0],transform[indices][:,1],label='Magnus')\n",
    "indices = y_D == 'Nihal'\n",
    "plt.scatter(transform[indices][:,0],transform[indices][:,1],label='Nihal')\n",
    "plt.legend()\n",
    "plt.show()"
   ]
  },
  {
   "cell_type": "code",
   "execution_count": 195,
   "metadata": {},
   "outputs": [
    {
     "data": {
      "image/png": "[encoded data removed]",
      "text/plain": [
       "<Figure size 432x288 with 1 Axes>"
      ]
     },
     "metadata": {},
     "output_type": "display_data"
    }
   ],
   "source": [
    "pipe = Pipeline([('scaler',StandardScaler()),\n",
    "                 ('iso',Isomap(n_neighbors=50, n_components=2))])\n",
    "transform = pipe.fit_transform(X_D)\n",
    "\n",
    "indices = y_D == 'Magnus'\n",
    "plt.scatter(transform[indices][:,0],transform[indices][:,1],label='Magnus')\n",
    "indices = y_D == 'Nihal'\n",
    "plt.scatter(transform[indices][:,0],transform[indices][:,1],label='Nihal')\n",
    "plt.legend()\n",
    "plt.show()"
   ]
  },
  {
   "cell_type": "code",
   "execution_count": 196,
   "metadata": {
    "scrolled": true
   },
   "outputs": [
    {
     "data": {
      "image/png": "[encoded data removed]",
      "text/plain": [
       "<Figure size 432x288 with 1 Axes>"
      ]
     },
     "metadata": {},
     "output_type": "display_data"
    }
   ],
   "source": [
    "pipe = Pipeline([('scaler',StandardScaler()),\n",
    "                 ('tsne',TSNE(n_components = 2, perplexity=10))])\n",
    "transform = pipe.fit_transform(X_D)\n",
    "\n",
    "indices = y_D == 'Magnus'\n",
    "plt.scatter(transform[indices][:,0],transform[indices][:,1],label='Magnus')\n",
    "indices = y_D == 'Nihal'\n",
    "plt.scatter(transform[indices][:,0],transform[indices][:,1],label='Nihal')\n",
    "plt.legend()\n",
    "plt.show()"
   ]
  },
  {
   "cell_type": "markdown",
   "metadata": {},
   "source": [
    "Like in the last one, it did look like there are some clumps forming in the tSNE...can we build nearest neighbors off of tSNE?\n",
    "\n",
    "A Google search suggests things like K-nearest neighbors, SVC, and more generally \"instance based learning\"\n",
    "\n",
    "Looking back, KNN did okay (57%), and same for random forest (59%)\n",
    "\n",
    "These are 10%/20% improvements over the naive ~50%"
   ]
  },
  {
   "cell_type": "markdown",
   "metadata": {},
   "source": [
    "# Stratified KNN\n",
    "\n",
    "New strat: make 5 KNN classifiers (one for each opening letter, probably drop the A#-E# thing), see how that goes"
   ]
  },
  {
   "cell_type": "code",
   "execution_count": 253,
   "metadata": {},
   "outputs": [],
   "source": [
    "# Does this custom classification to a dataframe X\n",
    "def predict(X):\n",
    "    # Removing the opening info\n",
    "    X_thin = X.drop(columns = ['A','B','C','D','E','A#','B#','C#','D#','E#'])\n",
    "    \n",
    "    pred = [''] * len(X)\n",
    "    \n",
    "    for i in range(len(X)):\n",
    "        # Get the row we're looking at\n",
    "        row = X.iloc[i]\n",
    "        \n",
    "        # Figure out the index of its opening\n",
    "        for j in range(len(letters)):\n",
    "            if row[letters[j]] == 1:\n",
    "                index = j\n",
    "                break\n",
    "        \n",
    "        # Remove the opening info\n",
    "        row_thin = X_thin.iloc[i]\n",
    "        \n",
    "        # Run the classifier\n",
    "        pred[i] = pipes[index].predict(row_thin.values.reshape(1,-1))[0]\n",
    "    \n",
    "    # Return the predictions\n",
    "    return pred"
   ]
  },
  {
   "cell_type": "code",
   "execution_count": 258,
   "metadata": {},
   "outputs": [
    {
     "data": {
      "text/plain": [
       "0.7055837563451777"
      ]
     },
     "execution_count": 258,
     "metadata": {},
     "output_type": "execute_result"
    }
   ],
   "source": [
    "n_neighbors = 5\n",
    "letters = ['A','B','C','D','E']\n",
    "\n",
    "# Create the 5 classifiers\n",
    "pipes = [Pipeline([('scale',StandardScaler()),('knn',KNeighborsClassifier(n_neighbors = n_neighbors))]) for letter in letters]\n",
    "\n",
    "# Stratify the training data\n",
    "# Also making sure to remove info about the opening\n",
    "X_train_thin = X_train.drop(columns = ['A','B','C','D','E','A#','B#','C#','D#','E#'])\n",
    "X_train_stratified = [X_train_thin[X_train[letter] == 1] for letter in letters]\n",
    "y_train_stratified = [y_train[X_train[letter] == 1] for letter in letters]\n",
    "\n",
    "# Train the 5 classifiers\n",
    "for i in range(len(letters)):\n",
    "    pipes[i].fit(X_train_stratified[i],y_train_stratified[i])\n",
    "\n",
    "# Predict\n",
    "pred = predict(X_test)\n",
    "sum(pred==y_test)/len(y_test)"
   ]
  },
  {
   "cell_type": "markdown",
   "metadata": {},
   "source": [
    "...which isn't better than the basic naive method :(\n",
    "\n",
    "Say we instead do random forests:"
   ]
  },
  {
   "cell_type": "code",
   "execution_count": 261,
   "metadata": {},
   "outputs": [
    {
     "data": {
      "text/plain": [
       "0.6954314720812182"
      ]
     },
     "execution_count": 261,
     "metadata": {},
     "output_type": "execute_result"
    }
   ],
   "source": [
    "letters = ['A','B','C','D','E']\n",
    "\n",
    "# Create the 5 classifiers\n",
    "pipes = [Pipeline([('scale',StandardScaler()),('rf',RandomForestClassifier(max_depth = 3))]) for letter in letters]\n",
    "\n",
    "# Stratify the training data\n",
    "# Also making sure to remove info about the opening\n",
    "X_train_thin = X_train.drop(columns = ['A','B','C','D','E','A#','B#','C#','D#','E#'])\n",
    "X_train_stratified = [X_train_thin[X_train[letter] == 1] for letter in letters]\n",
    "y_train_stratified = [y_train[X_train[letter] == 1] for letter in letters]\n",
    "\n",
    "# Train the 5 classifiers\n",
    "for i in range(len(letters)):\n",
    "    pipes[i].fit(X_train_stratified[i],y_train_stratified[i])\n",
    "\n",
    "# Predict\n",
    "pred = predict(X_test)\n",
    "sum(pred==y_test)/len(y_test)"
   ]
  },
  {
   "cell_type": "markdown",
   "metadata": {},
   "source": [
    "Yeah this isn't great"
   ]
  },
  {
   "cell_type": "code",
   "execution_count": null,
   "metadata": {},
   "outputs": [],
   "source": []
  }
 ],
 "metadata": {
  "kernelspec": {
   "display_name": "Python 3",
   "language": "python",
   "name": "python3"
  },
  "language_info": {
   "codemirror_mode": {
    "name": "ipython",
    "version": 3
   },
   "file_extension": ".py",
   "mimetype": "text/x-python",
   "name": "python",
   "nbconvert_exporter": "python",
   "pygments_lexer": "ipython3",
   "version": "3.8.2"
  }
 },
 "nbformat": 4,
 "nbformat_minor": 4
}
