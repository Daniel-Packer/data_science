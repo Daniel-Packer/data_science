{
 "cells": [
  {
   "cell_type": "markdown",
   "metadata": {},
   "source": [
    "This is for\n",
    "- Pulling data from LiChess, making it into game_dicts, and saving it as a JSON\n",
    "- Loading data, extracting features into a dataframe, and saving it as a csv"
   ]
  },
  {
   "cell_type": "code",
   "execution_count": 1,
   "metadata": {},
   "outputs": [],
   "source": [
    "# Imports\n",
    "import functions as f\n",
    "import numpy as np\n",
    "import lichess.api\n",
    "import pandas as pd\n",
    "from importlib import reload\n",
    "import json"
   ]
  },
  {
   "cell_type": "code",
   "execution_count": 20,
   "metadata": {},
   "outputs": [],
   "source": [
    "# If you need to reload the functions\n",
    "f = reload(f)"
   ]
  },
  {
   "cell_type": "markdown",
   "metadata": {},
   "source": [
    "# Downloading"
   ]
  },
  {
   "cell_type": "code",
   "execution_count": 15,
   "metadata": {},
   "outputs": [
    {
     "data": {
      "text/plain": [
       "{'white_moves': [],\n",
       " 'black_moves': [],\n",
       " 'board_states': [],\n",
       " 'board_states_FEN': [],\n",
       " 'white_pieces': [],\n",
       " 'black_pieces': [],\n",
       " 'middle_game_index': None,\n",
       " 'end_game_index': None,\n",
       " 'game_id': '',\n",
       " 'white_player': '',\n",
       " 'black_player': '',\n",
       " 'opening': '',\n",
       " 'time_control': ''}"
      ]
     },
     "execution_count": 15,
     "metadata": {},
     "output_type": "execute_result"
    }
   ],
   "source": [
    "magnus_data[10]"
   ]
  },
  {
   "cell_type": "code",
   "execution_count": 24,
   "metadata": {
    "scrolled": true
   },
   "outputs": [
    {
     "ename": "NameError",
     "evalue": "name 'json' is not defined",
     "output_type": "error",
     "traceback": [
      "\u001b[1;31m---------------------------------------------------------------------------\u001b[0m",
      "\u001b[1;31mNameError\u001b[0m                                 Traceback (most recent call last)",
      "\u001b[1;32m<ipython-input-24-538ed28c7903>\u001b[0m in \u001b[0;36m<module>\u001b[1;34m\u001b[0m\n\u001b[0;32m     18\u001b[0m \u001b[1;31m# Save as JSON\u001b[0m\u001b[1;33m\u001b[0m\u001b[1;33m\u001b[0m\u001b[1;33m\u001b[0m\u001b[0m\n\u001b[0;32m     19\u001b[0m \u001b[1;32mwith\u001b[0m \u001b[0mopen\u001b[0m\u001b[1;33m(\u001b[0m\u001b[0mfile_name\u001b[0m\u001b[1;33m,\u001b[0m \u001b[1;34m'w'\u001b[0m\u001b[1;33m)\u001b[0m \u001b[1;32mas\u001b[0m \u001b[0mg\u001b[0m\u001b[1;33m:\u001b[0m\u001b[1;33m\u001b[0m\u001b[1;33m\u001b[0m\u001b[0m\n\u001b[1;32m---> 20\u001b[1;33m         \u001b[0mjson\u001b[0m\u001b[1;33m.\u001b[0m\u001b[0mdump\u001b[0m\u001b[1;33m(\u001b[0m\u001b[0mmagnus_data\u001b[0m \u001b[1;33m+\u001b[0m \u001b[0mnihal_data\u001b[0m\u001b[1;33m,\u001b[0m \u001b[0mg\u001b[0m\u001b[1;33m)\u001b[0m\u001b[1;33m\u001b[0m\u001b[1;33m\u001b[0m\u001b[0m\n\u001b[0m",
      "\u001b[1;31mNameError\u001b[0m: name 'json' is not defined"
     ]
    }
   ],
   "source": [
    "# Type of games\n",
    "game_type = 'bullet'\n",
    "\n",
    "# How many games to read for each of them\n",
    "num_games = 10\n",
    "\n",
    "# File name\n",
    "file_name = 'magnus_nihal.json'\n",
    "\n",
    "# Magnus\n",
    "#magnus_generator = lichess.api.user_games('DrNykterstein', max=num_games, perfType=game_type)\n",
    "#magnus_data = [f.get_gameDict(next(magnus_generator)) for i in range(num_games)]\n",
    "magnus_data = f.get_dicts('DrNykterstein', num_games, game_type, f.SINGLE_PGN)\n",
    "\n",
    "# Nihal\n",
    "nihal_data = f.get_dicts('nihalsarin2004', num_games, game_type, f.SINGLE_PGN)\n",
    "\n",
    "# Save as JSON\n",
    "with open(file_name, 'w') as g:\n",
    "        json.dump(magnus_data + nihal_data, g)"
   ]
  },
  {
   "cell_type": "code",
   "execution_count": null,
   "metadata": {},
   "outputs": [],
   "source": []
  }
 ],
 "metadata": {
  "kernelspec": {
   "display_name": "Python 3",
   "language": "python",
   "name": "python3"
  },
  "language_info": {
   "codemirror_mode": {
    "name": "ipython",
    "version": 3
   },
   "file_extension": ".py",
   "mimetype": "text/x-python",
   "name": "python",
   "nbconvert_exporter": "python",
   "pygments_lexer": "ipython3",
   "version": "3.8.2"
  }
 },
 "nbformat": 4,
 "nbformat_minor": 4
}
