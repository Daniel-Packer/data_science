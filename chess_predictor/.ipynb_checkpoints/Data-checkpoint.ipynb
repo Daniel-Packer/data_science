{
 "cells": [
  {
   "cell_type": "markdown",
   "metadata": {},
   "source": [
    "This is for\n",
    "- Pulling data from LiChess, making it into game_dicts, and saving it as a JSON\n",
    "- Loading data, extracting features into a dataframe, and saving it as a csv"
   ]
  },
  {
   "cell_type": "code",
   "execution_count": 1,
   "metadata": {},
   "outputs": [],
   "source": [
    "# Imports\n",
    "import functions as f\n",
    "import numpy as np\n",
    "import lichess.api\n",
    "import pandas as pd\n",
    "from importlib import reload\n",
    "import json"
   ]
  },
  {
   "cell_type": "code",
   "execution_count": 2,
   "metadata": {},
   "outputs": [],
   "source": [
    "# If you need to reload the functions\n",
    "f = reload(f)"
   ]
  },
  {
   "cell_type": "markdown",
   "metadata": {},
   "source": [
    "# Downloading"
   ]
  },
  {
   "cell_type": "code",
   "execution_count": null,
   "metadata": {
    "scrolled": true
   },
   "outputs": [],
   "source": [
    "# Type of games\n",
    "game_type = 'bullet'\n",
    "\n",
    "# How many games to read for each of them\n",
    "num_games = 1000\n",
    "\n",
    "# File name\n",
    "file_name = 'magnus_nihal.json'\n",
    "\n",
    "# Magnus\n",
    "#magnus_generator = lichess.api.user_games('DrNykterstein', max=num_games, perfType=game_type)\n",
    "#magnus_data = [f.get_gameDict(next(magnus_generator)) for i in range(num_games)]\n",
    "magnus_data = f.get_dicts('DrNykterstein', num_games, game_type, f.SINGLE_PGN)\n",
    "\n",
    "# Nihal\n",
    "nihal_data = f.get_dicts('nihalsarin2004', num_games, game_type, f.SINGLE_PGN)\n",
    "\n",
    "# All data, filter out those that don't reach midgame\n",
    "all_data = [game_dict for game_dict in (magnus_data + nihal_data) if game_dict['middle_game_index'] != None]\n",
    "\n",
    "# Save as JSON\n",
    "with open(file_name, 'w') as g:\n",
    "        json.dump(all_data, g)"
   ]
  },
  {
   "cell_type": "markdown",
   "metadata": {},
   "source": [
    "# Importing and getting features"
   ]
  },
  {
   "cell_type": "markdown",
   "metadata": {},
   "source": [
    "If the \"for\" loop hits any errors:\n",
    "- Note it\n",
    "- Check the index i\n",
    "- Continue the loop from the next index i"
   ]
  },
  {
   "cell_type": "code",
   "execution_count": 3,
   "metadata": {},
   "outputs": [],
   "source": [
    "game_dicts = json.load(open('magnus_nihal.json'))"
   ]
  },
  {
   "cell_type": "code",
   "execution_count": null,
   "metadata": {},
   "outputs": [],
   "source": [
    "features = []"
   ]
  },
  {
   "cell_type": "code",
   "execution_count": 9,
   "metadata": {},
   "outputs": [],
   "source": [
    "for i in range(1,len(game_dicts)):\n",
    "    game_dict = game_dicts[i]\n",
    "    features.append(f.get_features(game_dict))"
   ]
  },
  {
   "cell_type": "code",
   "execution_count": 10,
   "metadata": {},
   "outputs": [
    {
     "data": {
      "text/plain": [
       "1974"
      ]
     },
     "execution_count": 10,
     "metadata": {},
     "output_type": "execute_result"
    }
   ],
   "source": [
    "i"
   ]
  },
  {
   "cell_type": "code",
   "execution_count": 11,
   "metadata": {},
   "outputs": [
    {
     "data": {
      "text/plain": [
       "(1974,)"
      ]
     },
     "execution_count": 11,
     "metadata": {},
     "output_type": "execute_result"
    }
   ],
   "source": [
    "np.shape(features)"
   ]
  },
  {
   "cell_type": "code",
   "execution_count": 12,
   "metadata": {},
   "outputs": [],
   "source": [
    "df = pd.DataFrame(features)"
   ]
  },
  {
   "cell_type": "code",
   "execution_count": 15,
   "metadata": {},
   "outputs": [
    {
     "data": {
      "text/html": [
       "<div>\n",
       "<style scoped>\n",
       "    .dataframe tbody tr th:only-of-type {\n",
       "        vertical-align: middle;\n",
       "    }\n",
       "\n",
       "    .dataframe tbody tr th {\n",
       "        vertical-align: top;\n",
       "    }\n",
       "\n",
       "    .dataframe thead th {\n",
       "        text-align: right;\n",
       "    }\n",
       "</style>\n",
       "<table border=\"1\" class=\"dataframe\">\n",
       "  <thead>\n",
       "    <tr style=\"text-align: right;\">\n",
       "      <th></th>\n",
       "      <th>game_id</th>\n",
       "      <th>white_player</th>\n",
       "      <th>wn_pair</th>\n",
       "      <th>wn_outpost</th>\n",
       "      <th>wn_repositioning</th>\n",
       "      <th>wn_mobility</th>\n",
       "      <th>wb_pair</th>\n",
       "      <th>wk_side_fianchetto</th>\n",
       "      <th>wq_side_fianchetto</th>\n",
       "      <th>wb_mobility</th>\n",
       "      <th>...</th>\n",
       "      <th>num_direct_trades</th>\n",
       "      <th>num_indirect_trades</th>\n",
       "      <th>num_direct_trades_white</th>\n",
       "      <th>num_indirect_trades_white</th>\n",
       "      <th>avg_time_between_direct_trade</th>\n",
       "      <th>exchanges_possible</th>\n",
       "      <th>king_squares_attacked</th>\n",
       "      <th>king_moves</th>\n",
       "      <th>king_moves_weighted</th>\n",
       "      <th>distance_from_king</th>\n",
       "    </tr>\n",
       "  </thead>\n",
       "  <tbody>\n",
       "    <tr>\n",
       "      <th>0</th>\n",
       "      <td>https://lichess.org/mj97pdo9</td>\n",
       "      <td>mutdpro</td>\n",
       "      <td>0</td>\n",
       "      <td>0.00</td>\n",
       "      <td>0.227137</td>\n",
       "      <td>2.276316</td>\n",
       "      <td>0</td>\n",
       "      <td>0</td>\n",
       "      <td>0</td>\n",
       "      <td>3.802632</td>\n",
       "      <td>...</td>\n",
       "      <td>5</td>\n",
       "      <td>1</td>\n",
       "      <td>4</td>\n",
       "      <td>0</td>\n",
       "      <td>1.0</td>\n",
       "      <td>0.840000</td>\n",
       "      <td>0.105263</td>\n",
       "      <td>0</td>\n",
       "      <td>0</td>\n",
       "      <td>3.338161</td>\n",
       "    </tr>\n",
       "    <tr>\n",
       "      <th>1</th>\n",
       "      <td>https://lichess.org/1zhL4g8Y</td>\n",
       "      <td>DrNykterstein</td>\n",
       "      <td>0</td>\n",
       "      <td>0.12</td>\n",
       "      <td>0.949448</td>\n",
       "      <td>2.580000</td>\n",
       "      <td>0</td>\n",
       "      <td>0</td>\n",
       "      <td>0</td>\n",
       "      <td>4.120000</td>\n",
       "      <td>...</td>\n",
       "      <td>5</td>\n",
       "      <td>0</td>\n",
       "      <td>2</td>\n",
       "      <td>0</td>\n",
       "      <td>1.0</td>\n",
       "      <td>0.769231</td>\n",
       "      <td>0.000000</td>\n",
       "      <td>0</td>\n",
       "      <td>0</td>\n",
       "      <td>3.316993</td>\n",
       "    </tr>\n",
       "    <tr>\n",
       "      <th>2</th>\n",
       "      <td>https://lichess.org/1SfUD66e</td>\n",
       "      <td>DrNykterstein</td>\n",
       "      <td>0</td>\n",
       "      <td>0.00</td>\n",
       "      <td>0.071607</td>\n",
       "      <td>2.217391</td>\n",
       "      <td>0</td>\n",
       "      <td>0</td>\n",
       "      <td>0</td>\n",
       "      <td>3.956522</td>\n",
       "      <td>...</td>\n",
       "      <td>5</td>\n",
       "      <td>1</td>\n",
       "      <td>2</td>\n",
       "      <td>1</td>\n",
       "      <td>1.0</td>\n",
       "      <td>0.272727</td>\n",
       "      <td>0.304348</td>\n",
       "      <td>0</td>\n",
       "      <td>0</td>\n",
       "      <td>3.457792</td>\n",
       "    </tr>\n",
       "    <tr>\n",
       "      <th>3</th>\n",
       "      <td>https://lichess.org/WLkYFzcN</td>\n",
       "      <td>ARM-777777</td>\n",
       "      <td>0</td>\n",
       "      <td>0.00</td>\n",
       "      <td>0.000000</td>\n",
       "      <td>1.818182</td>\n",
       "      <td>0</td>\n",
       "      <td>0</td>\n",
       "      <td>0</td>\n",
       "      <td>1.272727</td>\n",
       "      <td>...</td>\n",
       "      <td>3</td>\n",
       "      <td>0</td>\n",
       "      <td>1</td>\n",
       "      <td>0</td>\n",
       "      <td>1.0</td>\n",
       "      <td>0.235294</td>\n",
       "      <td>0.727273</td>\n",
       "      <td>1</td>\n",
       "      <td>30</td>\n",
       "      <td>3.432459</td>\n",
       "    </tr>\n",
       "    <tr>\n",
       "      <th>4</th>\n",
       "      <td>https://lichess.org/Nd2A1c5E</td>\n",
       "      <td>DrNykterstein</td>\n",
       "      <td>0</td>\n",
       "      <td>0.00</td>\n",
       "      <td>0.000000</td>\n",
       "      <td>3.777778</td>\n",
       "      <td>0</td>\n",
       "      <td>0</td>\n",
       "      <td>0</td>\n",
       "      <td>2.722222</td>\n",
       "      <td>...</td>\n",
       "      <td>6</td>\n",
       "      <td>0</td>\n",
       "      <td>3</td>\n",
       "      <td>0</td>\n",
       "      <td>1.0</td>\n",
       "      <td>0.840000</td>\n",
       "      <td>0.444444</td>\n",
       "      <td>1</td>\n",
       "      <td>26</td>\n",
       "      <td>3.368854</td>\n",
       "    </tr>\n",
       "  </tbody>\n",
       "</table>\n",
       "<p>5 rows × 94 columns</p>\n",
       "</div>"
      ],
      "text/plain": [
       "                        game_id   white_player  wn_pair  wn_outpost  \\\n",
       "0  https://lichess.org/mj97pdo9        mutdpro        0        0.00   \n",
       "1  https://lichess.org/1zhL4g8Y  DrNykterstein        0        0.12   \n",
       "2  https://lichess.org/1SfUD66e  DrNykterstein        0        0.00   \n",
       "3  https://lichess.org/WLkYFzcN     ARM-777777        0        0.00   \n",
       "4  https://lichess.org/Nd2A1c5E  DrNykterstein        0        0.00   \n",
       "\n",
       "   wn_repositioning  wn_mobility  wb_pair  wk_side_fianchetto  \\\n",
       "0          0.227137     2.276316        0                   0   \n",
       "1          0.949448     2.580000        0                   0   \n",
       "2          0.071607     2.217391        0                   0   \n",
       "3          0.000000     1.818182        0                   0   \n",
       "4          0.000000     3.777778        0                   0   \n",
       "\n",
       "   wq_side_fianchetto  wb_mobility  ...  num_direct_trades  \\\n",
       "0                   0     3.802632  ...                  5   \n",
       "1                   0     4.120000  ...                  5   \n",
       "2                   0     3.956522  ...                  5   \n",
       "3                   0     1.272727  ...                  3   \n",
       "4                   0     2.722222  ...                  6   \n",
       "\n",
       "   num_indirect_trades  num_direct_trades_white  num_indirect_trades_white  \\\n",
       "0                    1                        4                          0   \n",
       "1                    0                        2                          0   \n",
       "2                    1                        2                          1   \n",
       "3                    0                        1                          0   \n",
       "4                    0                        3                          0   \n",
       "\n",
       "   avg_time_between_direct_trade  exchanges_possible  king_squares_attacked  \\\n",
       "0                            1.0            0.840000               0.105263   \n",
       "1                            1.0            0.769231               0.000000   \n",
       "2                            1.0            0.272727               0.304348   \n",
       "3                            1.0            0.235294               0.727273   \n",
       "4                            1.0            0.840000               0.444444   \n",
       "\n",
       "   king_moves  king_moves_weighted  distance_from_king  \n",
       "0           0                    0            3.338161  \n",
       "1           0                    0            3.316993  \n",
       "2           0                    0            3.457792  \n",
       "3           1                   30            3.432459  \n",
       "4           1                   26            3.368854  \n",
       "\n",
       "[5 rows x 94 columns]"
      ]
     },
     "execution_count": 15,
     "metadata": {},
     "output_type": "execute_result"
    }
   ],
   "source": [
    "df.head()"
   ]
  },
  {
   "cell_type": "code",
   "execution_count": 14,
   "metadata": {},
   "outputs": [],
   "source": [
    "df.to_csv(\"magnus_nihal.csv\",index=False)"
   ]
  },
  {
   "cell_type": "code",
   "execution_count": null,
   "metadata": {},
   "outputs": [],
   "source": []
  }
 ],
 "metadata": {
  "kernelspec": {
   "display_name": "Python 3",
   "language": "python",
   "name": "python3"
  },
  "language_info": {
   "codemirror_mode": {
    "name": "ipython",
    "version": 3
   },
   "file_extension": ".py",
   "mimetype": "text/x-python",
   "name": "python",
   "nbconvert_exporter": "python",
   "pygments_lexer": "ipython3",
   "version": "3.8.2"
  }
 },
 "nbformat": 4,
 "nbformat_minor": 4
}
