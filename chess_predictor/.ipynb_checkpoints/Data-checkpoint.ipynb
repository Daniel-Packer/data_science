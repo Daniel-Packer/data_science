{
 "cells": [
  {
   "cell_type": "markdown",
   "metadata": {},
   "source": [
    "This is for\n",
    "- Pulling data from LiChess, making it into game_dicts, and saving it as a JSON\n",
    "- Loading data, extracting features into a dataframe, and saving it as a csv"
   ]
  },
  {
   "cell_type": "code",
   "execution_count": 3,
   "metadata": {},
   "outputs": [],
   "source": [
    "# Imports\n",
    "import functions as f\n",
    "import numpy as np\n",
    "import lichess.api\n",
    "import pandas as pd\n",
    "from importlib import reload\n",
    "import json"
   ]
  },
  {
   "cell_type": "code",
   "execution_count": 4,
   "metadata": {},
   "outputs": [],
   "source": [
    "# If you need to reload the functions\n",
    "f = reload(f)"
   ]
  },
  {
   "cell_type": "markdown",
   "metadata": {},
   "source": [
    "# Downloading"
   ]
  },
  {
   "cell_type": "code",
   "execution_count": null,
   "metadata": {
    "scrolled": true
   },
   "outputs": [],
   "source": [
    "# Type of games\n",
    "game_type = 'blitz'\n",
    "\n",
    "# How many games to read for each of them\n",
    "num_games = 1000\n",
    "\n",
    "# File name\n",
    "file_name = 'rosen_russian.json'\n",
    "\n",
    "rosen_data = f.get_dicts('EricRosen', num_games, game_type, f.SINGLE_PGN)\n",
    "\n",
    "russian_data = f.get_dicts('RussianBlizzard', num_games, game_type, f.SINGLE_PGN)\n",
    "\n",
    "# All data, filter out those that don't reach midgame\n",
    "all_data = [game_dict for game_dict in (rosen_data + russian_data) if game_dict['middle_game_index'] != None]\n",
    "\n",
    "# Save as JSON\n",
    "with open(file_name, 'w') as g:\n",
    "        json.dump(all_data, g)"
   ]
  },
  {
   "cell_type": "markdown",
   "metadata": {},
   "source": [
    "# Importing and getting features"
   ]
  },
  {
   "cell_type": "markdown",
   "metadata": {},
   "source": [
    "If the \"for\" loop hits any errors:\n",
    "- Note it\n",
    "- Check the index i\n",
    "- Continue the loop from the next index i"
   ]
  },
  {
   "cell_type": "code",
   "execution_count": 5,
   "metadata": {},
   "outputs": [],
   "source": [
    "game_dicts = json.load(open('rosen_russian.json'))"
   ]
  },
  {
   "cell_type": "code",
   "execution_count": 6,
   "metadata": {},
   "outputs": [],
   "source": [
    "features = []"
   ]
  },
  {
   "cell_type": "code",
   "execution_count": 7,
   "metadata": {},
   "outputs": [],
   "source": [
    "for i in range(0,len(game_dicts)):\n",
    "    game_dict = game_dicts[i]\n",
    "    features.append(f.get_features(game_dict))"
   ]
  },
  {
   "cell_type": "code",
   "execution_count": 8,
   "metadata": {},
   "outputs": [
    {
     "data": {
      "text/plain": [
       "1943"
      ]
     },
     "execution_count": 8,
     "metadata": {},
     "output_type": "execute_result"
    }
   ],
   "source": [
    "i"
   ]
  },
  {
   "cell_type": "code",
   "execution_count": 9,
   "metadata": {},
   "outputs": [
    {
     "data": {
      "text/plain": [
       "(1944,)"
      ]
     },
     "execution_count": 9,
     "metadata": {},
     "output_type": "execute_result"
    }
   ],
   "source": [
    "np.shape(features)"
   ]
  },
  {
   "cell_type": "code",
   "execution_count": 10,
   "metadata": {},
   "outputs": [],
   "source": [
    "df = pd.DataFrame(features)"
   ]
  },
  {
   "cell_type": "code",
   "execution_count": 16,
   "metadata": {},
   "outputs": [
    {
     "data": {
      "text/html": [
       "<div>\n",
       "<style scoped>\n",
       "    .dataframe tbody tr th:only-of-type {\n",
       "        vertical-align: middle;\n",
       "    }\n",
       "\n",
       "    .dataframe tbody tr th {\n",
       "        vertical-align: top;\n",
       "    }\n",
       "\n",
       "    .dataframe thead th {\n",
       "        text-align: right;\n",
       "    }\n",
       "</style>\n",
       "<table border=\"1\" class=\"dataframe\">\n",
       "  <thead>\n",
       "    <tr style=\"text-align: right;\">\n",
       "      <th></th>\n",
       "      <th>game_id</th>\n",
       "      <th>white_player</th>\n",
       "      <th>wn_pair</th>\n",
       "      <th>wn_outpost</th>\n",
       "      <th>wn_repositioning</th>\n",
       "      <th>wn_mobility</th>\n",
       "      <th>wb_pair</th>\n",
       "      <th>wk_side_fianchetto</th>\n",
       "      <th>wq_side_fianchetto</th>\n",
       "      <th>wb_mobility</th>\n",
       "      <th>...</th>\n",
       "      <th>num_direct_trades</th>\n",
       "      <th>num_indirect_trades</th>\n",
       "      <th>num_direct_trades_white</th>\n",
       "      <th>num_indirect_trades_white</th>\n",
       "      <th>avg_time_between_direct_trade</th>\n",
       "      <th>exchanges_possible</th>\n",
       "      <th>king_squares_attacked</th>\n",
       "      <th>king_moves</th>\n",
       "      <th>king_moves_weighted</th>\n",
       "      <th>distance_from_king</th>\n",
       "    </tr>\n",
       "  </thead>\n",
       "  <tbody>\n",
       "    <tr>\n",
       "      <th>0</th>\n",
       "      <td>https://lichess.org/KJ6NlzOz</td>\n",
       "      <td>EricRosen</td>\n",
       "      <td>0</td>\n",
       "      <td>0.000000</td>\n",
       "      <td>0.174031</td>\n",
       "      <td>2.620690</td>\n",
       "      <td>0</td>\n",
       "      <td>0</td>\n",
       "      <td>0</td>\n",
       "      <td>1.379310</td>\n",
       "      <td>...</td>\n",
       "      <td>3</td>\n",
       "      <td>0</td>\n",
       "      <td>2</td>\n",
       "      <td>0</td>\n",
       "      <td>1.0</td>\n",
       "      <td>0.481481</td>\n",
       "      <td>1.241379</td>\n",
       "      <td>1</td>\n",
       "      <td>22</td>\n",
       "      <td>3.203693</td>\n",
       "    </tr>\n",
       "    <tr>\n",
       "      <th>1</th>\n",
       "      <td>https://lichess.org/J7DB84rd</td>\n",
       "      <td>ibarelyknowtherules</td>\n",
       "      <td>0</td>\n",
       "      <td>0.000000</td>\n",
       "      <td>0.018956</td>\n",
       "      <td>0.000000</td>\n",
       "      <td>1</td>\n",
       "      <td>0</td>\n",
       "      <td>0</td>\n",
       "      <td>3.283333</td>\n",
       "      <td>...</td>\n",
       "      <td>3</td>\n",
       "      <td>0</td>\n",
       "      <td>2</td>\n",
       "      <td>0</td>\n",
       "      <td>1.0</td>\n",
       "      <td>0.250000</td>\n",
       "      <td>0.000000</td>\n",
       "      <td>0</td>\n",
       "      <td>0</td>\n",
       "      <td>3.473437</td>\n",
       "    </tr>\n",
       "    <tr>\n",
       "      <th>2</th>\n",
       "      <td>https://lichess.org/5eppQZDZ</td>\n",
       "      <td>EricRosen</td>\n",
       "      <td>0</td>\n",
       "      <td>0.428571</td>\n",
       "      <td>0.470635</td>\n",
       "      <td>1.628571</td>\n",
       "      <td>0</td>\n",
       "      <td>0</td>\n",
       "      <td>0</td>\n",
       "      <td>3.542857</td>\n",
       "      <td>...</td>\n",
       "      <td>5</td>\n",
       "      <td>0</td>\n",
       "      <td>3</td>\n",
       "      <td>0</td>\n",
       "      <td>1.5</td>\n",
       "      <td>0.535714</td>\n",
       "      <td>0.657143</td>\n",
       "      <td>0</td>\n",
       "      <td>0</td>\n",
       "      <td>3.555586</td>\n",
       "    </tr>\n",
       "    <tr>\n",
       "      <th>3</th>\n",
       "      <td>https://lichess.org/L9DC3KN3</td>\n",
       "      <td>EricRosen</td>\n",
       "      <td>0</td>\n",
       "      <td>0.000000</td>\n",
       "      <td>0.046737</td>\n",
       "      <td>3.692308</td>\n",
       "      <td>0</td>\n",
       "      <td>0</td>\n",
       "      <td>0</td>\n",
       "      <td>1.846154</td>\n",
       "      <td>...</td>\n",
       "      <td>3</td>\n",
       "      <td>0</td>\n",
       "      <td>1</td>\n",
       "      <td>0</td>\n",
       "      <td>1.0</td>\n",
       "      <td>0.571429</td>\n",
       "      <td>0.000000</td>\n",
       "      <td>0</td>\n",
       "      <td>0</td>\n",
       "      <td>3.516140</td>\n",
       "    </tr>\n",
       "    <tr>\n",
       "      <th>4</th>\n",
       "      <td>https://lichess.org/qhgTepGu</td>\n",
       "      <td>EricRosen</td>\n",
       "      <td>0</td>\n",
       "      <td>0.000000</td>\n",
       "      <td>0.000000</td>\n",
       "      <td>3.200000</td>\n",
       "      <td>0</td>\n",
       "      <td>0</td>\n",
       "      <td>0</td>\n",
       "      <td>3.333333</td>\n",
       "      <td>...</td>\n",
       "      <td>6</td>\n",
       "      <td>0</td>\n",
       "      <td>2</td>\n",
       "      <td>0</td>\n",
       "      <td>1.0</td>\n",
       "      <td>0.882353</td>\n",
       "      <td>0.066667</td>\n",
       "      <td>1</td>\n",
       "      <td>34</td>\n",
       "      <td>3.499168</td>\n",
       "    </tr>\n",
       "  </tbody>\n",
       "</table>\n",
       "<p>5 rows × 95 columns</p>\n",
       "</div>"
      ],
      "text/plain": [
       "                        game_id         white_player  wn_pair  wn_outpost  \\\n",
       "0  https://lichess.org/KJ6NlzOz            EricRosen        0    0.000000   \n",
       "1  https://lichess.org/J7DB84rd  ibarelyknowtherules        0    0.000000   \n",
       "2  https://lichess.org/5eppQZDZ            EricRosen        0    0.428571   \n",
       "3  https://lichess.org/L9DC3KN3            EricRosen        0    0.000000   \n",
       "4  https://lichess.org/qhgTepGu            EricRosen        0    0.000000   \n",
       "\n",
       "   wn_repositioning  wn_mobility  wb_pair  wk_side_fianchetto  \\\n",
       "0          0.174031     2.620690        0                   0   \n",
       "1          0.018956     0.000000        1                   0   \n",
       "2          0.470635     1.628571        0                   0   \n",
       "3          0.046737     3.692308        0                   0   \n",
       "4          0.000000     3.200000        0                   0   \n",
       "\n",
       "   wq_side_fianchetto  wb_mobility  ...  num_direct_trades  \\\n",
       "0                   0     1.379310  ...                  3   \n",
       "1                   0     3.283333  ...                  3   \n",
       "2                   0     3.542857  ...                  5   \n",
       "3                   0     1.846154  ...                  3   \n",
       "4                   0     3.333333  ...                  6   \n",
       "\n",
       "   num_indirect_trades  num_direct_trades_white  num_indirect_trades_white  \\\n",
       "0                    0                        2                          0   \n",
       "1                    0                        2                          0   \n",
       "2                    0                        3                          0   \n",
       "3                    0                        1                          0   \n",
       "4                    0                        2                          0   \n",
       "\n",
       "   avg_time_between_direct_trade  exchanges_possible  king_squares_attacked  \\\n",
       "0                            1.0            0.481481               1.241379   \n",
       "1                            1.0            0.250000               0.000000   \n",
       "2                            1.5            0.535714               0.657143   \n",
       "3                            1.0            0.571429               0.000000   \n",
       "4                            1.0            0.882353               0.066667   \n",
       "\n",
       "   king_moves  king_moves_weighted  distance_from_king  \n",
       "0           1                   22            3.203693  \n",
       "1           0                    0            3.473437  \n",
       "2           0                    0            3.555586  \n",
       "3           0                    0            3.516140  \n",
       "4           1                   34            3.499168  \n",
       "\n",
       "[5 rows x 95 columns]"
      ]
     },
     "execution_count": 16,
     "metadata": {},
     "output_type": "execute_result"
    }
   ],
   "source": [
    "df.head()"
   ]
  },
  {
   "cell_type": "code",
   "execution_count": 12,
   "metadata": {},
   "outputs": [
    {
     "data": {
      "text/plain": [
       "Index(['game_id', 'white_player', 'wn_pair', 'wn_outpost', 'wn_repositioning',\n",
       "       'wn_mobility', 'wb_pair', 'wk_side_fianchetto', 'wq_side_fianchetto',\n",
       "       'wb_mobility', 'wlong_diagonal_control', 'wopposite_color_b',\n",
       "       'b_p_coherency', 'wn_b_trade_pref', 'wn_b_develop_pref', 'wopen_files',\n",
       "       'wsemi_open_files', 'wback_rank_r', 'wdoubled_r', 'wdoubled_with_q',\n",
       "       'wr_mobility', 'wq_aggression', 'wq_fianchetto', 'wq_invasion',\n",
       "       'wq_mobility', 'A', 'B', 'C', 'D', 'E', 'A#', 'B#', 'C#', 'D#', 'E#',\n",
       "       'w_development_side', 'wc_earliness', 'wc_side', 'wc_relative',\n",
       "       'wc_artificial', 'wc_development', 'wp_king_protection',\n",
       "       'wp_center_strength', 'wp_doubled', 'wp_isolated', 'wp_backward',\n",
       "       'wp_tension', 'wp_color', 'wp_forwardness', 'wp_guarded_forwardness',\n",
       "       'wp_en_passant', 'wp_storming', 'wp_chain_count', 'wp_longest_chain',\n",
       "       'wp_non_queen', 'wb_rank', 'wb_file', 'wb_density', 'wb_attack',\n",
       "       'wb_pawn_pref', 'wb_minor_pref', 'wb_rook_pref', 'wb_queen_pref',\n",
       "       'wcl_MLL', 'wcl_ML', 'wcl_MM', 'wcl_MR', 'wcl_MRR', 'wcl_BL', 'wcl_BM',\n",
       "       'wcl_BR', 'discovered_checks_set_up', 'discovered_checks_given',\n",
       "       'discovered_checks_chances', 'P_moves', 'N_moves', 'B_moves', 'R_moves',\n",
       "       'Q_moves', 'K_moves', 'pins_given', 'time_pinned', 'fork_counter',\n",
       "       'pieces_guarded', 'num_trades', 'num_direct_trades',\n",
       "       'num_indirect_trades', 'num_direct_trades_white',\n",
       "       'num_indirect_trades_white', 'avg_time_between_direct_trade',\n",
       "       'exchanges_possible', 'king_squares_attacked', 'king_moves',\n",
       "       'king_moves_weighted', 'distance_from_king'],\n",
       "      dtype='object')"
      ]
     },
     "execution_count": 12,
     "metadata": {},
     "output_type": "execute_result"
    }
   ],
   "source": [
    "df.columns"
   ]
  },
  {
   "cell_type": "code",
   "execution_count": 17,
   "metadata": {},
   "outputs": [],
   "source": [
    "df.to_csv(\"rosen_russian.csv\",index=False)"
   ]
  },
  {
   "cell_type": "code",
   "execution_count": null,
   "metadata": {},
   "outputs": [],
   "source": []
  }
 ],
 "metadata": {
  "kernelspec": {
   "display_name": "Python 3",
   "language": "python",
   "name": "python3"
  },
  "language_info": {
   "codemirror_mode": {
    "name": "ipython",
    "version": 3
   },
   "file_extension": ".py",
   "mimetype": "text/x-python",
   "name": "python",
   "nbconvert_exporter": "python",
   "pygments_lexer": "ipython3",
   "version": "3.8.2"
  }
 },
 "nbformat": 4,
 "nbformat_minor": 4
}
