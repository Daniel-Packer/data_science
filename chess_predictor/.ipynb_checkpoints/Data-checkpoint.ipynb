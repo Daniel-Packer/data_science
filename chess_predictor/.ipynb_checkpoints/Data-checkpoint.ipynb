{
 "cells": [
  {
   "cell_type": "markdown",
   "metadata": {},
   "source": [
    "This is for\n",
    "- Pulling data from LiChess, making it into game_dicts, and saving it as a JSON\n",
    "- Loading data, extracting features into a dataframe, and saving it as a csv"
   ]
  },
  {
   "cell_type": "code",
   "execution_count": 2,
   "metadata": {},
   "outputs": [],
   "source": [
    "# Imports\n",
    "import functions as f\n",
    "import numpy as np\n",
    "import lichess.api\n",
    "import pandas as pd\n",
    "from importlib import reload\n",
    "import json"
   ]
  },
  {
   "cell_type": "code",
   "execution_count": 17,
   "metadata": {},
   "outputs": [],
   "source": [
    "# If you need to reload the functions\n",
    "f = reload(f)"
   ]
  },
  {
   "cell_type": "markdown",
   "metadata": {},
   "source": [
    "# Downloading"
   ]
  },
  {
   "cell_type": "code",
   "execution_count": 7,
   "metadata": {
    "scrolled": true
   },
   "outputs": [],
   "source": [
    "# Type of games\n",
    "game_type = 'bullet'\n",
    "\n",
    "# How many games to read for each of them\n",
    "num_games = 1000\n",
    "\n",
    "# File name\n",
    "file_name = 'magnus_nihal.json'\n",
    "\n",
    "# Magnus\n",
    "#magnus_generator = lichess.api.user_games('DrNykterstein', max=num_games, perfType=game_type)\n",
    "#magnus_data = [f.get_gameDict(next(magnus_generator)) for i in range(num_games)]\n",
    "magnus_data = f.get_dicts('DrNykterstein', num_games, game_type, f.SINGLE_PGN)\n",
    "\n",
    "# Nihal\n",
    "nihal_data = f.get_dicts('nihalsarin2004', num_games, game_type, f.SINGLE_PGN)\n",
    "\n",
    "# All data, filter out those that don't reach midgame\n",
    "all_data = [game_dict for game_dict in (magnus_data + nihal_data) if game_dict['middle_game_index'] != None]\n",
    "\n",
    "# Save as JSON\n",
    "with open(file_name, 'w') as g:\n",
    "        json.dump(all_data, g)"
   ]
  },
  {
   "cell_type": "markdown",
   "metadata": {},
   "source": [
    "# Importing and getting features"
   ]
  },
  {
   "cell_type": "code",
   "execution_count": 13,
   "metadata": {},
   "outputs": [],
   "source": [
    "game_dicts = json.load(open('magnus_nihal.json'))"
   ]
  },
  {
   "cell_type": "code",
   "execution_count": 18,
   "metadata": {},
   "outputs": [
    {
     "name": "stdout",
     "output_type": "stream",
     "text": [
      "d check set  51\n",
      "d check set  52\n",
      "d check chance:  35\n",
      "d check set  35\n",
      "d check set  25\n"
     ]
    }
   ],
   "source": [
    "features = [f.get_features(game_dict) for game_dict in game_dicts]"
   ]
  },
  {
   "cell_type": "code",
   "execution_count": 19,
   "metadata": {},
   "outputs": [],
   "source": [
    "df = pd.DataFrame(features)"
   ]
  },
  {
   "cell_type": "code",
   "execution_count": 20,
   "metadata": {},
   "outputs": [
    {
     "data": {
      "text/plain": [
       "Index(['game_id', 'white_player', 'wn_pair', 'wn_outpost', 'wn_repositioning',\n",
       "       'wn_mobility', 'wb_pair', 'wk_side_fianchetto', 'wq_side_fianchetto',\n",
       "       'wb_mobility', 'wlong_diagonal_control', 'wopposite_color_b',\n",
       "       'b_p_coherency', 'wn_b_trade_pref', 'wn_b_develop_pref', 'wopen_files',\n",
       "       'wsemi_open_files', 'wback_rank_r', 'wdoubled_r', 'wdoubled_with_q',\n",
       "       'wr_mobility', 'wq_aggression', 'wq_fianchetto', 'wq_invasion',\n",
       "       'wq_mobility', 'A', 'B', 'C', 'D', 'A#', 'B#', 'C#', 'D#', 'E#',\n",
       "       'w_development_side', 'wc_earliness', 'wc_side', 'wc_relative',\n",
       "       'wc_artificial', 'wc_development', 'wp_king_protection',\n",
       "       'wp_center_strength', 'wp_doubled', 'wp_isolated', 'wp_backward',\n",
       "       'wp_tension', 'wp_color', 'wp_forwardness', 'wp_guarded_forwardness',\n",
       "       'wp_en_passant', 'wp_storming', 'wp_chain_count', 'wp_longest_chain',\n",
       "       'wp_non_queen', 'wb_rank', 'wb_file', 'wb_density', 'wb_attack',\n",
       "       'wb_pawn_pref', 'wb_minor_pref', 'wb_rook_pref', 'wb_queen_pref',\n",
       "       'wcl_MLL', 'wcl_ML', 'wcl_MM', 'wcl_MR', 'wcl_MRR', 'wcl_BL', 'wcl_BM',\n",
       "       'wcl_BR', 'discovered_checks_set_up', 'discovered_checks_given',\n",
       "       'discovered_checks_chances', 'P_moves', 'N_moves', 'B_moves', 'R_moves',\n",
       "       'Q_moves', 'K_moves', 'pins_given', 'time_pinned', 'fork_counter',\n",
       "       'pieces_guarded', 'num_trades', 'num_direct_trades',\n",
       "       'num_indirect_trades', 'num_direct_trades_white',\n",
       "       'num_indirect_trades_white', 'avg_time_between_direct_trade',\n",
       "       'exchanges_possible', 'king_squares_attacked', 'king_moves',\n",
       "       'king_moves_weighted', 'distance_from_king'],\n",
       "      dtype='object')"
      ]
     },
     "execution_count": 20,
     "metadata": {},
     "output_type": "execute_result"
    }
   ],
   "source": [
    "df.columns"
   ]
  },
  {
   "cell_type": "code",
   "execution_count": null,
   "metadata": {},
   "outputs": [],
   "source": []
  }
 ],
 "metadata": {
  "kernelspec": {
   "display_name": "Python 3",
   "language": "python",
   "name": "python3"
  },
  "language_info": {
   "codemirror_mode": {
    "name": "ipython",
    "version": 3
   },
   "file_extension": ".py",
   "mimetype": "text/x-python",
   "name": "python",
   "nbconvert_exporter": "python",
   "pygments_lexer": "ipython3",
   "version": "3.8.2"
  }
 },
 "nbformat": 4,
 "nbformat_minor": 4
}
