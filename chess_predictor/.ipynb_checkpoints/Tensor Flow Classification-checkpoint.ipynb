{
 "cells": [
  {
   "cell_type": "markdown",
   "metadata": {},
   "source": [
    "Will download ~1000 games from Carlsen and Nihal and train a neural net to guess if the white player is Carlsen/Naka/Other\n",
    "The neural net can just be adapted from the tutorial notebook on classification\n",
    "To make the input data, adapted from a chess pgn file, a vector, I'll:\n",
    "- Represent each move as a vector\n",
    "- Only look at the first say 50 moves (tweak this number depending on game length): maybe make the first number in the vector a 0/1 to indicate if this move occured, I guess also add one for captures\n",
    "- Each move will be 0/1s to one-hot pawn/knight/bishop/rook/queen/king, the starting square as (x,y)/8, and the ending square\n",
    "- Ignore promotions, and code castling as the king moving 2 squares (ignore the rook)\n",
    "\n",
    "Or maybe for the first try I'll just code the ending square of moves, since figuring out the starting one is tricky\n",
    "\n",
    "So, each move is a length 10 vector with entries [[did the move happen],[was there a capture],[file moved to],[rank moved to],[pawn],[knight],[bishop],[rook],[queen],[king]]\n",
    "\n",
    "Where the last 6 are one-hots, and the rank/file are given as 1-8 divided by 8\n",
    "\n",
    "Magus: 1, Nihal: 2, Other: 0"
   ]
  },
  {
   "cell_type": "code",
   "execution_count": 1,
   "metadata": {},
   "outputs": [],
   "source": [
    "import tensorflow as tf\n",
    "from tensorflow import keras\n",
    "\n",
    "import numpy as np\n",
    "import lichess.api\n",
    "import pandas as pd"
   ]
  },
  {
   "cell_type": "markdown",
   "metadata": {},
   "source": [
    "Parameters"
   ]
  },
  {
   "cell_type": "code",
   "execution_count": 2,
   "metadata": {},
   "outputs": [],
   "source": [
    "# Number of moves to read\n",
    "num_moves = 20\n",
    "\n",
    "# Names of their accounts\n",
    "magnus = 'DrNykterstein'\n",
    "nihal = 'nihalsarin2004'\n",
    "\n",
    "# How many games to read for each of them\n",
    "num_games = 1000"
   ]
  },
  {
   "cell_type": "markdown",
   "metadata": {},
   "source": [
    "Functions to process games"
   ]
  },
  {
   "cell_type": "code",
   "execution_count": 3,
   "metadata": {},
   "outputs": [],
   "source": [
    "# File dictionary\n",
    "file_dict = {'a':1,'b':2,'c':3,'d':4,'e':5,'f':6,'g':7,'h':8}\n",
    "\n",
    "def one_hot(move):\n",
    "    piece = move[-1]\n",
    "    code = np.zeros(6)\n",
    "    if piece == 'P':\n",
    "        code[0] = 1\n",
    "    elif piece == 'N':\n",
    "        code[1] = 1\n",
    "    elif piece == 'B':\n",
    "        code[2] = 1\n",
    "    elif piece == 'R':\n",
    "        code[3] = 1\n",
    "    elif piece == 'Q':\n",
    "        code[4] = 1\n",
    "    elif piece == 'K':\n",
    "        code[5] = 1\n",
    "    return np.concatenate([move[:-1],code])\n",
    "\n",
    "def process_game(game):\n",
    "    # Load the game and moves (format into a list)\n",
    "    moves = game['moves'].split()\n",
    "    \n",
    "    # Form an array representing the moves, with length 2*num_moves\n",
    "    moves_array = np.zeros([2*num_moves,10])\n",
    "    for i in range(min(len(moves),2*num_moves)):\n",
    "        move = moves[i]\n",
    "        \n",
    "        # Ignore the bit of it about check or checkmate\n",
    "        if ('+' in move) or ('#' in move):\n",
    "            move = move[:-1]\n",
    "        \n",
    "        # Also ignore the part about promotion\n",
    "        if '=' in move:\n",
    "            move = move[:-2]\n",
    "        \n",
    "        if move == 'O-O':\n",
    "            # Castle short\n",
    "            if i % 2 == 0:\n",
    "                # White\n",
    "                move_vect = [1, 0, 7/8, 1/8, 'K']\n",
    "            else:\n",
    "                # Black\n",
    "                move_vect = [1, 0, 7/8, 8/8, 'K']\n",
    "                \n",
    "        elif move == 'O-O-O':\n",
    "            # Castle long\n",
    "            if i % 2 == 0:\n",
    "                # White\n",
    "                move_vect = [1, 0, 3/8, 1/8, 'K']\n",
    "            else:\n",
    "                # Black\n",
    "                move_vect = [1, 0, 3/8, 8/8, 'K']\n",
    "                \n",
    "        else:\n",
    "            # Regular move\n",
    "            rank = int(move[-1])\n",
    "            file = file_dict[move[-2]]\n",
    "            capture = int('x' in move)\n",
    "            \n",
    "            # Recognize pawns\n",
    "            piece = move[0]\n",
    "            if not move[0].isupper():\n",
    "                piece = 'P'\n",
    "            \n",
    "            # Form the vector\n",
    "            # [move capture file rank piece]\n",
    "            move_vect = [1, capture, file/8, rank/8, piece]\n",
    "            \n",
    "            moves_array[i] = one_hot(move_vect)\n",
    "    \n",
    "    # Read who played white: label is either Magnus, Nihal, or Other\n",
    "    white = game['players']['white']['user']['name']\n",
    "    if white == magnus:\n",
    "        white = 1\n",
    "    elif white == nihal:\n",
    "        white = 2\n",
    "    else:\n",
    "        white = 0\n",
    "    \n",
    "    return (white, moves_array)"
   ]
  },
  {
   "cell_type": "markdown",
   "metadata": {},
   "source": [
    "Load the data and save to .csv's"
   ]
  },
  {
   "cell_type": "code",
   "execution_count": 97,
   "metadata": {
    "scrolled": true
   },
   "outputs": [],
   "source": [
    "games = np.zeros([num_games * 2, num_moves * 2 * 10])\n",
    "labels = np.zeros(num_games * 2)\n",
    "\n",
    "magnus_generator = lichess.api.user_games('DrNykterstein', max=num_games, perfType='bullet')\n",
    "for i in range(num_games):\n",
    "    game = next(magnus_generator)\n",
    "    label, array = process_game(game)\n",
    "    labels[i] = label\n",
    "    games[i] = array.reshape(1,-1)\n",
    "    \n",
    "nihal_generator = lichess.api.user_games(nihal, max=num_games, perfType='bullet')\n",
    "for i in range(num_games,2*num_games):\n",
    "    game = next(nihal_generator)\n",
    "    label, array = process_game(game)\n",
    "    labels[i] = label\n",
    "    games[i] = array.reshape(1,-1)\n",
    "\n",
    "pd.DataFrame(labels).to_csv('labels.csv',index=False)\n",
    "pd.DataFrame(games).to_csv('games.csv',index=False)"
   ]
  },
  {
   "cell_type": "code",
   "execution_count": 5,
   "metadata": {},
   "outputs": [],
   "source": [
    "magnus_generator = lichess.api.user_games('DrNykterstein', max=10, perfType='bullet')"
   ]
  },
  {
   "cell_type": "code",
   "execution_count": 6,
   "metadata": {},
   "outputs": [],
   "source": [
    "game = next(magnus_generator)"
   ]
  },
  {
   "cell_type": "markdown",
   "metadata": {},
   "source": [
    "## Now the TensorFlow"
   ]
  },
  {
   "cell_type": "code",
   "execution_count": 4,
   "metadata": {},
   "outputs": [],
   "source": [
    "data = pd.read_csv('games.csv')\n",
    "labels = pd.read_csv('labels.csv')\n",
    "\n",
    "data_copy = data.copy()\n",
    "labels_copy = labels.copy()"
   ]
  },
  {
   "cell_type": "code",
   "execution_count": 5,
   "metadata": {},
   "outputs": [],
   "source": [
    "train_data = data_copy.sample(frac=0.8,random_state=908)\n",
    "train_labels = labels_copy.sample(frac=0.8,random_state=908)\n",
    "\n",
    "test_data = data_copy.drop(train_data.index)\n",
    "test_labels = labels_copy.drop(train_data.index)\n",
    "\n",
    "train_data = train_data.to_numpy()\n",
    "train_labels = train_labels.to_numpy()\n",
    "test_data = test_data.to_numpy()\n",
    "test_labels = test_labels.to_numpy()"
   ]
  },
  {
   "cell_type": "code",
   "execution_count": 6,
   "metadata": {},
   "outputs": [
    {
     "name": "stdout",
     "output_type": "stream",
     "text": [
      "Epoch 1/10\n",
      "50/50 [==============================] - 0s 3ms/step - loss: 1.0589 - accuracy: 0.4656\n",
      "Epoch 2/10\n",
      "50/50 [==============================] - 0s 3ms/step - loss: 0.9485 - accuracy: 0.5612\n",
      "Epoch 3/10\n",
      "50/50 [==============================] - 0s 4ms/step - loss: 0.8620 - accuracy: 0.5981\n",
      "Epoch 4/10\n",
      "50/50 [==============================] - 0s 3ms/step - loss: 0.7647 - accuracy: 0.6625\n",
      "Epoch 5/10\n",
      "50/50 [==============================] - 0s 3ms/step - loss: 0.6608 - accuracy: 0.7194\n",
      "Epoch 6/10\n",
      "50/50 [==============================] - 0s 3ms/step - loss: 0.5689 - accuracy: 0.7619\n",
      "Epoch 7/10\n",
      "50/50 [==============================] - 0s 3ms/step - loss: 0.4874 - accuracy: 0.8138\n",
      "Epoch 8/10\n",
      "50/50 [==============================] - 0s 3ms/step - loss: 0.3215 - accuracy: 0.8831\n",
      "Epoch 9/10\n",
      "50/50 [==============================] - 0s 3ms/step - loss: 0.1959 - accuracy: 0.9394\n",
      "Epoch 10/10\n",
      "50/50 [==============================] - ETA: 0s - loss: 0.1229 - accuracy: 0.96 - 0s 3ms/step - loss: 0.1233 - accuracy: 0.9650\n"
     ]
    },
    {
     "data": {
      "text/plain": [
       "<tensorflow.python.keras.callbacks.History at 0x203a3ba1b20>"
      ]
     },
     "execution_count": 6,
     "metadata": {},
     "output_type": "execute_result"
    }
   ],
   "source": [
    "model = keras.Sequential([\n",
    "    keras.layers.Dense(128, activation='relu'),\n",
    "    keras.layers.Dense(128, activation='relu'),\n",
    "    keras.layers.Dense(128, activation='relu'),\n",
    "    keras.layers.Dense(3)\n",
    "])\n",
    "\n",
    "model.compile(optimizer='adam',\n",
    "              loss=tf.keras.losses.SparseCategoricalCrossentropy(from_logits=True),\n",
    "              metrics=['accuracy'])\n",
    "\n",
    "model.fit(train_data, train_labels, epochs=10)"
   ]
  },
  {
   "cell_type": "code",
   "execution_count": 7,
   "metadata": {},
   "outputs": [
    {
     "name": "stdout",
     "output_type": "stream",
     "text": [
      "13/13 - 0s - loss: 1.6271 - accuracy: 0.5575\n"
     ]
    },
    {
     "data": {
      "text/plain": [
       "[1.6270643472671509, 0.5575000047683716]"
      ]
     },
     "execution_count": 7,
     "metadata": {},
     "output_type": "execute_result"
    }
   ],
   "source": [
    "model.evaluate(test_data, test_labels, verbose=2)"
   ]
  },
  {
   "cell_type": "markdown",
   "metadata": {},
   "source": [
    "### Sanity Checks"
   ]
  },
  {
   "cell_type": "markdown",
   "metadata": {},
   "source": [
    "Let's try random guessing instead"
   ]
  },
  {
   "cell_type": "code",
   "execution_count": 60,
   "metadata": {},
   "outputs": [
    {
     "name": "stdout",
     "output_type": "stream",
     "text": [
      "Random guesses get a fraction 0.292500 right\n"
     ]
    }
   ],
   "source": [
    "guesses = np.random.randint(3,size=len(test_labels))\n",
    "\n",
    "right = 0\n",
    "for i in range(len(test_labels)):\n",
    "    if test_labels[i] == guesses[i]:\n",
    "        right = right + 1\n",
    "        \n",
    "print('Random guesses get a fraction %f right' % (right/len(guesses)))"
   ]
  },
  {
   "cell_type": "markdown",
   "metadata": {},
   "source": [
    "Or always guessing 'Other' (0)"
   ]
  },
  {
   "cell_type": "code",
   "execution_count": 61,
   "metadata": {},
   "outputs": [
    {
     "name": "stdout",
     "output_type": "stream",
     "text": [
      "Guessing 'Other' gets a fraction 0.515000 right\n"
     ]
    }
   ],
   "source": [
    "right = test_labels.tolist().count([0])\n",
    "\n",
    "print(\"Guessing 'Other' gets a fraction %f right\" % (right/len(guesses)))"
   ]
  },
  {
   "cell_type": "markdown",
   "metadata": {},
   "source": [
    "Meanwhile, here's the breakdown of our program's guesses"
   ]
  },
  {
   "cell_type": "code",
   "execution_count": 62,
   "metadata": {},
   "outputs": [
    {
     "data": {
      "text/html": [
       "<div>\n",
       "<style scoped>\n",
       "    .dataframe tbody tr th:only-of-type {\n",
       "        vertical-align: middle;\n",
       "    }\n",
       "\n",
       "    .dataframe tbody tr th {\n",
       "        vertical-align: top;\n",
       "    }\n",
       "\n",
       "    .dataframe thead th {\n",
       "        text-align: right;\n",
       "    }\n",
       "</style>\n",
       "<table border=\"1\" class=\"dataframe\">\n",
       "  <thead>\n",
       "    <tr style=\"text-align: right;\">\n",
       "      <th></th>\n",
       "      <th>Counts</th>\n",
       "    </tr>\n",
       "  </thead>\n",
       "  <tbody>\n",
       "    <tr>\n",
       "      <th>Other</th>\n",
       "      <td>239</td>\n",
       "    </tr>\n",
       "    <tr>\n",
       "      <th>Magnus</th>\n",
       "      <td>98</td>\n",
       "    </tr>\n",
       "    <tr>\n",
       "      <th>Nihal</th>\n",
       "      <td>63</td>\n",
       "    </tr>\n",
       "  </tbody>\n",
       "</table>\n",
       "</div>"
      ],
      "text/plain": [
       "        Counts\n",
       "Other      239\n",
       "Magnus      98\n",
       "Nihal       63"
      ]
     },
     "execution_count": 62,
     "metadata": {},
     "output_type": "execute_result"
    }
   ],
   "source": [
    "guesses = [np.argmax(weights) for weights in model.predict(test_data)]\n",
    "df = pd.DataFrame(guesses,columns=['Guess'])\n",
    "guess_frequencies = pd.DataFrame(df.Guess.value_counts().values,index=['Other','Magnus','Nihal'],columns=['Counts'])\n",
    "guess_frequencies"
   ]
  },
  {
   "cell_type": "markdown",
   "metadata": {},
   "source": [
    "How would it fare if we did random guesses with the above frequencies?"
   ]
  },
  {
   "cell_type": "code",
   "execution_count": 63,
   "metadata": {},
   "outputs": [
    {
     "name": "stdout",
     "output_type": "stream",
     "text": [
      "Weighted random guesses get a fraction 0.392500 right\n"
     ]
    }
   ],
   "source": [
    "n = int(guess_frequencies.sum())\n",
    "\n",
    "guesses = np.random.choice([0,1,2],size=len(test_labels), p=list(guess_frequencies.Counts/n))\n",
    "\n",
    "right = 0\n",
    "for i in range(len(test_labels)):\n",
    "    if test_labels[i] == guesses[i]:\n",
    "        right = right + 1\n",
    "        \n",
    "print('Weighted random guesses get a fraction %f right' % (right/len(guesses)))"
   ]
  },
  {
   "cell_type": "markdown",
   "metadata": {},
   "source": [
    "### Confusion Matrix"
   ]
  },
  {
   "cell_type": "markdown",
   "metadata": {},
   "source": [
    "Plotting code adapted from https://matplotlib.org/3.1.1/gallery/images_contours_and_fields/image_annotated_heatmap.html"
   ]
  },
  {
   "cell_type": "code",
   "execution_count": 64,
   "metadata": {},
   "outputs": [],
   "source": [
    "import sklearn\n",
    "import matplotlib.pyplot as plt"
   ]
  },
  {
   "cell_type": "code",
   "execution_count": 69,
   "metadata": {},
   "outputs": [],
   "source": [
    "guesses = [np.argmax(weights) for weights in model.predict(test_data)]\n",
    "actual = test_labels\n",
    "\n",
    "labels_num = [0,1,2]\n",
    "labels = ['Other','Magnus','Nihal']\n",
    "\n",
    "c_matrix = sklearn.metrics.confusion_matrix(actual,guesses,labels = labels_num)"
   ]
  },
  {
   "cell_type": "code",
   "execution_count": 70,
   "metadata": {},
   "outputs": [
    {
     "data": {
      "image/png": "[encoded data removed]",
      "text/plain": [
       "<Figure size 432x288 with 2 Axes>"
      ]
     },
     "metadata": {
      "needs_background": "light"
     },
     "output_type": "display_data"
    }
   ],
   "source": [
    "fig, ax = plt.subplots()\n",
    "im = ax.imshow(c_matrix)\n",
    "\n",
    "# We want to show all ticks...\n",
    "ax.set_xticks(np.arange(len(labels)))\n",
    "ax.set_yticks(np.arange(len(labels)))\n",
    "# ... and label them with the respective list entries\n",
    "ax.set_xticklabels(labels)\n",
    "ax.set_yticklabels(labels)\n",
    "\n",
    "# Axes labels\n",
    "plt.ylabel('Actual')\n",
    "plt.xlabel('Predicted')\n",
    "\n",
    "# Loop over data dimensions and create text annotations.\n",
    "for i in range(len(labels)):\n",
    "    for j in range(len(labels)):\n",
    "        text = ax.text(j, i, c_matrix[i, j],\n",
    "                       ha=\"center\", va=\"center\", color=\"w\")\n",
    "\n",
    "fig.colorbar(im)\n",
    "        \n",
    "ax.set_title(\"Confusion matrix\")\n",
    "fig.tight_layout()\n",
    "plt.show()"
   ]
  },
  {
   "cell_type": "code",
   "execution_count": null,
   "metadata": {},
   "outputs": [],
   "source": []
  }
 ],
 "metadata": {
  "kernelspec": {
   "display_name": "Python 3",
   "language": "python",
   "name": "python3"
  },
  "language_info": {
   "codemirror_mode": {
    "name": "ipython",
    "version": 3
   },
   "file_extension": ".py",
   "mimetype": "text/x-python",
   "name": "python",
   "nbconvert_exporter": "python",
   "pygments_lexer": "ipython3",
   "version": "3.7.6"
  }
 },
 "nbformat": 4,
 "nbformat_minor": 4
}
